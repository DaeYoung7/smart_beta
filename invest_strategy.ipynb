{
 "cells": [
  {
   "cell_type": "code",
   "execution_count": 216,
   "metadata": {},
   "outputs": [],
   "source": [
    "import numpy as np\n",
    "import pandas as pd\n",
    "import pandas_datareader as pdr\n",
    "import datetime\n",
    "import matplotlib.pyplot as plt\n",
    "import seaborn as sns"
   ]
  },
  {
   "cell_type": "code",
   "execution_count": 260,
   "metadata": {},
   "outputs": [],
   "source": [
    "df = pd.read_csv(\"../../data/kosdaq/price.csv\", index_col='date', parse_dates=True)\n",
    "sn = pd.read_csv(\"../../data/kosdaq/share_number.csv\", index_col='date', parse_dates=True)\n",
    "pm = pd.read_csv(\"../../data/kosdaq/price_mod.csv\", index_col = 'date', parse_dates = True)\n",
    "\n",
    "# quality\n",
    "gp_t = pd.read_csv(\"../../data/kosdaq/gross_profit.csv\", index_col='date', parse_dates=True)\n",
    "ast_t = pd.read_csv(\"../../data/kosdaq/asset.csv\", index_col='date', parse_dates=True)\n",
    "lb_t = pd.read_csv(\"../../data/kosdaq/liability.csv\", index_col = 'date', parse_dates = True)\n",
    "cf_t = pd.read_csv(\"../../data/kosdaq/cashflow.csv\", index_col = 'date', parse_dates = True)\n",
    "sl_t = pd.read_csv(\"../../data/kosdaq/sales.csv\", index_col = 'date', parse_dates = True)\n",
    "\n",
    "# value\n",
    "per_t = pd.read_csv(\"../../data/kosdaq/per.csv\", index_col = 'date', parse_dates = True)\n",
    "pbr_t = pd.read_csv(\"../../data/kosdaq/pbr.csv\", index_col = 'date', parse_dates = True)\n",
    "psr_t = pd.read_csv(\"../../data/kosdaq/psr.csv\", index_col = 'date', parse_dates = True)\n",
    "pcr_t = pd.read_csv(\"../../data/kosdaq/pcr.csv\", index_col = 'date', parse_dates = True)\n",
    "\n",
    "# 거래정지\n",
    "suspension = pd.read_csv(\"../../data/kosdaq/suspension.csv\", index_col=\"date\", parse_dates=True, low_memory=False)"
   ]
  },
  {
   "cell_type": "code",
   "execution_count": 261,
   "metadata": {},
   "outputs": [],
   "source": [
    "# 중국기업 제외\n",
    "chinese = ['A900110', 'A900120', 'A900070', 'A900080', 'A900250', 'A900260', 'A900270', 'A900280', \\\n",
    "           'A900290', 'A900300', 'A900310', 'A900340', 'A900090', 'A060240']\n",
    "df.drop(chinese, axis=1, inplace=True)\n",
    "sn.drop(chinese, axis=1, inplace=True)\n",
    "pm.drop(chinese, axis=1, inplace=True)\n",
    "gp_t.drop(chinese, axis=1, inplace=True)\n",
    "ast_t.drop(chinese, axis=1, inplace=True)\n",
    "lb_t.drop(chinese, axis=1, inplace=True)\n",
    "cf_t.drop(chinese, axis=1, inplace=True)\n",
    "sl_t.drop(chinese, axis=1, inplace=True)\n",
    "per_t.drop(chinese, axis=1, inplace=True)\n",
    "pbr_t.drop(chinese, axis=1, inplace=True)\n",
    "psr_t.drop(chinese, axis=1, inplace=True)\n",
    "pcr_t.drop(chinese, axis=1, inplace=True)\n",
    "suspension.drop(chinese, axis=1, inplace=True)"
   ]
  },
  {
   "cell_type": "code",
   "execution_count": 262,
   "metadata": {},
   "outputs": [],
   "source": [
    "# 거래정지 처리\n",
    "suspension.index = suspension.index + pd.tseries.offsets.MonthEnd(0)\n",
    "m_suspension_mask = suspension.groupby('date').last().isnull()"
   ]
  },
  {
   "cell_type": "code",
   "execution_count": 263,
   "metadata": {},
   "outputs": [],
   "source": [
    "m = 15\n",
    "\n",
    "market_cap = df * sn\n",
    "market_cap.index = market_cap.index + pd.tseries.offsets.MonthEnd(0)\n",
    "m_cap = market_cap.groupby('date').last()\n",
    "\n",
    "pm.index = pm.index + pd.tseries.offsets.MonthEnd(0)\n",
    "m_pm = pm.groupby('date').last()\n",
    "m_ret = (m_pm.fillna(-1) / m_pm.shift(1)).clip(0, 10) - 1\n",
    "\n",
    "gp = pd.DataFrame(index=m_ret.index).join(gp_t).shift(m)\n",
    "ast = pd.DataFrame(index=m_ret.index).join(ast_t).shift(m)\n",
    "lb = pd.DataFrame(index=m_ret.index).join(lb_t).shift(m)\n",
    "cf = pd.DataFrame(index=m_ret.index).join(cf_t).shift(m)\n",
    "sl = pd.DataFrame(index=m_ret.index).join(sl_t).shift(m)\n",
    "\n",
    "df.index = df.index + pd.tseries.offsets.MonthEnd(0)\n",
    "m_df = df.groupby('date').last()\n",
    "\n",
    "per_t.index = m_df.index\n",
    "pbr_t.index = m_df.index\n",
    "psr_t.index = m_df.index\n",
    "pcr_t.index = m_df.index\n",
    "per_t.index = m_df.index\n",
    "\n",
    "per = per_t.shift(m)\n",
    "pbr = pbr_t.shift(m)\n",
    "psr = psr_t.shift(m)\n",
    "pcr = pcr_t.shift(m)"
   ]
  },
  {
   "cell_type": "code",
   "execution_count": 264,
   "metadata": {},
   "outputs": [],
   "source": [
    "# quality\n",
    "pivot = 12\n",
    "\n",
    "# 수익성 팩터\n",
    "gpoa = gp/ast # gross profit over asset\n",
    "cfoa = cf/ast # cashflow profit over asset\n",
    "gmar = gp/sl  # gross margin\n",
    "turn = sl/ast\n",
    "\n",
    "# 성장성 팩터(수익성 팩터, 5년 전과 비교해서 변화 정도 / 총자산)\n",
    "gpoa_d = (gpoa - gpoa.shift(pivot))/ ast.shift(pivot)\n",
    "cfoa_d = (cfoa - cfoa.shift(pivot))/ ast.shift(pivot)\n",
    "gmar_d = (gmar - gmar.shift(pivot))/ sl.shift(pivot)\n",
    "turn_d = sl/ast - sl.shift(12)/ast.shift(12)\n",
    "\n",
    "# 안정성 팩터\n",
    "lev = lb/ast # 총부채 / 총자산\n",
    "gpvol = gpoa.rolling(pivot).std()  # gross profit volatility\n",
    "cfvol = cfoa.rolling(pivot).std()  # cashflow volatility\n",
    "\n",
    "gpoa_rank = gpoa.rank(axis=1, ascending=False)\n",
    "cfoa_rank = cfoa.rank(axis=1, ascending=False)\n",
    "gmar_rank = gmar.rank(axis=1, ascending=False)\n",
    "turn_rank = turn.rank(axis=1, ascending=False)\n",
    "gpoa_d_rank = gpoa_d.rank(axis=1, ascending=False)\n",
    "cfoa_d_rank = cfoa_d.rank(axis=1, ascending=False)\n",
    "gmar_d_rank = gmar_d.rank(axis=1, ascending=False)\n",
    "turn_d_rank = turn_d.rank(axis=1, ascending=False)\n",
    "lev_rank = lev.rank(axis=1)\n",
    "gpvol_rank = gpvol.rank(axis=1)\n",
    "cfvol_rank = cfvol.rank(axis=1)\n",
    "\n",
    "gpoa_z = (gpoa_rank.T - gpoa_rank.mean(axis=1)) / gpoa_rank.std(axis=1)\n",
    "cfoa_z = (cfoa_rank.T - cfoa_rank.mean(axis=1)) / cfoa_rank.std(axis=1)\n",
    "gmar_z = (gmar_rank.T - gmar_rank.mean(axis=1)) / gmar_rank.std(axis=1)\n",
    "turn_z = (turn_rank.T - turn_rank.mean(axis=1)) / turn_rank.std(axis=1)\n",
    "gpoa_d_z = (gpoa_d_rank.T - gpoa_d_rank.mean(axis=1)) / gpoa_d_rank.std(axis=1)\n",
    "cfoa_d_z = (cfoa_d_rank.T - cfoa_d_rank.mean(axis=1)) / cfoa_d_rank.std(axis=1)\n",
    "gmar_d_z = (gmar_d_rank.T - gmar_d_rank.mean(axis=1)) / gmar_d_rank.std(axis=1)\n",
    "turn_d_z = (turn_d_rank.T - turn_d_rank.mean(axis=1)) / turn_d_rank.std(axis=1)\n",
    "lev_z = (lev_rank.T - lev_rank.mean(axis=1)) / lev_rank.std(axis=1)\n",
    "gpvol_z = (gpvol_rank.T - gpvol_rank.mean(axis=1)) / gpvol_rank.std(axis=1)\n",
    "cfvol_z = (cfvol_rank.T - cfvol_rank.mean(axis=1)) / cfvol_rank.std(axis=1)\n",
    "\n",
    "total_qz = gpoa_z.T + cfoa_z.T + gmar_z.T + turn_z.T + gpoa_d_z.T + cfoa_d_z.T + gmar_d_z.T + turn_d_z.T + lev_z.T + gpvol_z.T + cfvol_z.T\n",
    "total_qz = ((total_qz.T - total_qz.mean(axis=1)) / total_qz.std(axis=1)).T"
   ]
  },
  {
   "cell_type": "code",
   "execution_count": 265,
   "metadata": {},
   "outputs": [],
   "source": [
    "# value\n",
    "per_rank = per.rank(axis=1, pct=True)\n",
    "pbr_rank = pbr.rank(axis=1, pct=True)\n",
    "psr_rank = psr.rank(axis=1, pct=True)\n",
    "pcr_rank = pcr.rank(axis=1, pct=True)\n",
    "\n",
    "per_z = ((per_rank.T - per_rank.mean(axis=1)) / per_rank.std(axis=1))\n",
    "pbr_z = ((pbr_rank.T - pbr_rank.mean(axis=1)) / pbr_rank.std(axis=1))\n",
    "psr_z = ((psr_rank.T - psr_rank.mean(axis=1)) / psr_rank.std(axis=1))\n",
    "pcr_z = ((pcr_rank.T - pcr_rank.mean(axis=1)) / pcr_rank.std(axis=1))\n",
    "\n",
    "total_vz = per_z.T + pbr_z.T + psr_z.T + pcr_z.T"
   ]
  },
  {
   "cell_type": "code",
   "execution_count": 266,
   "metadata": {},
   "outputs": [],
   "source": [
    "def MDD(arr):\n",
    "    low = np.argmin(arr / np.maximum.accumulate(arr))\n",
    "    high = np.argmax(arr[:low])\n",
    "    return high, low, (arr[high] - arr[low]) / arr[high]\n",
    "\n",
    "def hit_ratio(arr, r, recent_num_ratio=True):\n",
    "    total = round(sum(arr > 0) / len(arr), 4)\n",
    "    recent = round(sum(arr[-1*r:] > 0) / len(arr[-1*r:]), 4) if recent_num_ratio else sum(arr[-1*r:] > 0)\n",
    "    return total, recent"
   ]
  },
  {
   "cell_type": "code",
   "execution_count": 267,
   "metadata": {},
   "outputs": [],
   "source": [
    "vol_month = m_pm.rolling(50).std()\n",
    "vol_day = ((pm / pm.shift(1)).clip(0, 10) - 1).rolling(50).std().groupby('date').last()\n",
    "momentum_mask = m_pm.copy()\n",
    "for i in range(6):\n",
    "    momentum_mask[momentum_mask < m_pm.shift(i)] = m_pm.shift(i)[momentum_mask < m_pm.shift(i)]\n",
    "momentum = (m_pm.shift(1) / m_pm.shift(4)) - (m_pm / momentum_mask) - vol_day * 1.5\n",
    "\n",
    "momentum_mask = m_pm.shift(1).copy()\n",
    "for i in range(9):\n",
    "    momentum_mask[momentum_mask > m_pm.shift(i)] = m_pm.shift(i)[momentum_mask > m_pm.shift(i)]\n",
    "momentum_mask = (m_pm.shift(1) / momentum_mask) < 2\n",
    "\n",
    "m_cap_rank = m_cap[m_suspension_mask].rank(axis=1, pct=True)"
   ]
  },
  {
   "cell_type": "code",
   "execution_count": 268,
   "metadata": {},
   "outputs": [
    {
     "name": "stdout",
     "output_type": "stream",
     "text": [
      "momentum: high - 2007-09-30 00:00:00, low - 2008-10-31 00:00:00, mdd - 0.507\n",
      "momentum: high - 2011-04-30 00:00:00, low - 2011-09-30 00:00:00, mdd - 0.3428\n",
      "value (hit): total - 0.6318, recent - 9\n"
     ]
    },
    {
     "name": "stderr",
     "output_type": "stream",
     "text": [
      "/Users/daeyoung/Library/Python/3.8/lib/python/site-packages/seaborn/_decorators.py:36: FutureWarning: Pass the following variables as keyword args: x, y. From version 0.12, the only valid positional argument will be `data`, and passing other arguments without an explicit keyword will result in an error or misinterpretation.\n",
      "  warnings.warn(\n"
     ]
    },
    {
     "data": {
      "image/png": "[encoded data removed]",
      "text/plain": [
       "<Figure size 432x288 with 1 Axes>"
      ]
     },
     "metadata": {},
     "output_type": "display_data"
    }
   ],
   "source": [
    "small_mask = m_cap_rank < 0.1\n",
    "sv_mask = total_vz[small_mask].rank(axis=1, pct=True) < 0.2\n",
    "sm_mask = momentum[sv_mask & momentum_mask].rank(axis=1, pct=True, ascending=False) < 0.4\n",
    "sm_cap_weight = (m_cap[sm_mask].T / m_cap[sm_mask].sum(axis=1)).T\n",
    "\n",
    "sm_r = m_ret[sm_mask.shift(1)].mean(axis=1).fillna(0)\n",
    "sm_cr = (sm_r + 1).cumprod()[15:]\n",
    "\n",
    "h, l, mdd = MDD(sm_cr.values)\n",
    "print(f'momentum: high - {sm_cr.index[h]}, low - {sm_cr.index[l]}, mdd - {round(mdd, 4)}')\n",
    "t = 90\n",
    "h, l, mdd = MDD(sm_cr[t:].values)\n",
    "print(f'momentum: high - {sm_cr[t:].index[h]}, low - {sm_cr[t:].index[l]}, mdd - {round(mdd, 4)}')\n",
    "\n",
    "t, r = hit_ratio(sm_r.values[15:], 12, False)\n",
    "print(f'value (hit): total - {t}, recent - {r}')\n",
    "\n",
    "sns.set_style('whitegrid')\n",
    "sns.lineplot(sm_cr.index, sm_cr)\n",
    "plt.title('small value/momentum')\n",
    "plt.show()"
   ]
  },
  {
   "cell_type": "code",
   "execution_count": 269,
   "metadata": {},
   "outputs": [
    {
     "name": "stdout",
     "output_type": "stream",
     "text": [
      "value:    high - 2017-05-31 00:00:00, low - 2017-10-31 00:00:00, mdd - 0.3296\n",
      "value (~2020.02): high - 2017-05-31 00:00:00, low - 2017-10-31 00:00:00, mdd - 0.3296\n",
      "value (hit): total - 0.523, recent - 6\n"
     ]
    },
    {
     "name": "stderr",
     "output_type": "stream",
     "text": [
      "/Users/daeyoung/Library/Python/3.8/lib/python/site-packages/seaborn/_decorators.py:36: FutureWarning: Pass the following variables as keyword args: x, y. From version 0.12, the only valid positional argument will be `data`, and passing other arguments without an explicit keyword will result in an error or misinterpretation.\n",
      "  warnings.warn(\n"
     ]
    },
    {
     "data": {
      "image/png": "[encoded data removed]",
      "text/plain": [
       "<Figure size 432x288 with 1 Axes>"
      ]
     },
     "metadata": {},
     "output_type": "display_data"
    }
   ],
   "source": [
    "s_mask = m_cap_rank < 0.1\n",
    "sq_mask = total_qz[s_mask].rank(axis=1, pct=True) < 0.3\n",
    "# sv_mask = total_vz[sq_mask].rank(axis=1, pct=True) < 0.2\n",
    "smomen_mask = momentum[sq_mask].rank(axis=1, pct=1, ascending=False) < 0.3\n",
    "svol_mask = vol_month[smomen_mask & momentum_mask].rank(axis=1, pct=True) < 0.4\n",
    "\n",
    "# # 동일비중\n",
    "svol_r = m_ret[svol_mask.shift(1)].mean(axis=1).fillna(0)\n",
    "svol_cr = (svol_r + 1).cumprod()[15:]\n",
    "\n",
    "h, l, mdd = MDD(svol_cr.values)\n",
    "print(f'value:    high - {svol_cr.index[h]}, low - {svol_cr.index[l]}, mdd - {round(mdd, 4)}')\n",
    "t = 60\n",
    "h, l, mdd = MDD(svol_cr[t:].values)\n",
    "print(f'value (~2020.02): high - {svol_cr[t:].index[h]}, low - {svol_cr[t:].index[l]}, mdd - {round(mdd, 4)}')\n",
    "\n",
    "t, r = hit_ratio(svol_r.values[15:], 12, False)\n",
    "print(f'value (hit): total - {t}, recent - {r}')\n",
    "\n",
    "sns.set_style('whitegrid')\n",
    "sns.lineplot(svol_cr.index, svol_cr)\n",
    "plt.title('small quality/vol')\n",
    "plt.show()"
   ]
  },
  {
   "cell_type": "code",
   "execution_count": 270,
   "metadata": {},
   "outputs": [
    {
     "name": "stdout",
     "output_type": "stream",
     "text": [
      "투자 기업 개수\n",
      "[2 2 3 2 2 2 2 2 2 2 2 2 2 2 2 1 2 1 2 1 2 2 1 1 2 2 2 2 2 1]\n",
      "[3 2 2 1 2 2 2 3 2 2 1 1 3 1 2 2 2 2 1 0 1 2 2 3 3 3 2 2 1 3]\n",
      "\n",
      "평균 수익률\n",
      "0.07868147529101498 0.0682546716660563\n",
      "\n",
      "수익률 표준편차\n",
      "0.29112458289874904 0.2926822488853762\n",
      "\n",
      "수익률 상관관계\n",
      "0.7118825210399774\n"
     ]
    }
   ],
   "source": [
    "print('투자 기업 개수')\n",
    "print(sm_mask[-30:].sum(axis=1).values)\n",
    "print(svol_mask[-30:].sum(axis=1).values)\n",
    "print()\n",
    "\n",
    "print('평균 수익률')\n",
    "print(sm_r.mean(), svol_r.mean())\n",
    "print()\n",
    "\n",
    "print('수익률 표준편차')\n",
    "print(sm_r.std(), svol_r.std())\n",
    "print()\n",
    "\n",
    "print('수익률 상관관계')\n",
    "print(sm_r.corr(svol_r))"
   ]
  },
  {
   "cell_type": "code",
   "execution_count": 1,
   "metadata": {},
   "outputs": [
    {
     "ename": "NameError",
     "evalue": "name 'sm_mask' is not defined",
     "output_type": "error",
     "traceback": [
      "\u001b[0;31m---------------------------------------------------------------------------\u001b[0m",
      "\u001b[0;31mNameError\u001b[0m                                 Traceback (most recent call last)",
      "\u001b[0;32m<ipython-input-1-02c0fbba3f60>\u001b[0m in \u001b[0;36m<module>\u001b[0;34m\u001b[0m\n\u001b[0;32m----> 1\u001b[0;31m \u001b[0mmv_mask\u001b[0m \u001b[0;34m=\u001b[0m \u001b[0msm_mask\u001b[0m\u001b[0;34m|\u001b[0m\u001b[0msvol_mask\u001b[0m\u001b[0;34m\u001b[0m\u001b[0;34m\u001b[0m\u001b[0m\n\u001b[0m\u001b[1;32m      2\u001b[0m \u001b[0mmv_r\u001b[0m \u001b[0;34m=\u001b[0m \u001b[0mm_ret\u001b[0m\u001b[0;34m[\u001b[0m\u001b[0mmv_mask\u001b[0m\u001b[0;34m.\u001b[0m\u001b[0mshift\u001b[0m\u001b[0;34m(\u001b[0m\u001b[0;36m1\u001b[0m\u001b[0;34m)\u001b[0m\u001b[0;34m]\u001b[0m\u001b[0;34m.\u001b[0m\u001b[0mmean\u001b[0m\u001b[0;34m(\u001b[0m\u001b[0maxis\u001b[0m\u001b[0;34m=\u001b[0m\u001b[0;36m1\u001b[0m\u001b[0;34m)\u001b[0m\u001b[0;34m.\u001b[0m\u001b[0mfillna\u001b[0m\u001b[0;34m(\u001b[0m\u001b[0;36m0\u001b[0m\u001b[0;34m)\u001b[0m\u001b[0;34m\u001b[0m\u001b[0;34m\u001b[0m\u001b[0m\n\u001b[1;32m      3\u001b[0m \u001b[0;34m\u001b[0m\u001b[0m\n\u001b[1;32m      4\u001b[0m \u001b[0mmv_cr\u001b[0m \u001b[0;34m=\u001b[0m \u001b[0;34m(\u001b[0m\u001b[0mmv_r\u001b[0m \u001b[0;34m+\u001b[0m \u001b[0;36m1\u001b[0m\u001b[0;34m)\u001b[0m\u001b[0;34m.\u001b[0m\u001b[0mcumprod\u001b[0m\u001b[0;34m(\u001b[0m\u001b[0;34m)\u001b[0m\u001b[0;34m[\u001b[0m\u001b[0;36m15\u001b[0m\u001b[0;34m:\u001b[0m\u001b[0;34m]\u001b[0m\u001b[0;34m\u001b[0m\u001b[0;34m\u001b[0m\u001b[0m\n\u001b[1;32m      5\u001b[0m \u001b[0;34m\u001b[0m\u001b[0m\n",
      "\u001b[0;31mNameError\u001b[0m: name 'sm_mask' is not defined"
     ]
    }
   ],
   "source": [
    "mv_mask = sm_mask|svol_mask\n",
    "mv_r = m_ret[mv_mask.shift(1)].mean(axis=1).fillna(0)\n",
    "\n",
    "mv_cr = (mv_r + 1).cumprod()[15:]\n",
    "\n",
    "h, l, mdd = MDD(mv_cr.values)\n",
    "print(f'value:    high - {mv_cr.index[h]}, low - {mv_cr.index[l]}, mdd - {round(mdd, 4)}')\n",
    "t = 60\n",
    "h, l, mdd = MDD(mv_cr[t:].values)\n",
    "print(f'value (~2020.02): high - {mv_cr[t:].index[h]}, low - {mv_cr[t:].index[l]}, mdd - {round(mdd, 4)}')\n",
    "\n",
    "t, r = hit_ratio(mv_r.values[15:], 12, False)\n",
    "print(f'value (hit): total - {t}, recent - {r}')\n",
    "\n",
    "sns.set_style('whitegrid')\n",
    "sns.lineplot(mv_cr.index, mv_cr, label='value')\n",
    "plt.title('small100')\n",
    "plt.show()"
   ]
  },
  {
   "cell_type": "code",
   "execution_count": 14,
   "metadata": {},
   "outputs": [
    {
     "name": "stdout",
     "output_type": "stream",
     "text": [
      "경남스틸 039240 2035.0\n",
      "삼일 032280 2240.0\n",
      "에스티오 098660 2265.0\n"
     ]
    }
   ],
   "source": [
    "idx = list(mv_mask.iloc[-1][mv_mask.iloc[-1]==True].index)\n",
    "code_df = pd.read_html('http://kind.krx.co.kr/corpgeneral/corpList.do?method=download', header=0)[0][['회사명', '종목코드']]\n",
    "for i in range(len(idx)):\n",
    "    print(code_df.query(f'종목코드=={int(idx[i][1:])}').values[0][0], idx[i][1:], m_pm.iloc[-1][idx[i]])"
   ]
  },
  {
   "cell_type": "code",
   "execution_count": 15,
   "metadata": {},
   "outputs": [
    {
     "data": {
      "text/plain": [
       "['A032280']"
      ]
     },
     "execution_count": 15,
     "metadata": {},
     "output_type": "execute_result"
    }
   ],
   "source": [
    "list(sm_mask.iloc[-1][sm_mask.iloc[-1]==True].index)"
   ]
  },
  {
   "cell_type": "code",
   "execution_count": 16,
   "metadata": {},
   "outputs": [],
   "source": [
    "# sv100 중 상폐된 기업과 폐지된 월: 없음!\n",
    "delist_total = (m_ret==-1)\n",
    "delist_temp = delist_total[delist_total==True]\n",
    "for i in range(0, len(mv_mask) - 1):\n",
    "    zero_r = set(delist_temp.iloc[i+1].dropna().index)\n",
    "    mv_index = set(mv_mask[svol_mask==True].iloc[i].dropna().index)\n",
    "    if mv_index & zero_r:\n",
    "        print(mv_mask.index[i], mv_mask & zero_r)"
   ]
  },
  {
   "cell_type": "code",
   "execution_count": 42,
   "metadata": {},
   "outputs": [],
   "source": [
    "code_df = pd.read_html('http://kind.krx.co.kr/corpgeneral/corpList.do?method=download', header=0)[0][['회사명', '종목코드']]\n",
    "code_df.index = ['A'+'%06d' %i for i in code_df['종목코드']]\n",
    "del code_df['종목코드']"
   ]
  },
  {
   "cell_type": "code",
   "execution_count": 65,
   "metadata": {},
   "outputs": [
    {
     "name": "stdout",
     "output_type": "stream",
     "text": [
      "          회사명  2021-02-28 00:00:00\n",
      "A039240  경남스틸             0.035623\n",
      "\n",
      "          회사명  2021-01-31 00:00:00\n",
      "A053270  구영테크             0.560606\n",
      "A039240  경남스틸             0.042440\n",
      "\n"
     ]
    }
   ],
   "source": [
    "for i in range(2, 4):\n",
    "    sm_idx = sm_mask.iloc[-1*i][sm_mask.iloc[-1*i]==True].index\n",
    "    svol_idx = svol_mask.iloc[-1*i][svol_mask.iloc[-1*i]==True].index\n",
    "    sm_ret = m_ret.iloc[-1*i+1][sm_idx]\n",
    "    svol_ret = m_ret.iloc[-1*i+1][svol_idx]\n",
    "#     print(sm_ret[sm_ret<0.1])\n",
    "    print(code_df.loc[svol_idx].join(svol_ret).to_string())\n",
    "    print()\n",
    "#     print(svol_ret)\n",
    "#     print(svol_ret[svol_ret<0.1])"
   ]
  },
  {
   "cell_type": "code",
   "execution_count": 26,
   "metadata": {},
   "outputs": [
    {
     "name": "stdout",
     "output_type": "stream",
     "text": [
      "Index(['A089530', 'A053050'], dtype='object')\n"
     ]
    },
    {
     "ename": "IndexError",
     "evalue": "index 19 is out of bounds for axis 0 with size 2",
     "output_type": "error",
     "traceback": [
      "\u001b[0;31m---------------------------------------------------------------------------\u001b[0m",
      "\u001b[0;31mIndexError\u001b[0m                                Traceback (most recent call last)",
      "\u001b[0;32m<ipython-input-26-ce3715431e2f>\u001b[0m in \u001b[0;36m<module>\u001b[0;34m\u001b[0m\n\u001b[1;32m      1\u001b[0m \u001b[0mprint\u001b[0m\u001b[0;34m(\u001b[0m\u001b[0msvol_idx\u001b[0m\u001b[0;34m)\u001b[0m\u001b[0;34m\u001b[0m\u001b[0;34m\u001b[0m\u001b[0m\n\u001b[0;32m----> 2\u001b[0;31m \u001b[0mcode_df\u001b[0m\u001b[0;34m.\u001b[0m\u001b[0mquery\u001b[0m\u001b[0;34m(\u001b[0m\u001b[0;34mf'종목코드=={int(svol_idx[i][1:])}'\u001b[0m\u001b[0;34m)\u001b[0m\u001b[0;34m.\u001b[0m\u001b[0mvalues\u001b[0m\u001b[0;34m[\u001b[0m\u001b[0;36m0\u001b[0m\u001b[0;34m]\u001b[0m\u001b[0;34m[\u001b[0m\u001b[0;36m0\u001b[0m\u001b[0;34m]\u001b[0m\u001b[0;34m\u001b[0m\u001b[0;34m\u001b[0m\u001b[0m\n\u001b[0m",
      "\u001b[0;32m/Library/Python/3.8/site-packages/pandas/core/indexes/base.py\u001b[0m in \u001b[0;36m__getitem__\u001b[0;34m(self, key)\u001b[0m\n\u001b[1;32m   4099\u001b[0m         \u001b[0;32mif\u001b[0m \u001b[0mis_scalar\u001b[0m\u001b[0;34m(\u001b[0m\u001b[0mkey\u001b[0m\u001b[0;34m)\u001b[0m\u001b[0;34m:\u001b[0m\u001b[0;34m\u001b[0m\u001b[0;34m\u001b[0m\u001b[0m\n\u001b[1;32m   4100\u001b[0m             \u001b[0mkey\u001b[0m \u001b[0;34m=\u001b[0m \u001b[0mcom\u001b[0m\u001b[0;34m.\u001b[0m\u001b[0mcast_scalar_indexer\u001b[0m\u001b[0;34m(\u001b[0m\u001b[0mkey\u001b[0m\u001b[0;34m,\u001b[0m \u001b[0mwarn_float\u001b[0m\u001b[0;34m=\u001b[0m\u001b[0;32mTrue\u001b[0m\u001b[0;34m)\u001b[0m\u001b[0;34m\u001b[0m\u001b[0;34m\u001b[0m\u001b[0m\n\u001b[0;32m-> 4101\u001b[0;31m             \u001b[0;32mreturn\u001b[0m \u001b[0mgetitem\u001b[0m\u001b[0;34m(\u001b[0m\u001b[0mkey\u001b[0m\u001b[0;34m)\u001b[0m\u001b[0;34m\u001b[0m\u001b[0;34m\u001b[0m\u001b[0m\n\u001b[0m\u001b[1;32m   4102\u001b[0m \u001b[0;34m\u001b[0m\u001b[0m\n\u001b[1;32m   4103\u001b[0m         \u001b[0;32mif\u001b[0m \u001b[0misinstance\u001b[0m\u001b[0;34m(\u001b[0m\u001b[0mkey\u001b[0m\u001b[0;34m,\u001b[0m \u001b[0mslice\u001b[0m\u001b[0;34m)\u001b[0m\u001b[0;34m:\u001b[0m\u001b[0;34m\u001b[0m\u001b[0;34m\u001b[0m\u001b[0m\n",
      "\u001b[0;31mIndexError\u001b[0m: index 19 is out of bounds for axis 0 with size 2"
     ]
    }
   ],
   "source": [
    "for i in range(0, len(sm_mask)-1):\n",
    "    if m_ret[sm_mask.shift(1)] > 0.1:\n",
    "        sm_mask"
   ]
  },
  {
   "cell_type": "code",
   "execution_count": 83,
   "metadata": {},
   "outputs": [],
   "source": [
    "sm_mask_momen = svol_mask.copy()\n",
    "sm_mask_momen[m_cap_rank[m_ret[sm_mask_momen.shift(1)]>0.2]>0.2] = True"
   ]
  },
  {
   "cell_type": "code",
   "execution_count": 84,
   "metadata": {},
   "outputs": [
    {
     "name": "stdout",
     "output_type": "stream",
     "text": [
      "momentum: high - 2005-11-30 00:00:00, low - 2005-12-31 00:00:00, mdd - 0.3151\n",
      "momentum: high - 2018-07-31 00:00:00, low - 2018-10-31 00:00:00, mdd - 0.2983\n",
      "value (hit): total - 0.5168, recent - 8\n"
     ]
    },
    {
     "name": "stderr",
     "output_type": "stream",
     "text": [
      "/Users/daeyoung/Library/Python/3.8/lib/python/site-packages/seaborn/_decorators.py:36: FutureWarning: Pass the following variables as keyword args: x, y. From version 0.12, the only valid positional argument will be `data`, and passing other arguments without an explicit keyword will result in an error or misinterpretation.\n",
      "  warnings.warn(\n"
     ]
    },
    {
     "data": {
      "image/png": "[encoded data removed]",
      "text/plain": [
       "<Figure size 432x288 with 1 Axes>"
      ]
     },
     "metadata": {},
     "output_type": "display_data"
    }
   ],
   "source": [
    "sm_r = m_ret[sm_mask_momen.shift(1)].mean(axis=1).fillna(0)\n",
    "sm_cr = (sm_r + 1).cumprod()[16:]\n",
    "\n",
    "h, l, mdd = MDD(sm_cr.values)\n",
    "print(f'momentum: high - {sm_cr.index[h]}, low - {sm_cr.index[l]}, mdd - {round(mdd, 4)}')\n",
    "t = 90\n",
    "h, l, mdd = MDD(sm_cr[t:].values)\n",
    "print(f'momentum: high - {sm_cr[t:].index[h]}, low - {sm_cr[t:].index[l]}, mdd - {round(mdd, 4)}')\n",
    "\n",
    "t, r = hit_ratio(sm_r.values[16:], 12, False)\n",
    "print(f'value (hit): total - {t}, recent - {r}')\n",
    "\n",
    "sns.set_style('whitegrid')\n",
    "sns.lineplot(sm_cr.index, sm_cr)\n",
    "plt.title('small momentum+vol')\n",
    "plt.show()"
   ]
  },
  {
   "cell_type": "code",
   "execution_count": 90,
   "metadata": {},
   "outputs": [
    {
     "data": {
      "text/plain": [
       "date\n",
       "2017-07-31    1279.980158\n",
       "2017-08-31    1279.980120\n",
       "2017-09-30    1279.980074\n",
       "2017-10-31    1279.980111\n",
       "2017-11-30    1279.980084\n",
       "2017-12-31    1279.979935\n",
       "2018-01-31      81.080000\n",
       "2018-02-28      81.080000\n",
       "2018-03-31      81.080000\n",
       "2018-04-30      81.080000\n",
       "2018-05-31      81.080000\n",
       "2018-06-30      81.080000\n",
       "2018-07-31      81.080000\n",
       "2018-08-31      81.080000\n",
       "2018-09-30      81.080000\n",
       "2018-10-31      81.080000\n",
       "2018-11-30      81.080000\n",
       "2018-12-31      81.080000\n",
       "2019-01-31     452.050010\n",
       "2019-02-28     452.049995\n",
       "2019-03-31     452.050013\n",
       "2019-04-30     452.049993\n",
       "2019-05-31     452.050007\n",
       "2019-06-30     452.050015\n",
       "2019-07-31     452.050017\n",
       "2019-08-31     452.050004\n",
       "2019-09-30     452.050006\n",
       "2019-10-31     452.050006\n",
       "2019-11-30     452.049980\n",
       "2019-12-31     452.049991\n",
       "2020-01-31     452.049983\n",
       "2020-02-29     452.050015\n",
       "2020-03-31     452.049994\n",
       "2020-04-30     452.049999\n",
       "2020-05-31     452.049992\n",
       "2020-06-30     452.050005\n",
       "2020-07-31     452.050004\n",
       "2020-08-31     452.050004\n",
       "2020-09-30     452.049995\n",
       "2020-10-31     452.050009\n",
       "2020-11-30     452.050008\n",
       "2020-12-31     452.050002\n",
       "2021-01-31     452.050000\n",
       "Name: A091990, dtype: float64"
      ]
     },
     "execution_count": 90,
     "metadata": {},
     "output_type": "execute_result"
    }
   ],
   "source": [
    "(m_df / per_t)['A091990'].dropna()"
   ]
  },
  {
   "cell_type": "code",
   "execution_count": null,
   "metadata": {},
   "outputs": [],
   "source": []
  }
 ],
 "metadata": {
  "kernelspec": {
   "display_name": "Python 3",
   "language": "python",
   "name": "python3"
  },
  "language_info": {
   "codemirror_mode": {
    "name": "ipython",
    "version": 3
   },
   "file_extension": ".py",
   "mimetype": "text/x-python",
   "name": "python",
   "nbconvert_exporter": "python",
   "pygments_lexer": "ipython3",
   "version": "3.8.2"
  }
 },
 "nbformat": 4,
 "nbformat_minor": 4
}

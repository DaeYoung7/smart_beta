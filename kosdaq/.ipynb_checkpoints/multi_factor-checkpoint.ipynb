{
 "cells": [
  {
   "cell_type": "code",
   "execution_count": 1,
   "metadata": {},
   "outputs": [],
   "source": [
    "import numpy as np\n",
    "import pandas as pd\n",
    "import pandas_datareader as pdr\n",
    "import datetime\n",
    "import matplotlib.pyplot as plt\n",
    "import seaborn as sns"
   ]
  },
  {
   "cell_type": "code",
   "execution_count": 2,
   "metadata": {},
   "outputs": [],
   "source": [
    "df = pd.read_csv(\"../../data/kosdaq/price.csv\", index_col='date', parse_dates=True)\n",
    "sn = pd.read_csv(\"../../data/kosdaq/share_number.csv\", index_col='date', parse_dates=True)\n",
    "pm = pd.read_csv(\"../../data/kosdaq/price_mod.csv\", index_col = 'date', parse_dates = True)\n",
    "\n",
    "# quality\n",
    "gp_t = pd.read_csv(\"../../data/kosdaq/gross_profit.csv\", index_col='date', parse_dates=True)\n",
    "ast_t = pd.read_csv(\"../../data/kosdaq/asset.csv\", index_col='date', parse_dates=True)\n",
    "lb_t = pd.read_csv(\"../../data/kosdaq/liability.csv\", index_col = 'date', parse_dates = True)\n",
    "cf_t = pd.read_csv(\"../../data/kosdaq/cashflow.csv\", index_col = 'date', parse_dates = True)\n",
    "sl_t = pd.read_csv(\"../../data/kosdaq/sales.csv\", index_col = 'date', parse_dates = True)\n",
    "\n",
    "# value\n",
    "per_t = pd.read_csv(\"../../data/kosdaq/per.csv\", index_col = 'date', parse_dates = True)\n",
    "pbr_t = pd.read_csv(\"../../data/kosdaq/pbr.csv\", index_col = 'date', parse_dates = True)\n",
    "psr_t = pd.read_csv(\"../../data/kosdaq/psr.csv\", index_col = 'date', parse_dates = True)\n",
    "pcr_t = pd.read_csv(\"../../data/kosdaq/pcr.csv\", index_col = 'date', parse_dates = True)"
   ]
  },
  {
   "cell_type": "code",
   "execution_count": 3,
   "metadata": {},
   "outputs": [],
   "source": [
    "m = 15\n",
    "\n",
    "market_cap = df * sn\n",
    "market_cap.index = market_cap.index + pd.tseries.offsets.MonthEnd(0)\n",
    "m_cap = market_cap.groupby('date').last()\n",
    "\n",
    "pm.index = pm.index + pd.tseries.offsets.MonthEnd(0)\n",
    "m_pm = pm.groupby('date').last()\n",
    "m_ret = (m_pm.fillna(-1) / m_pm.shift(1)).clip(0, 10) - 1\n",
    "\n",
    "gp = pd.DataFrame(index=m_ret.index).join(gp_t).shift(m)\n",
    "ast = pd.DataFrame(index=m_ret.index).join(ast_t).shift(m)\n",
    "lb = pd.DataFrame(index=m_ret.index).join(lb_t).shift(m)\n",
    "cf = pd.DataFrame(index=m_ret.index).join(cf_t).shift(m)\n",
    "sl = pd.DataFrame(index=m_ret.index).join(sl_t).shift(m)\n",
    "\n",
    "# 수정주가로 계산한 것으로 변경\n",
    "df.index = df.index + pd.tseries.offsets.MonthEnd(0)\n",
    "m_df = df.groupby('date').last()\n",
    "\n",
    "per = (m_pm / (m_df/per_t)).shift(m)\n",
    "pbr = (m_pm / (m_df/pbr_t)).shift(m)\n",
    "psr = (m_pm / (m_df/psr_t)).shift(m)\n",
    "pcr = (m_pm / (m_df/pcr_t)).shift(m)\n",
    "\n",
    "# 최근 주가로 계산 (eps를 shift)\n",
    "per_r = (m_pm / (m_df/per_t).shift(m))\n",
    "pbr_r = (m_pm / (m_df/pbr_t).shift(m))\n",
    "psr_r = (m_pm / (m_df/psr_t).shift(m))\n",
    "pcr_r = (m_pm / (m_df/pcr_t).shift(m))"
   ]
  },
  {
   "cell_type": "code",
   "execution_count": 4,
   "metadata": {},
   "outputs": [],
   "source": [
    "# quality\n",
    "# 수익성 팩터\n",
    "gpoa = gp/ast # gross profit over asset\n",
    "cfoa = cf/ast # cashflow profit over asset\n",
    "gmar = gp/sl  # gross margin\n",
    "turn = sl/ast\n",
    "\n",
    "# 성장성 팩터(수익성 팩터, 5년 전과 비교해서 변화 정도 / 총자산)\n",
    "gpoa_d = (gpoa - gpoa.shift(60))/ ast.shift(60)\n",
    "cfoa_d = (cfoa - cfoa.shift(60))/ ast.shift(60)\n",
    "gmar_d = (gmar - gmar.shift(60))/ sl.shift(60)\n",
    "turn_d = sl/ast - sl.shift(12)/ast.shift(12)\n",
    "\n",
    "# 안정성 팩터\n",
    "lev = lb/ast # 총부채 / 총자산\n",
    "gpvol = gpoa.rolling(60).std()  # gross profit volatility\n",
    "cfvol = cfoa.rolling(60).std()  # cashflow volatility\n",
    "\n",
    "gpoa_rank = gpoa.rank(axis=1, ascending=False)\n",
    "cfoa_rank = cfoa.rank(axis=1, ascending=False)\n",
    "gmar_rank = gmar.rank(axis=1, ascending=False)\n",
    "turn_rank = turn.rank(axis=1, ascending=False)\n",
    "gpoa_d_rank = gpoa_d.rank(axis=1, ascending=False)\n",
    "cfoa_d_rank = cfoa_d.rank(axis=1, ascending=False)\n",
    "gmar_d_rank = gmar_d.rank(axis=1, ascending=False)\n",
    "turn_d_rank = turn_d.rank(axis=1, ascending=False)\n",
    "lev_rank = lev.rank(axis=1)\n",
    "gpvol_rank = gpvol.rank(axis=1)\n",
    "cfvol_rank = cfvol.rank(axis=1)\n",
    "\n",
    "gpoa_z = (gpoa_rank.T - gpoa_rank.mean(axis=1)) / gpoa_rank.std(axis=1)\n",
    "cfoa_z = (cfoa_rank.T - cfoa_rank.mean(axis=1)) / cfoa_rank.std(axis=1)\n",
    "gmar_z = (gmar_rank.T - gmar_rank.mean(axis=1)) / gmar_rank.std(axis=1)\n",
    "turn_z = (turn_rank.T - turn_rank.mean(axis=1)) / turn_rank.std(axis=1)\n",
    "gpoa_d_z = (gpoa_d_rank.T - gpoa_d_rank.mean(axis=1)) / gpoa_d_rank.std(axis=1)\n",
    "cfoa_d_z = (cfoa_d_rank.T - cfoa_d_rank.mean(axis=1)) / cfoa_d_rank.std(axis=1)\n",
    "gmar_d_z = (gmar_d_rank.T - gmar_d_rank.mean(axis=1)) / gmar_d_rank.std(axis=1)\n",
    "turn_d_z = (turn_d_rank.T - turn_d_rank.mean(axis=1)) / turn_d_rank.std(axis=1)\n",
    "lev_z = (lev_rank.T - lev_rank.mean(axis=1)) / lev_rank.std(axis=1)\n",
    "gpvol_z = (gpvol_rank.T - gpvol_rank.mean(axis=1)) / gpvol_rank.std(axis=1)\n",
    "cfvol_z = (cfvol_rank.T - cfvol_rank.mean(axis=1)) / cfvol_rank.std(axis=1)\n",
    "\n",
    "total_qz = gpoa_z.T + cfoa_z.T + gmar_z.T + turn_z.T + gpoa_d_z.T + cfoa_d_z.T + gmar_d_z.T + turn_d_z.T + lev_z.T + gpvol_z.T + cfvol_z.T\n",
    "total_qz = ((total_qz.T - total_qz.mean(axis=1)) / total_qz.std(axis=1)).T"
   ]
  },
  {
   "cell_type": "code",
   "execution_count": 5,
   "metadata": {},
   "outputs": [],
   "source": [
    "# value\n",
    "per_rank = per.rank(axis=1, pct=True)\n",
    "pbr_rank = pbr.rank(axis=1, pct=True)\n",
    "psr_rank = psr.rank(axis=1, pct=True)\n",
    "pcr_rank = pcr.rank(axis=1, pct=True)\n",
    "\n",
    "per_z = ((per_rank.T - per_rank.mean(axis=1)) / per_rank.std(axis=1))\n",
    "pbr_z = ((pbr_rank.T - pbr_rank.mean(axis=1)) / pbr_rank.std(axis=1))\n",
    "psr_z = ((psr_rank.T - psr_rank.mean(axis=1)) / psr_rank.std(axis=1))\n",
    "pcr_z = ((pcr_rank.T - pcr_rank.mean(axis=1)) / pcr_rank.std(axis=1))\n",
    "\n",
    "total_vz = per_z.T + pbr_z.T + psr_z.T + pcr_z.T\n",
    "\n",
    "# value\n",
    "per_rank_r = per_r.rank(axis=1, pct=True)\n",
    "pbr_rank_r = pbr_r.rank(axis=1, pct=True)\n",
    "psr_rank_r = psr_r.rank(axis=1, pct=True)\n",
    "pcr_rank_r = pcr_r.rank(axis=1, pct=True)\n",
    "\n",
    "per_zr = ((per_rank_r.T - per_rank_r.mean(axis=1)) / per_rank_r.std(axis=1))\n",
    "pbr_zr = ((pbr_rank_r.T - pbr_rank_r.mean(axis=1)) / pbr_rank_r.std(axis=1))\n",
    "psr_zr = ((psr_rank_r.T - psr_rank_r.mean(axis=1)) / psr_rank_r.std(axis=1))\n",
    "pcr_zr = ((pcr_rank_r.T - pcr_rank_r.mean(axis=1)) / pcr_rank_r.std(axis=1))\n",
    "\n",
    "total_vzr = per_zr.T + pbr_zr.T + psr_zr.T + pcr_zr.T"
   ]
  },
  {
   "cell_type": "code",
   "execution_count": 6,
   "metadata": {},
   "outputs": [],
   "source": [
    "# momentum\n",
    "momentum = (m_pm / m_pm.shift(12) - m_pm / m_pm.shift(1))\n",
    "\n",
    "# 대형주와 소형주 구분 (시총 기준 반반)\n",
    "m_cap_rank = m_cap.rank(axis=1, pct=True, ascending=False)\n",
    "big_mask = m_cap_rank <= 0.5\n",
    "small_mask = m_cap_rank > 0.5\n",
    "\n",
    "# quality factor에 대해 대형주, 소형주 mask\n",
    "bq_mask = total_qz[big_mask].rank(axis=1, pct=True) < 0.5\n",
    "sq_mask = total_qz[small_mask].rank(axis=1, pct=True) < 0.5\n",
    "\n",
    "# 대형주 - momentum, 소형주 - value \n",
    "bm_mask = momentum[momentum[bq_mask] > 0].rank(axis=1, pct=True, ascending=False) < 0.3\n",
    "bv_mask = total_vz[bq_mask].rank(axis=1, pct=True) < 0.3\n",
    "sm_mask = momentum[momentum[sq_mask] > 0].rank(axis=1, pct=True, ascending=False) < 0.3\n",
    "sv_mask = total_vz[sq_mask].rank(axis=1, pct=True) < 0.3\n",
    "\n",
    "# 시가총액 가중평균\n",
    "bm_cap_weight = (m_cap[bm_mask].T / m_cap[bm_mask].sum(axis=1)).T\n",
    "bv_cap_weight = (m_cap[bv_mask].T / m_cap[bv_mask].sum(axis=1)).T\n",
    "sm_cap_weight = (m_cap[sm_mask].T / m_cap[sm_mask].sum(axis=1)).T\n",
    "sv_cap_weight = (m_cap[sv_mask].T / m_cap[sv_mask].sum(axis=1)).T"
   ]
  },
  {
   "cell_type": "code",
   "execution_count": 7,
   "metadata": {},
   "outputs": [],
   "source": [
    "def MDD(arr):\n",
    "    low = np.argmax(np.maximum.accumulate(arr) - arr)\n",
    "    high = np.argmax(arr[:low])\n",
    "    return high, low, (arr[high] - arr[low]) / arr[high]\n",
    "\n",
    "def hit_ratio(arr, r, recent_num_ratio=True):\n",
    "    total = round(sum(arr > 0) / len(arr), 4)\n",
    "    recent = round(sum(arr[-1*r:] > 0) / len(arr[-1*r:]), 4) if recent_num_ratio else sum(arr[-1*r:] > 0)\n",
    "    return total, recent"
   ]
  },
  {
   "cell_type": "markdown",
   "metadata": {},
   "source": [
    "## 대형주와 소형주 (시총 50% 씩) momentum과 value factor 효과"
   ]
  },
  {
   "cell_type": "code",
   "execution_count": 8,
   "metadata": {},
   "outputs": [
    {
     "name": "stdout",
     "output_type": "stream",
     "text": [
      "momentum: high - 2007-10-31 00:00:00, low - 2008-10-31 00:00:00, mdd - 0.6582\n",
      "value:    high - 2007-07-31 00:00:00, low - 2008-11-30 00:00:00, mdd - 0.6141\n"
     ]
    },
    {
     "data": {
      "image/png": "[encoded data removed]",
      "text/plain": [
       "<Figure size 432x288 with 1 Axes>"
      ]
     },
     "metadata": {},
     "output_type": "display_data"
    }
   ],
   "source": [
    "# 대형주 momentum, valeu 비교 (대형주는 quality 넉넉하게 잡는게 수익률 좋음)\n",
    "bm_cr = ((m_ret * bm_cap_weight.shift(1)).sum(axis = 1) + 1).cumprod()[75:]\n",
    "bv_cr = ((m_ret * bv_cap_weight.shift(1)).sum(axis = 1) + 1).cumprod()[75:]\n",
    "\n",
    "h, l, mdd = MDD(bm_cr.values)\n",
    "print(f'momentum: high - {bm_cr.index[h]}, low - {bm_cr.index[l]}, mdd - {round(mdd, 4)}')\n",
    "h, l, mdd = MDD(bv_cr.values)\n",
    "print(f'value:    high - {bv_cr.index[h]}, low - {bv_cr.index[l]}, mdd - {round(mdd, 4)}')\n",
    "\n",
    "sns.set_style('whitegrid')\n",
    "sns.lineplot(bm_cr.index, bm_cr, label='momentum')\n",
    "sns.lineplot(bv_cr.index, bv_cr, label='value')\n",
    "plt.title('big')\n",
    "plt.show()"
   ]
  },
  {
   "cell_type": "code",
   "execution_count": 9,
   "metadata": {},
   "outputs": [
    {
     "name": "stdout",
     "output_type": "stream",
     "text": [
      "momentum: high - 2018-01-31 00:00:00, low - 2018-10-31 00:00:00, mdd - 0.3907\n",
      "value:    high - 2020-01-31 00:00:00, low - 2020-03-31 00:00:00, mdd - 0.2646\n"
     ]
    },
    {
     "data": {
      "image/png": "[encoded data removed]",
      "text/plain": [
       "<Figure size 432x288 with 1 Axes>"
      ]
     },
     "metadata": {},
     "output_type": "display_data"
    }
   ],
   "source": [
    "# 소형주 momentum, value 비교\n",
    "sm_cr = ((m_ret * sm_cap_weight.shift(1)).sum(axis = 1) + 1).cumprod()[75:]\n",
    "sv_cr = ((m_ret * sv_cap_weight.shift(1)).sum(axis = 1) + 1).cumprod()[75:]\n",
    "\n",
    "h, l, mdd = MDD(sm_cr.values)\n",
    "print(f'momentum: high - {sm_cr.index[h]}, low - {sm_cr.index[l]}, mdd - {round(mdd, 4)}')\n",
    "h, l, mdd = MDD(sv_cr.values)\n",
    "print(f'value:    high - {sv_cr.index[h]}, low - {sv_cr.index[l]}, mdd - {round(mdd, 4)}')\n",
    "\n",
    "sns.set_style('whitegrid')\n",
    "sns.lineplot(sm_cr.index, sm_cr, label='momentum')\n",
    "sns.lineplot(sv_cr.index, sv_cr, label='value')\n",
    "plt.title('small')\n",
    "plt.show()"
   ]
  },
  {
   "cell_type": "code",
   "execution_count": 10,
   "metadata": {},
   "outputs": [
    {
     "name": "stdout",
     "output_type": "stream",
     "text": [
      "2007-01-31 00:00:00\n",
      "1월: 6.541, 전체: 6.0891\n"
     ]
    }
   ],
   "source": [
    "# 소형주 1월효과 존재하는지\n",
    "print(sv_cr.index[9])\n",
    "print(f'1월: {round(sv_cr[9::12].mean(), 4)}, 전체: {round(sv_cr.mean(), 4)}')"
   ]
  },
  {
   "cell_type": "code",
   "execution_count": 11,
   "metadata": {
    "scrolled": true
   },
   "outputs": [
    {
     "name": "stdout",
     "output_type": "stream",
     "text": [
      "big momentum: high - 2007-10-31 00:00:00, low - 2008-10-31 00:00:00, mdd - 0.6582\n",
      "small value:  high - 2020-01-31 00:00:00, low - 2020-03-31 00:00:00, mdd - 0.2646\n"
     ]
    },
    {
     "data": {
      "image/png": "[encoded data removed]",
      "text/plain": [
       "<Figure size 432x288 with 1 Axes>"
      ]
     },
     "metadata": {},
     "output_type": "display_data"
    }
   ],
   "source": [
    "# 대형주 momentum, 소형주 value,  공통 quality\n",
    "h, l, mdd = MDD(bm_cr.values)\n",
    "print(f'big momentum: high - {bm_cr.index[h]}, low - {bm_cr.index[l]}, mdd - {round(mdd, 4)}')\n",
    "h, l, mdd = MDD(sv_cr.values)\n",
    "print(f'small value:  high - {sv_cr.index[h]}, low - {sv_cr.index[l]}, mdd - {round(mdd, 4)}')\n",
    "\n",
    "sns.set_style('whitegrid')\n",
    "sns.lineplot(bm_cr.index, bm_cr, label='big')\n",
    "sns.lineplot(sv_cr.index, sv_cr, label='small')\n",
    "sns.lineplot(bm_cr.index, bm_cr + sv_cr, label='big + small')\n",
    "plt.show()"
   ]
  },
  {
   "cell_type": "markdown",
   "metadata": {},
   "source": [
    "## 대형주와 소형주 (각각 상하위 100개 씩) \n",
    "## momentum과 value factor 효과"
   ]
  },
  {
   "cell_type": "code",
   "execution_count": 12,
   "metadata": {
    "scrolled": true
   },
   "outputs": [
    {
     "name": "stdout",
     "output_type": "stream",
     "text": [
      "momentum: high - 2007-10-31 00:00:00, low - 2020-04-30 00:00:00, mdd - 0.8792\n",
      "value:    high - 2007-10-31 00:00:00, low - 2020-03-31 00:00:00, mdd - 0.7666\n",
      "momentum (hit): total - 0.514, recent - 7\n",
      "value (hit): total - 0.5251, recent - 9\n"
     ]
    },
    {
     "data": {
      "image/png": "[encoded data removed]",
      "text/plain": [
       "<Figure size 432x288 with 1 Axes>"
      ]
     },
     "metadata": {},
     "output_type": "display_data"
    }
   ],
   "source": [
    "# 시총 상위 100개 기업에 대한 momentum과 value factor 누적 수익률 \n",
    "b100_mask = m_cap.rank(axis=1, ascending=False) <= 100\n",
    "bq100_mask = total_qz[b100_mask].rank(axis=1, pct=True) < 0.8\n",
    "bm100_mask = momentum[momentum[bq100_mask] > 0].rank(axis=1, pct=True, ascending=False) < 0.3\n",
    "bv100_mask = total_vz[bq100_mask].rank(axis=1, pct=True) < 0.3\n",
    "bm100_cap_weight = (m_cap[bm100_mask].T / m_cap[bm100_mask].sum(axis=1)).T\n",
    "bv100_cap_weight = (m_cap[bv100_mask].T / m_cap[bv100_mask].sum(axis=1)).T\n",
    "\n",
    "bm100_r = (m_ret * bm100_cap_weight.shift(1)).sum(axis = 1)\n",
    "bm100_cr = (bm100_r + 1).cumprod()[75:-1]\n",
    "bv100_r = (m_ret * bv100_cap_weight.shift(1)).sum(axis = 1)\n",
    "bv100_cr = (bv100_r + 1).cumprod()[75:-1]\n",
    "\n",
    "# 동일비중\n",
    "# bm100_cr = (m_ret[bm100_mask.shift(1)].mean(axis=1)+1).fillna(1).cumprod()[75:]\n",
    "# bv100_cr = (m_ret[bv100_mask.shift(1)].mean(axis=1)+1).fillna(1).cumprod()[75:]\n",
    "\n",
    "h, l, mdd = MDD(bm100_cr.values)\n",
    "print(f'momentum: high - {bm100_cr.index[h]}, low - {bm100_cr.index[l]}, mdd - {round(mdd, 4)}')\n",
    "h, l, mdd = MDD(bv100_cr.values)\n",
    "print(f'value:    high - {bv100_cr.index[h]}, low - {bv100_cr.index[l]}, mdd - {round(mdd, 4)}')\n",
    "\n",
    "t, r = hit_ratio(bm100_r.values[75:], 12, False)\n",
    "print(f'momentum (hit): total - {t}, recent - {r}')\n",
    "t, r = hit_ratio(bv100_r.values[75:], 12, False)\n",
    "print(f'value (hit): total - {t}, recent - {r}')\n",
    "\n",
    "sns.set_style('whitegrid')\n",
    "sns.lineplot(bm100_cr.index, bm100_cr, label='momentum')\n",
    "sns.lineplot(bv100_cr.index, bv100_cr, label='value')\n",
    "plt.title('big100')\n",
    "plt.show()"
   ]
  },
  {
   "cell_type": "code",
   "execution_count": 16,
   "metadata": {},
   "outputs": [
    {
     "name": "stdout",
     "output_type": "stream",
     "text": [
      "momentum: high - 2020-01-31 00:00:00, low - 2020-10-31 00:00:00, mdd - 0.266\n",
      "value:    high - 2020-01-31 00:00:00, low - 2020-03-31 00:00:00, mdd - 0.2557\n",
      "value (~2020.02): high - 2019-06-30 00:00:00, low - 2019-10-31 00:00:00, mdd - 0.1062\n",
      "momentum (hit): total - 0.5531, recent - 5\n",
      "value (hit): total - 0.6313, recent - 7\n"
     ]
    },
    {
     "data": {
      "image/png": "[encoded data removed]",
      "text/plain": [
       "<Figure size 432x288 with 1 Axes>"
      ]
     },
     "metadata": {},
     "output_type": "display_data"
    }
   ],
   "source": [
    "# 시총 하위 200개 기업에 대한 momentum과 value factor 누적 수익률\n",
    "# 동일 비중보다 시총가중의 수익률이 훨신 높음\n",
    "s100_mask = m_cap.rank(axis=1) <= 200\n",
    "sq100_mask = total_qz[s100_mask].rank(axis=1, pct=True) < 0.2\n",
    "sm100_mask = momentum[momentum[sq100_mask] > 0].rank(axis=1, pct=True, ascending=False) < 0.4\n",
    "sv100_mask = total_vz[sq100_mask].rank(axis=1, pct=True) < 0.4\n",
    "\n",
    "sm100_cap_weight = (m_cap[sm100_mask].T / m_cap[sm100_mask].sum(axis=1)).T\n",
    "sv100_cap_weight = (m_cap[sv100_mask].T / m_cap[sv100_mask].sum(axis=1)).T\n",
    "\n",
    "# sm100_r = (m_ret * sm100_cap_weight.shift(1)).sum(axis = 1)\n",
    "# sv100_r = (m_ret * sv100_cap_weight.shift(1)).sum(axis = 1)\n",
    "\n",
    "# # 동일비중\n",
    "sm100_r = m_ret[sm100_mask.shift(1)].mean(axis=1).fillna(0)\n",
    "sv100_r = m_ret[sv100_mask.shift(1)].mean(axis=1).fillna(0)\n",
    "\n",
    "sm100_cr = (sm100_r + 1).cumprod()[75:-1]\n",
    "sv100_cr = (sv100_r + 1).cumprod()[75:-1]\n",
    "\n",
    "h, l, mdd = MDD(sm100_cr.values)\n",
    "print(f'momentum: high - {sm100_cr.index[h]}, low - {sm100_cr.index[l]}, mdd - {round(mdd, 4)}')\n",
    "h, l, mdd = MDD(sv100_cr.values)\n",
    "print(f'value:    high - {sv100_cr.index[h]}, low - {sv100_cr.index[l]}, mdd - {round(mdd, 4)}')\n",
    "h, l, mdd = MDD(sv100_cr[:-11].values)\n",
    "print(f'value (~2020.02): high - {sv100_cr[:-10].index[h]}, low - {sv100_cr[:-10].index[l]}, mdd - {round(mdd, 4)}')\n",
    "\n",
    "t, r = hit_ratio(sm100_r.values[75:], 12, False)\n",
    "print(f'momentum (hit): total - {t}, recent - {r}')\n",
    "t, r = hit_ratio(sv100_r.values[75:], 12, False)\n",
    "print(f'value (hit): total - {t}, recent - {r}')\n",
    "\n",
    "sns.set_style('whitegrid')\n",
    "# 모멘텀 너무 괴랄하게 나와서 제외(특이 케이스같음..)\n",
    "# sns.lineplot(sm100_cr.index, sm100_cr, label='momentum')\n",
    "sns.lineplot(sv100_cr.index, sv100_cr, label='value')\n",
    "plt.title('small100')\n",
    "plt.show()"
   ]
  },
  {
   "cell_type": "code",
   "execution_count": 14,
   "metadata": {},
   "outputs": [],
   "source": [
    "vol_rank = m_pm.rolling(48).std().rank(axis=1, pct=1)"
   ]
  },
  {
   "cell_type": "code",
   "execution_count": 27,
   "metadata": {},
   "outputs": [
    {
     "name": "stdout",
     "output_type": "stream",
     "text": [
      "value:    high - 2020-01-31 00:00:00, low - 2020-03-31 00:00:00, mdd - 0.2597\n",
      "value:    high - 2020-01-31 00:00:00, low - 2020-02-29 00:00:00, mdd - 0.0999\n",
      "value (hit): total - 0.6369, recent - 10\n"
     ]
    },
    {
     "data": {
      "image/png": "[encoded data removed]",
      "text/plain": [
       "<Figure size 432x288 with 1 Axes>"
      ]
     },
     "metadata": {},
     "output_type": "display_data"
    }
   ],
   "source": [
    "s100_mask = (m_cap.rank(axis=1) <= 200)# & (m_cap.rank(axis=1) >= 200)\n",
    "sq100_mask = total_qz[s100_mask].rank(axis=1, pct=True) < 0.2\n",
    "\n",
    "# 최근 주가로 계산한 value factor\n",
    "sv100_mask_r = total_vzr[sq100_mask].rank(axis=1, pct=True) < 0.4\n",
    "sv100_mask_r = vol_rank[sv100_mask_r] < 0.3\n",
    "sv100_cap_weight_r = (m_cap[sv100_mask_r].T / m_cap[sv100_mask_r].sum(axis=1)).T\n",
    "# sv100_r_r = (m_ret * sv100_cap_weight_r.shift(1)).sum(axis = 1)\n",
    "\n",
    "# 동일비중\n",
    "sv100_r_r = m_ret[sv100_mask_r.shift(1)].mean(axis=1).fillna(0)\n",
    "\n",
    "sv100_cr_r = (sv100_r_r + 1).fillna(1).cumprod()[75:-1]             \n",
    "\n",
    "h, l, mdd = MDD(sv100_cr_r.values)\n",
    "print(f'value:    high - {sv100_cr_r.index[h]}, low - {sv100_cr_r.index[l]}, mdd - {round(mdd, 4)}')\n",
    "h, l, mdd = MDD(sv100_cr_r[:-11].values)\n",
    "print(f'value:    high - {sv100_cr_r.index[h]}, low - {sv100_cr_r.index[l]}, mdd - {round(mdd, 4)}')\n",
    "\n",
    "t, r = hit_ratio(sv100_r_r.values[75:], 12, False)\n",
    "print(f'value (hit): total - {t}, recent - {r}')\n",
    "\n",
    "sns.set_style('whitegrid')\n",
    "#모멘텀 너무 괴랄하게 나와서 제외(특이 케이스같음..)\n",
    "sns.lineplot(sv100_cr_r.index, sv100_cr_r, label='value')\n",
    "plt.title('small100')\n",
    "plt.show()"
   ]
  },
  {
   "cell_type": "code",
   "execution_count": 123,
   "metadata": {},
   "outputs": [
    {
     "name": "stdout",
     "output_type": "stream",
     "text": [
      "2007-01-31 00:00:00\n",
      "1월: 51.771, 전체: 43.0719\n"
     ]
    }
   ],
   "source": [
    "# 소형주 1월효과 존재하는지\n",
    "print(sv100_cr.index[9])\n",
    "print(f'1월: {round(sv100_cr[9::12].mean(), 4)}, 전체: {round(sv100_cr.mean(), 4)}')"
   ]
  },
  {
   "cell_type": "code",
   "execution_count": 124,
   "metadata": {},
   "outputs": [],
   "source": [
    "# 5% 이상 떨어지는 경우 손절하고 해당 월에는 다시 투자하지 않음 (익절라인 잡지않는 것이 이득)\n",
    "# 현재가로 변환해서 투자하는게 더 좋음 (수익률의 변동성이 더 낮음)\n",
    "m_ret_t = m_ret.copy()\n",
    "out = 0.9\n",
    "rein = 0.8\n",
    "pm_group =  pm.groupby('date')\n",
    "for i in range(75, len(sv100_mask_r.index)):\n",
    "    portfolio = sv100_mask_r.iloc[i][sv100_mask_r.iloc[i]==True].index\n",
    "    m_pm_info =pm_group.get_group(sv100_mask_r.index[i])[portfolio]\n",
    "    stop_loss_mask = (m_pm_info < (m_pm_info.iloc[0] * out))\n",
    "    stop_loss_idx = stop_loss_mask.sum()[stop_loss_mask.sum() > 0].index\n",
    "    if len(stop_loss_idx) > 0:\n",
    "        m_ret_t.iloc[i][stop_loss_idx] = (m_pm_info[stop_loss_mask].bfill() / m_pm_info.iloc[0] - 1).iloc[0].dropna()\n",
    "        for j in stop_loss_idx:\n",
    "            rein_mask = m_pm_info[stop_loss_mask][j].bfill().dropna()[1:] < (m_pm_info[j][0] * rein)\n",
    "            if rein_mask.sum() > 0:\n",
    "                rein_r = m_pm_info[j][-1] - m_pm_info[stop_loss_mask][j].bfill().dropna()[1:][rein_mask].ffill()[0]\n",
    "                m_ret_t[j][i] = (m_ret_t[j][i] * m_pm_info[j].iloc[0] + rein_r) / m_pm_info[j].iloc[0]"
   ]
  },
  {
   "cell_type": "code",
   "execution_count": 126,
   "metadata": {},
   "outputs": [
    {
     "name": "stdout",
     "output_type": "stream",
     "text": [
      "value:    high - 2020-01-31 00:00:00, low - 2020-03-31 00:00:00, mdd - 0.2179\n",
      "value (hit): total - 0.6089, recent - 9\n"
     ]
    },
    {
     "data": {
      "image/png": "[encoded data removed]",
      "text/plain": [
       "<Figure size 432x288 with 1 Axes>"
      ]
     },
     "metadata": {},
     "output_type": "display_data"
    }
   ],
   "source": [
    "sv100_r10 = m_ret_t[sv100_mask_r.shift(1)].mean(axis=1).fillna(0)\n",
    "sv100_cr10 = (sv100_r10 + 1).cumprod()[75:-1]\n",
    "\n",
    "h, l, mdd = MDD(sv100_cr10.values)\n",
    "print(f'value:    high - {sv100_cr10.index[h]}, low - {sv100_cr10.index[l]}, mdd - {round(mdd, 4)}')\n",
    "t, r = hit_ratio(sv100_r10.values[75:], 12, False)\n",
    "print(f'value (hit): total - {t}, recent - {r}')\n",
    "\n",
    "sns.set_style('whitegrid')\n",
    "sns.lineplot(sv100_cr10.index, sv100_cr10, label='value')\n",
    "plt.title('small100')\n",
    "plt.show()"
   ]
  },
  {
   "cell_type": "code",
   "execution_count": 19,
   "metadata": {},
   "outputs": [],
   "source": [
    "m_ret_t = m_ret.copy()\n",
    "cnt=0\n",
    "for i in range(75, len(bm100_mask.index)):\n",
    "    portfolio = bm100_mask.iloc[i][bm100_mask.iloc[i]==True].index\n",
    "    m_pm_info = pm.groupby('date').get_group(bm100_mask.index[i])[portfolio]\n",
    "    stop_loss = (m_pm_info < (m_pm_info.iloc[0] * 0.9)).sum()\n",
    "    if len(stop_loss[stop_loss > 0].index) > 0:\n",
    "        m_ret_t.iloc[i][stop_loss[stop_loss > 0].index] = -0.1"
   ]
  },
  {
   "cell_type": "code",
   "execution_count": 20,
   "metadata": {},
   "outputs": [
    {
     "name": "stdout",
     "output_type": "stream",
     "text": [
      "value:    high - 2007-10-31 00:00:00, low - 2020-03-31 00:00:00, mdd - 0.6952\n",
      "value (hit): total - 0.4916, recent - 6\n"
     ]
    },
    {
     "data": {
      "image/png": "[encoded data removed]",
      "text/plain": [
       "<Figure size 432x288 with 1 Axes>"
      ]
     },
     "metadata": {},
     "output_type": "display_data"
    }
   ],
   "source": [
    "bm100_cap_weight10 = (m_cap[bm100_mask].T / m_cap[bm100_mask].sum(axis=1)).T\n",
    "bm100_r10 = (m_ret_t * bm100_cap_weight10.shift(1)).sum(axis = 1)\n",
    "bm100_cr10 = (bm100_r10 + 1).cumprod()[75:-1]\n",
    "\n",
    "h, l, mdd = MDD(bm100_cr10.values)\n",
    "print(f'value:    high - {bm100_cr10.index[h]}, low - {bm100_cr10.index[l]}, mdd - {round(mdd, 4)}')\n",
    "t, r = hit_ratio(bm100_r10.values[75:], 12, False)\n",
    "print(f'value (hit): total - {t}, recent - {r}')\n",
    "\n",
    "sns.set_style('whitegrid')\n",
    "sns.lineplot(bm100_cr10.index, bm100_cr10, label='value')\n",
    "plt.title('big100')\n",
    "plt.show()"
   ]
  },
  {
   "cell_type": "markdown",
   "metadata": {},
   "source": [
    "## 대형주 momentum + 소형주 value (효과 극대화)<br>\n",
    "### 대형주 - 시가총액 상위 200개 종목, quality 상위 60%, momentum 상위 10%\n",
    "### 소형주 - 시가총액 하위 100개 종목, quality 상위 20%, value 상위 30%\n",
    "##### (간단한 서치로 수익률, MDD 좋은 것으로 정함)\n",
    "##### (합쳐서 10개 종목이 넘지 않게함)"
   ]
  },
  {
   "cell_type": "code",
   "execution_count": 128,
   "metadata": {},
   "outputs": [],
   "source": [
    "bm_idx = bm100_mask.iloc[-1][bm100_mask.iloc[-1]==True].index\n",
    "sv_idx = sv100_mask.iloc[-1][sv100_mask.iloc[-1]==True].index\n",
    "sv_idx_r = sv100_mask_r.iloc[-1][sv100_mask_r.iloc[-1]==True].index\n",
    "bs_idx = list(bm_idx) + list(sv_idx)\n",
    "bs_idx_r = list(bm_idx) + list(sv_idx_r)"
   ]
  },
  {
   "cell_type": "code",
   "execution_count": 129,
   "metadata": {},
   "outputs": [
    {
     "name": "stdout",
     "output_type": "stream",
     "text": [
      "25999.729857204875\n",
      "588.565628033737\n",
      "495.93166360263297\n",
      "12963.685312776526\n",
      "12967.755755411688\n"
     ]
    }
   ],
   "source": [
    "# 변동성 비교\n",
    "bm_cov = pm[bm_idx].cov()\n",
    "bm_weight = bm100_cap_weight.iloc[-1].dropna()\n",
    "print(np.sqrt(np.dot(bm_weight.T.values, np.dot(bm_cov.values, bm_weight.values))))\n",
    "\n",
    "sv_cov = pm[sv_idx].cov()\n",
    "# 동일비중\n",
    "sv_weight = np.ones(len(sv_idx)) / len(sv_idx)\n",
    "# 시가총액가중\n",
    "# sv_weight = sv100_cap_weight.iloc[-1].dropna()\n",
    "print(np.sqrt(np.dot(sv_weight, np.dot(sv_cov.values, sv_weight))))\n",
    "\n",
    "sv_cov_r = pm[sv_idx_r].cov()\n",
    "sv_weight_r = np.ones(len(sv_idx_r)) / len(sv_idx_r)\n",
    "print(np.sqrt(np.dot(sv_weight_r, np.dot(sv_cov_r.values, sv_weight_r))))\n",
    "\n",
    "big = 0.5\n",
    "bs_cov = pm[bs_idx].cov()\n",
    "bs_weight = np.append(bm_weight * big, sv_weight * (1 - big))\n",
    "print(np.sqrt(np.dot(bs_weight, np.dot(bs_cov.values, bs_weight))))\n",
    "\n",
    "bs_cov_r = pm[bs_idx_r].cov()\n",
    "bs_weight_r = np.append(bm_weight * big, sv_weight_r * (1 - big))\n",
    "print(np.sqrt(np.dot(bs_weight_r, np.dot(bs_cov_r.values, bs_weight_r))))"
   ]
  },
  {
   "cell_type": "code",
   "execution_count": 130,
   "metadata": {},
   "outputs": [
    {
     "name": "stdout",
     "output_type": "stream",
     "text": [
      "0.3337138423908663\n"
     ]
    },
    {
     "data": {
      "image/png": "[encoded data removed]",
      "text/plain": [
       "<Figure size 432x288 with 1 Axes>"
      ]
     },
     "metadata": {},
     "output_type": "display_data"
    }
   ],
   "source": [
    "# 효과를 극대화한 대형주 momentum, 소형주 value 누적수익률\n",
    "bm100_cap_weight_f0 = bm100_cap_weight.fillna(0)\n",
    "\n",
    "# 동일비중\n",
    "sv_t = sv100_mask.copy().astype(int)\n",
    "sv_t['temp'] = sv100_mask.sum(axis=1)\n",
    "sv_t = sv_t.replace(1, 0).replace(0, np.nan).bfill(axis=1)\n",
    "del sv_t['temp']\n",
    "sv100_cap_weight_f0 = (sv100_mask.astype(int) / sv_t)\n",
    "\n",
    "bs_cap_weight = (bm100_cap_weight_f0 * big + sv100_cap_weight_f0 * (1- big))\n",
    "bs_cr = ((m_ret * bs_cap_weight.shift(1)).sum(axis=1) + 1).cumprod()[75:]\n",
    "print(MDD(bs_cr)[2])\n",
    "sns.lineplot(bs_cr.index, bs_cr)\n",
    "plt.show()"
   ]
  },
  {
   "cell_type": "code",
   "execution_count": 131,
   "metadata": {},
   "outputs": [
    {
     "name": "stdout",
     "output_type": "stream",
     "text": [
      "0.3088925317231583\n"
     ]
    },
    {
     "data": {
      "image/png": "[encoded data removed]",
      "text/plain": [
       "<Figure size 432x288 with 1 Axes>"
      ]
     },
     "metadata": {},
     "output_type": "display_data"
    }
   ],
   "source": [
    "sv_tr = sv100_mask_r.copy().astype(int)\n",
    "sv_tr['temp'] = sv100_mask_r.sum(axis=1)\n",
    "sv_tr = sv_tr.replace(1, 0).replace(0, np.nan).bfill(axis=1)\n",
    "del sv_tr['temp']\n",
    "sv100_cap_weight_f0_r = (sv100_mask_r.astype(int) / sv_tr)\n",
    "\n",
    "bs_cap_weight_r = (bm100_cap_weight_f0 * big + sv100_cap_weight_f0_r * (1- big))\n",
    "bs_cr_r = ((m_ret * bs_cap_weight_r.shift(1)).sum(axis=1) + 1).cumprod()[75:]\n",
    "print(MDD(bs_cr_r)[2])\n",
    "sns.lineplot(bs_cr_r.index, bs_cr_r)\n",
    "plt.show()"
   ]
  },
  {
   "cell_type": "code",
   "execution_count": 132,
   "metadata": {},
   "outputs": [
    {
     "name": "stdout",
     "output_type": "stream",
     "text": [
      "-0.029143931501308177\n",
      "0.33394334057451575\n",
      "0.28493335783700857\n",
      "0.1707545591441733\n",
      "0.17645012450759012\n"
     ]
    }
   ],
   "source": [
    "# 샤프비율 비교\n",
    "bm_mr = (m_ret * bm100_cap_weight_f0.shift(1)).sum(axis=1)\n",
    "sv_mr = (m_ret * sv100_cap_weight_f0.shift(1)).sum(axis=1)\n",
    "sv_mr_r = (m_ret * sv100_cap_weight_f0_r.shift(1)).sum(axis=1)\n",
    "bs_mr = (m_ret * bs_cap_weight.shift(1)).sum(axis=1)\n",
    "bs_mr_r = (m_ret * bs_cap_weight_r.shift(1)).sum(axis=1)\n",
    "print(bm_mr.mean() / bm_mr.std())\n",
    "print(sv_mr.mean() / sv_mr.std())\n",
    "print(sv_mr_r.mean() / sv_mr_r.std())\n",
    "print(bs_mr.mean() / bs_mr.std())\n",
    "print(bs_mr_r.mean() / bs_mr_r.std())"
   ]
  },
  {
   "cell_type": "code",
   "execution_count": 133,
   "metadata": {},
   "outputs": [
    {
     "data": {
      "text/html": [
       "<div>\n",
       "<style scoped>\n",
       "    .dataframe tbody tr th:only-of-type {\n",
       "        vertical-align: middle;\n",
       "    }\n",
       "\n",
       "    .dataframe tbody tr th {\n",
       "        vertical-align: top;\n",
       "    }\n",
       "\n",
       "    .dataframe thead th {\n",
       "        text-align: right;\n",
       "    }\n",
       "</style>\n",
       "<table border=\"1\" class=\"dataframe\">\n",
       "  <thead>\n",
       "    <tr style=\"text-align: right;\">\n",
       "      <th></th>\n",
       "      <th>A208710</th>\n",
       "      <th>A900280</th>\n",
       "      <th>A090150</th>\n",
       "      <th>A007530</th>\n",
       "      <th>A012620</th>\n",
       "      <th>A900300</th>\n",
       "      <th>A091440</th>\n",
       "      <th>A323230</th>\n",
       "      <th>A060380</th>\n",
       "      <th>A032280</th>\n",
       "      <th>A900110</th>\n",
       "      <th>A098660</th>\n",
       "      <th>A900080</th>\n",
       "    </tr>\n",
       "  </thead>\n",
       "  <tbody>\n",
       "    <tr>\n",
       "      <th>A091990</th>\n",
       "      <td>-0.112155</td>\n",
       "      <td>-0.167304</td>\n",
       "      <td>0.294146</td>\n",
       "      <td>0.483331</td>\n",
       "      <td>0.134825</td>\n",
       "      <td>-0.317258</td>\n",
       "      <td>0.421557</td>\n",
       "      <td>-0.128471</td>\n",
       "      <td>0.097793</td>\n",
       "      <td>-0.059207</td>\n",
       "      <td>-0.025730</td>\n",
       "      <td>-0.297516</td>\n",
       "      <td>-0.257333</td>\n",
       "    </tr>\n",
       "    <tr>\n",
       "      <th>A068760</th>\n",
       "      <td>-0.446096</td>\n",
       "      <td>-0.556636</td>\n",
       "      <td>0.112509</td>\n",
       "      <td>0.147469</td>\n",
       "      <td>0.346646</td>\n",
       "      <td>-0.631797</td>\n",
       "      <td>0.442699</td>\n",
       "      <td>-0.103119</td>\n",
       "      <td>0.201148</td>\n",
       "      <td>0.056961</td>\n",
       "      <td>-0.599909</td>\n",
       "      <td>0.068616</td>\n",
       "      <td>-0.589408</td>\n",
       "    </tr>\n",
       "    <tr>\n",
       "      <th>A096530</th>\n",
       "      <td>-0.395268</td>\n",
       "      <td>-0.471439</td>\n",
       "      <td>0.137665</td>\n",
       "      <td>-0.002969</td>\n",
       "      <td>0.033741</td>\n",
       "      <td>-0.629837</td>\n",
       "      <td>0.212515</td>\n",
       "      <td>-0.251898</td>\n",
       "      <td>-0.023708</td>\n",
       "      <td>-0.104075</td>\n",
       "      <td>-0.352317</td>\n",
       "      <td>0.019459</td>\n",
       "      <td>-0.445090</td>\n",
       "    </tr>\n",
       "    <tr>\n",
       "      <th>A196170</th>\n",
       "      <td>-0.496003</td>\n",
       "      <td>-0.589594</td>\n",
       "      <td>0.063398</td>\n",
       "      <td>-0.262036</td>\n",
       "      <td>-0.394720</td>\n",
       "      <td>-0.730154</td>\n",
       "      <td>0.004915</td>\n",
       "      <td>-0.256752</td>\n",
       "      <td>-0.263323</td>\n",
       "      <td>-0.474222</td>\n",
       "      <td>-0.448330</td>\n",
       "      <td>-0.266768</td>\n",
       "      <td>-0.632087</td>\n",
       "    </tr>\n",
       "    <tr>\n",
       "      <th>A064760</th>\n",
       "      <td>-0.384704</td>\n",
       "      <td>-0.674697</td>\n",
       "      <td>0.165455</td>\n",
       "      <td>0.398525</td>\n",
       "      <td>0.594023</td>\n",
       "      <td>-0.736300</td>\n",
       "      <td>0.619019</td>\n",
       "      <td>-0.222322</td>\n",
       "      <td>0.416818</td>\n",
       "      <td>0.305679</td>\n",
       "      <td>-0.727511</td>\n",
       "      <td>0.261072</td>\n",
       "      <td>-0.663490</td>\n",
       "    </tr>\n",
       "    <tr>\n",
       "      <th>A141080</th>\n",
       "      <td>-0.455440</td>\n",
       "      <td>-0.625683</td>\n",
       "      <td>0.236014</td>\n",
       "      <td>-0.034312</td>\n",
       "      <td>-0.038645</td>\n",
       "      <td>-0.715765</td>\n",
       "      <td>0.298952</td>\n",
       "      <td>-0.164337</td>\n",
       "      <td>0.252289</td>\n",
       "      <td>-0.272984</td>\n",
       "      <td>-0.678822</td>\n",
       "      <td>0.031407</td>\n",
       "      <td>-0.732478</td>\n",
       "    </tr>\n",
       "    <tr>\n",
       "      <th>A069080</th>\n",
       "      <td>-0.084305</td>\n",
       "      <td>-0.225701</td>\n",
       "      <td>0.116669</td>\n",
       "      <td>-0.057967</td>\n",
       "      <td>0.091962</td>\n",
       "      <td>-0.292590</td>\n",
       "      <td>0.670747</td>\n",
       "      <td>-0.194261</td>\n",
       "      <td>-0.162957</td>\n",
       "      <td>0.089430</td>\n",
       "      <td>-0.382497</td>\n",
       "      <td>0.464808</td>\n",
       "      <td>-0.420772</td>\n",
       "    </tr>\n",
       "    <tr>\n",
       "      <th>A144510</th>\n",
       "      <td>-0.354570</td>\n",
       "      <td>-0.460132</td>\n",
       "      <td>-0.133385</td>\n",
       "      <td>-0.144456</td>\n",
       "      <td>-0.101698</td>\n",
       "      <td>-0.463866</td>\n",
       "      <td>0.112819</td>\n",
       "      <td>-0.121176</td>\n",
       "      <td>-0.113977</td>\n",
       "      <td>-0.306782</td>\n",
       "      <td>-0.417285</td>\n",
       "      <td>-0.453304</td>\n",
       "      <td>-0.459407</td>\n",
       "    </tr>\n",
       "    <tr>\n",
       "      <th>A025900</th>\n",
       "      <td>-0.080890</td>\n",
       "      <td>-0.246836</td>\n",
       "      <td>0.319205</td>\n",
       "      <td>0.723175</td>\n",
       "      <td>0.779460</td>\n",
       "      <td>-0.386068</td>\n",
       "      <td>0.749243</td>\n",
       "      <td>-0.186735</td>\n",
       "      <td>0.600933</td>\n",
       "      <td>0.142990</td>\n",
       "      <td>-0.500216</td>\n",
       "      <td>0.536598</td>\n",
       "      <td>-0.502835</td>\n",
       "    </tr>\n",
       "    <tr>\n",
       "      <th>A048410</th>\n",
       "      <td>-0.505847</td>\n",
       "      <td>-0.625842</td>\n",
       "      <td>0.629429</td>\n",
       "      <td>-0.486044</td>\n",
       "      <td>-0.535136</td>\n",
       "      <td>-0.686881</td>\n",
       "      <td>0.196775</td>\n",
       "      <td>0.282233</td>\n",
       "      <td>-0.432719</td>\n",
       "      <td>-0.271992</td>\n",
       "      <td>-0.331365</td>\n",
       "      <td>0.133009</td>\n",
       "      <td>-0.114744</td>\n",
       "    </tr>\n",
       "    <tr>\n",
       "      <th>A089980</th>\n",
       "      <td>-0.368782</td>\n",
       "      <td>-0.553430</td>\n",
       "      <td>0.360554</td>\n",
       "      <td>0.089777</td>\n",
       "      <td>0.158018</td>\n",
       "      <td>-0.656199</td>\n",
       "      <td>0.373076</td>\n",
       "      <td>-0.167233</td>\n",
       "      <td>0.356167</td>\n",
       "      <td>-0.061871</td>\n",
       "      <td>-0.674170</td>\n",
       "      <td>0.067177</td>\n",
       "      <td>-0.692106</td>\n",
       "    </tr>\n",
       "    <tr>\n",
       "      <th>A222080</th>\n",
       "      <td>-0.471923</td>\n",
       "      <td>-0.526671</td>\n",
       "      <td>0.109348</td>\n",
       "      <td>-0.166920</td>\n",
       "      <td>-0.351250</td>\n",
       "      <td>-0.655506</td>\n",
       "      <td>0.004900</td>\n",
       "      <td>-0.211753</td>\n",
       "      <td>-0.234956</td>\n",
       "      <td>-0.351043</td>\n",
       "      <td>-0.424589</td>\n",
       "      <td>-0.235354</td>\n",
       "      <td>-0.547268</td>\n",
       "    </tr>\n",
       "    <tr>\n",
       "      <th>A088800</th>\n",
       "      <td>-0.476169</td>\n",
       "      <td>-0.603809</td>\n",
       "      <td>0.299075</td>\n",
       "      <td>0.034370</td>\n",
       "      <td>0.032049</td>\n",
       "      <td>-0.742292</td>\n",
       "      <td>0.217831</td>\n",
       "      <td>-0.148819</td>\n",
       "      <td>0.092347</td>\n",
       "      <td>0.019398</td>\n",
       "      <td>-0.395310</td>\n",
       "      <td>-0.002315</td>\n",
       "      <td>-0.391928</td>\n",
       "    </tr>\n",
       "    <tr>\n",
       "      <th>A053030</th>\n",
       "      <td>0.005376</td>\n",
       "      <td>-0.146152</td>\n",
       "      <td>0.219278</td>\n",
       "      <td>0.621833</td>\n",
       "      <td>0.760069</td>\n",
       "      <td>-0.320024</td>\n",
       "      <td>0.718910</td>\n",
       "      <td>-0.185310</td>\n",
       "      <td>0.432200</td>\n",
       "      <td>0.452083</td>\n",
       "      <td>-0.367059</td>\n",
       "      <td>0.537527</td>\n",
       "      <td>-0.368033</td>\n",
       "    </tr>\n",
       "    <tr>\n",
       "      <th>A206650</th>\n",
       "      <td>-0.442018</td>\n",
       "      <td>-0.543378</td>\n",
       "      <td>0.209142</td>\n",
       "      <td>-0.026454</td>\n",
       "      <td>-0.262471</td>\n",
       "      <td>-0.650748</td>\n",
       "      <td>0.116758</td>\n",
       "      <td>-0.180744</td>\n",
       "      <td>-0.303988</td>\n",
       "      <td>-0.382416</td>\n",
       "      <td>-0.427249</td>\n",
       "      <td>-0.180195</td>\n",
       "      <td>-0.585780</td>\n",
       "    </tr>\n",
       "    <tr>\n",
       "      <th>A078600</th>\n",
       "      <td>-0.563067</td>\n",
       "      <td>-0.721144</td>\n",
       "      <td>-0.045889</td>\n",
       "      <td>0.025409</td>\n",
       "      <td>0.327598</td>\n",
       "      <td>-0.780625</td>\n",
       "      <td>0.298674</td>\n",
       "      <td>-0.212768</td>\n",
       "      <td>0.140969</td>\n",
       "      <td>-0.024622</td>\n",
       "      <td>-0.509608</td>\n",
       "      <td>-0.084249</td>\n",
       "      <td>-0.506682</td>\n",
       "    </tr>\n",
       "    <tr>\n",
       "      <th>A131290</th>\n",
       "      <td>-0.324450</td>\n",
       "      <td>-0.409422</td>\n",
       "      <td>0.210976</td>\n",
       "      <td>0.076307</td>\n",
       "      <td>0.089953</td>\n",
       "      <td>-0.547682</td>\n",
       "      <td>0.174029</td>\n",
       "      <td>-0.190250</td>\n",
       "      <td>0.132657</td>\n",
       "      <td>-0.069006</td>\n",
       "      <td>-0.241176</td>\n",
       "      <td>0.010653</td>\n",
       "      <td>-0.304095</td>\n",
       "    </tr>\n",
       "    <tr>\n",
       "      <th>A140860</th>\n",
       "      <td>-0.649039</td>\n",
       "      <td>-0.743687</td>\n",
       "      <td>-0.152974</td>\n",
       "      <td>-0.444930</td>\n",
       "      <td>-0.529158</td>\n",
       "      <td>-0.784759</td>\n",
       "      <td>-0.193503</td>\n",
       "      <td>-0.134572</td>\n",
       "      <td>-0.193920</td>\n",
       "      <td>-0.639564</td>\n",
       "      <td>-0.788174</td>\n",
       "      <td>-0.578983</td>\n",
       "      <td>-0.842786</td>\n",
       "    </tr>\n",
       "  </tbody>\n",
       "</table>\n",
       "</div>"
      ],
      "text/plain": [
       "          A208710   A900280   A090150   A007530   A012620   A900300   A091440  \\\n",
       "A091990 -0.112155 -0.167304  0.294146  0.483331  0.134825 -0.317258  0.421557   \n",
       "A068760 -0.446096 -0.556636  0.112509  0.147469  0.346646 -0.631797  0.442699   \n",
       "A096530 -0.395268 -0.471439  0.137665 -0.002969  0.033741 -0.629837  0.212515   \n",
       "A196170 -0.496003 -0.589594  0.063398 -0.262036 -0.394720 -0.730154  0.004915   \n",
       "A064760 -0.384704 -0.674697  0.165455  0.398525  0.594023 -0.736300  0.619019   \n",
       "A141080 -0.455440 -0.625683  0.236014 -0.034312 -0.038645 -0.715765  0.298952   \n",
       "A069080 -0.084305 -0.225701  0.116669 -0.057967  0.091962 -0.292590  0.670747   \n",
       "A144510 -0.354570 -0.460132 -0.133385 -0.144456 -0.101698 -0.463866  0.112819   \n",
       "A025900 -0.080890 -0.246836  0.319205  0.723175  0.779460 -0.386068  0.749243   \n",
       "A048410 -0.505847 -0.625842  0.629429 -0.486044 -0.535136 -0.686881  0.196775   \n",
       "A089980 -0.368782 -0.553430  0.360554  0.089777  0.158018 -0.656199  0.373076   \n",
       "A222080 -0.471923 -0.526671  0.109348 -0.166920 -0.351250 -0.655506  0.004900   \n",
       "A088800 -0.476169 -0.603809  0.299075  0.034370  0.032049 -0.742292  0.217831   \n",
       "A053030  0.005376 -0.146152  0.219278  0.621833  0.760069 -0.320024  0.718910   \n",
       "A206650 -0.442018 -0.543378  0.209142 -0.026454 -0.262471 -0.650748  0.116758   \n",
       "A078600 -0.563067 -0.721144 -0.045889  0.025409  0.327598 -0.780625  0.298674   \n",
       "A131290 -0.324450 -0.409422  0.210976  0.076307  0.089953 -0.547682  0.174029   \n",
       "A140860 -0.649039 -0.743687 -0.152974 -0.444930 -0.529158 -0.784759 -0.193503   \n",
       "\n",
       "          A323230   A060380   A032280   A900110   A098660   A900080  \n",
       "A091990 -0.128471  0.097793 -0.059207 -0.025730 -0.297516 -0.257333  \n",
       "A068760 -0.103119  0.201148  0.056961 -0.599909  0.068616 -0.589408  \n",
       "A096530 -0.251898 -0.023708 -0.104075 -0.352317  0.019459 -0.445090  \n",
       "A196170 -0.256752 -0.263323 -0.474222 -0.448330 -0.266768 -0.632087  \n",
       "A064760 -0.222322  0.416818  0.305679 -0.727511  0.261072 -0.663490  \n",
       "A141080 -0.164337  0.252289 -0.272984 -0.678822  0.031407 -0.732478  \n",
       "A069080 -0.194261 -0.162957  0.089430 -0.382497  0.464808 -0.420772  \n",
       "A144510 -0.121176 -0.113977 -0.306782 -0.417285 -0.453304 -0.459407  \n",
       "A025900 -0.186735  0.600933  0.142990 -0.500216  0.536598 -0.502835  \n",
       "A048410  0.282233 -0.432719 -0.271992 -0.331365  0.133009 -0.114744  \n",
       "A089980 -0.167233  0.356167 -0.061871 -0.674170  0.067177 -0.692106  \n",
       "A222080 -0.211753 -0.234956 -0.351043 -0.424589 -0.235354 -0.547268  \n",
       "A088800 -0.148819  0.092347  0.019398 -0.395310 -0.002315 -0.391928  \n",
       "A053030 -0.185310  0.432200  0.452083 -0.367059  0.537527 -0.368033  \n",
       "A206650 -0.180744 -0.303988 -0.382416 -0.427249 -0.180195 -0.585780  \n",
       "A078600 -0.212768  0.140969 -0.024622 -0.509608 -0.084249 -0.506682  \n",
       "A131290 -0.190250  0.132657 -0.069006 -0.241176  0.010653 -0.304095  \n",
       "A140860 -0.134572 -0.193920 -0.639564 -0.788174 -0.578983 -0.842786  "
      ]
     },
     "execution_count": 133,
     "metadata": {},
     "output_type": "execute_result"
    }
   ],
   "source": [
    "pm[bs_idx].corr().loc[bm_idx][sv_idx]"
   ]
  },
  {
   "cell_type": "code",
   "execution_count": 134,
   "metadata": {},
   "outputs": [
    {
     "name": "stdout",
     "output_type": "stream",
     "text": [
      "셀트리온헬스케어 091990 4.3345\n",
      "셀트리온제약 068760 1.2219\n",
      "씨젠 096530 0.8836\n",
      "알테오젠 196170 0.7604\n",
      "티씨케이 064760 0.3385\n",
      "레고켐바이오 141080 0.2638\n",
      "웹젠 069080 0.272\n",
      "녹십자랩셀 144510 0.2276\n",
      "동화기업 025900 0.2427\n",
      "현대바이오 048410 0.2086\n",
      "상아프론테크 089980 0.1818\n",
      "씨아이에스 222080 0.1777\n",
      "에이스테크 088800 0.1787\n",
      "바이넥스 053030 0.1671\n",
      "유바이오로직스 206650 0.1384\n",
      "대주전자재료 078600 0.1365\n",
      "티에스이 131290 0.1325\n",
      "파크시스템스 140860 0.1337\n",
      "바이오로그디바이스 208710 0.7692\n",
      "골든센츄리 900280 0.7692\n",
      "광진윈텍 090150 0.7692\n",
      "영신금속 007530 0.7692\n",
      "원일특강 012620 0.7692\n",
      "오가닉티코스메틱 900300 0.7692\n",
      "텔레필드 091440 0.7692\n",
      "엠에프엠코리아 323230 0.7692\n",
      "동양에스텍 060380 0.7692\n",
      "삼일 032280 0.7692\n",
      "이스트아시아홀딩스 900110 0.7692\n",
      "에스티오 098660 0.7692\n",
      "에스앤씨엔진그룹 900080 0.7692\n"
     ]
    }
   ],
   "source": [
    "seed = 20\n",
    "bs_invest = bs_weight*seed\n",
    "code_df = pd.read_html('http://kind.krx.co.kr/corpgeneral/corpList.do?method=download', header=0)[0][['회사명', '종목코드']]\n",
    "for i in range(len(bs_idx)):\n",
    "    print(code_df.query(f'종목코드=={int(bs_idx[i][1:])}').values[0][0], bs_idx[i][1:], round(bs_invest[i], 4))"
   ]
  },
  {
   "cell_type": "code",
   "execution_count": 135,
   "metadata": {},
   "outputs": [
    {
     "name": "stdout",
     "output_type": "stream",
     "text": [
      "셀트리온헬스케어 091990 4.3345\n",
      "셀트리온제약 068760 1.2219\n",
      "씨젠 096530 0.8836\n",
      "알테오젠 196170 0.7604\n",
      "티씨케이 064760 0.3385\n",
      "레고켐바이오 141080 0.2638\n",
      "웹젠 069080 0.272\n",
      "녹십자랩셀 144510 0.2276\n",
      "동화기업 025900 0.2427\n",
      "현대바이오 048410 0.2086\n",
      "상아프론테크 089980 0.1818\n",
      "씨아이에스 222080 0.1777\n",
      "에이스테크 088800 0.1787\n",
      "바이넥스 053030 0.1671\n",
      "유바이오로직스 206650 0.1384\n",
      "대주전자재료 078600 0.1365\n",
      "티에스이 131290 0.1325\n",
      "파크시스템스 140860 0.1337\n",
      "골든센츄리 900280 2.0\n",
      "영신금속 007530 2.0\n",
      "동양에스텍 060380 2.0\n",
      "이스트아시아홀딩스 900110 2.0\n",
      "에스티오 098660 2.0\n"
     ]
    }
   ],
   "source": [
    "seed = 20\n",
    "bs_invest_r = bs_weight_r*seed\n",
    "for i in range(len(bs_idx_r)):\n",
    "    print(code_df.query(f'종목코드=={int(bs_idx_r[i][1:])}').values[0][0], bs_idx_r[i][1:], round(bs_invest_r[i], 4))"
   ]
  },
  {
   "cell_type": "code",
   "execution_count": 137,
   "metadata": {},
   "outputs": [
    {
     "name": "stdout",
     "output_type": "stream",
     "text": [
      "골든센츄리 900280\n",
      "영신금속 007530\n",
      "동양에스텍 060380\n",
      "이스트아시아홀딩스 900110\n",
      "에스티오 098660\n",
      "\n"
     ]
    }
   ],
   "source": [
    "sv_idx = list(sv100_mask_r.iloc[-1][sv100_mask_r.iloc[-1]==True].index)\n",
    "for j in range(len(sv_idx)):\n",
    "    print(code_df.query(f'종목코드=={int(sv_idx[j][1:])}').values[0][0], sv_idx[j][1:])\n",
    "print()"
   ]
  },
  {
   "cell_type": "code",
   "execution_count": 138,
   "metadata": {},
   "outputs": [
    {
     "data": {
      "text/plain": [
       "A900280     300.0\n",
       "A007530    3550.0\n",
       "A060380    3570.0\n",
       "A900110     201.0\n",
       "A098660    2370.0\n",
       "Name: 2021-02-28 00:00:00, dtype: float64"
      ]
     },
     "execution_count": 138,
     "metadata": {},
     "output_type": "execute_result"
    }
   ],
   "source": [
    "pm[sv_idx].iloc[-1]"
   ]
  },
  {
   "cell_type": "markdown",
   "metadata": {},
   "source": [
    "## 시가총액이 낮은 기업이 상장폐지될 확률 높다고 생각<br>\n",
    "#### 시총이 낮으면 상폐가 많이 됐지만 quality와 value로 필터링한 종목에는 없음!"
   ]
  },
  {
   "cell_type": "code",
   "execution_count": 31,
   "metadata": {},
   "outputs": [
    {
     "name": "stdout",
     "output_type": "stream",
     "text": [
      "2000-02-29 00:00:00 {'A003380', 'A006000', 'A011890', 'A008920'}\n",
      "2000-05-31 00:00:00 {'A007840'}\n",
      "2000-07-31 00:00:00 {'A007090', 'A022770', 'A027610', 'A017620', 'A012010', 'A010810', 'A017740', 'A018720', 'A022510', 'A025150', 'A003430', 'A013310', 'A014090', 'A013320', 'A013850'}\n",
      "2000-08-31 00:00:00 {'A026240', 'A006300'}\n",
      "2000-12-31 00:00:00 {'A015060'}\n",
      "2001-01-31 00:00:00 {'A022060'}\n",
      "2001-06-30 00:00:00 {'A030700', 'A017090', 'A033300'}\n",
      "2001-08-31 00:00:00 {'A022870'}\n",
      "2001-09-30 00:00:00 {'A025080'}\n",
      "2001-10-31 00:00:00 {'A023780'}\n",
      "2002-04-30 00:00:00 {'A039500'}\n",
      "2002-05-31 00:00:00 {'A033070', 'A013630'}\n",
      "2002-06-30 00:00:00 {'A027560'}\n",
      "2002-07-31 00:00:00 {'A044570'}\n",
      "2002-08-31 00:00:00 {'A022780', 'A037740', 'A021930'}\n",
      "2002-11-30 00:00:00 {'A024080', 'A020490', 'A040780', 'A021740'}\n",
      "2002-12-31 00:00:00 {'A042470', 'A017210', 'A033040', 'A049790'}\n",
      "2003-01-31 00:00:00 {'A022220', 'A030970'}\n",
      "2003-04-30 00:00:00 {'A037280'}\n",
      "2003-05-31 00:00:00 {'A034970', 'A060840', 'A032780', 'A034980', 'A037410', 'A040750', 'A020860', 'A053960', 'A027890', 'A045240'}\n",
      "2003-07-31 00:00:00 {'A037200'}\n",
      "2003-08-31 00:00:00 {'A046930'}\n",
      "2003-11-30 00:00:00 {'A045920', 'A032150', 'A031150', 'A032600'}\n",
      "2003-12-31 00:00:00 {'A008780'}\n",
      "2004-01-31 00:00:00 {'A021090'}\n",
      "2004-03-31 00:00:00 {'A022610'}\n",
      "2004-04-30 00:00:00 {'A037600', 'A033210', 'A056140'}\n",
      "2004-05-31 00:00:00 {'A040130', 'A031970', 'A047610', 'A054530', 'A036720', 'A027440', 'A037010', 'A038050', 'A039580', 'A037730', 'A053200', 'A039390', 'A048150', 'A055000', 'A037750', 'A035960', 'A039000'}\n",
      "2004-06-30 00:00:00 {'A037250', 'A036910'}\n",
      "2004-07-31 00:00:00 {'A035870'}\n",
      "2004-09-30 00:00:00 {'A046000', 'A047060', 'A027350', 'A048540'}\n",
      "2004-11-30 00:00:00 {'A000380', 'A025450', 'A043690', 'A037120'}\n",
      "2005-01-31 00:00:00 {'A007830', 'A033020', 'A043790'}\n",
      "2005-02-28 00:00:00 {'A009220', 'A035780', 'A035910'}\n",
      "2005-04-30 00:00:00 {'A036880', 'A025690', 'A054080'}\n",
      "2005-05-31 00:00:00 {'A054370', 'A036900', 'A032050', 'A036590', 'A036820', 'A018180', 'A032610', 'A044440', 'A056500', 'A046810', 'A037220', 'A037650', 'A038100', 'A053250', 'A042960', 'A036020', 'A036600'}\n",
      "2005-06-30 00:00:00 {'A038960', 'A032180', 'A033220'}\n",
      "2005-07-31 00:00:00 {'A008030'}\n",
      "2005-09-30 00:00:00 {'A055810', 'A037030'}\n",
      "2005-10-31 00:00:00 {'A038980'}\n",
      "2005-11-30 00:00:00 {'A057110', 'A021570'}\n",
      "2005-12-31 00:00:00 {'A039870'}\n",
      "2006-01-31 00:00:00 {'A023420', 'A019560'}\n",
      "2006-05-31 00:00:00 {'A066480', 'A049370', 'A056060'}\n",
      "2006-08-31 00:00:00 {'A048760'}\n",
      "2007-05-31 00:00:00 {'A054790', 'A037060', 'A054440', 'A054250'}\n",
      "2007-06-30 00:00:00 {'A045310'}\n",
      "2008-04-30 00:00:00 {'A012460'}\n",
      "2008-05-31 00:00:00 {'A066330', 'A064720', 'A035270', 'A032590', 'A042570', 'A058680', 'A065810', 'A057330', 'A041940'}\n",
      "2008-06-30 00:00:00 {'A055970', 'A060660', 'A033330', 'A044370'}\n",
      "2008-08-31 00:00:00 {'A034750'}\n",
      "2008-09-30 00:00:00 {'A060410'}\n",
      "2008-10-31 00:00:00 {'A050600'}\n",
      "2009-01-31 00:00:00 {'A039060'}\n",
      "2009-05-31 00:00:00 {'A041310', 'A036280', 'A080570', 'A047370', 'A077960', 'A071360', 'A078610', 'A036360', 'A038410', 'A065910', 'A073780', 'A025460', 'A026230', 'A019640', 'A053170', 'A016890', 'A081500', 'A036760', 'A038810', 'A053890', 'A060550', 'A016040', 'A066200', 'A056020', 'A079870', 'A048270', 'A052310'}\n",
      "2009-06-30 00:00:00 {'A033720', 'A036790', 'A059720', 'A038920', 'A040020'}\n",
      "2009-07-31 00:00:00 {'A036610', 'A052560', 'A031800', 'A053070', 'A036270', 'A039990', 'A079340'}\n",
      "2009-08-31 00:00:00 {'A063280', 'A016990'}\n",
      "2009-09-30 00:00:00 {'A038830', 'A035950', 'A046320', 'A044070'}\n",
      "2009-10-31 00:00:00 {'A054650', 'A058550', 'A032570', 'A035500', 'A033880'}\n",
      "2009-11-30 00:00:00 {'A066850', 'A044770', 'A052640'}\n",
      "2009-12-31 00:00:00 {'A085680', 'A014420', 'A051530', 'A035010', 'A036660'}\n",
      "2010-01-31 00:00:00 {'A062730', 'A045380'}\n",
      "2010-02-28 00:00:00 {'A047940'}\n",
      "2010-03-31 00:00:00 {'A080140', 'A031960', 'A067950', 'A037830', 'A078700', 'A045400'}\n",
      "2010-04-30 00:00:00 {'A056850', 'A015050', 'A017010', 'A041800', 'A084810'}\n",
      "2010-05-31 00:00:00 {'A045290', 'A038690', 'A065340', 'A015170', 'A033190', 'A048130', 'A064060', 'A035710', 'A060670', 'A034660', 'A020070', 'A032030', 'A053440', 'A017050', 'A054020', 'A045880', 'A037110', 'A033260', 'A046350', 'A079560', 'A076090', 'A078670'}\n",
      "2010-06-30 00:00:00 {'A067850', 'A041630', 'A041320', 'A030390', 'A058480', 'A041030', 'A065410', 'A074140', 'A085990', 'A057100', 'A053470'}\n",
      "2010-07-31 00:00:00 {'A068770', 'A066300', 'A023670', 'A066930'}\n",
      "2010-08-31 00:00:00 {'A035830', 'A018890', 'A036850', 'A047710'}\n",
      "2010-09-30 00:00:00 {'A041550', 'A058690'}\n",
      "2010-10-31 00:00:00 {'A055250', 'A089240', 'A041450', 'A035400'}\n",
      "2010-11-30 00:00:00 {'A052970', 'A058900', 'A013650'}\n",
      "2010-12-31 00:00:00 {'A048140', 'A047450', 'A048510', 'A044640'}\n",
      "2011-01-31 00:00:00 {'A052210'}\n",
      "2011-02-28 00:00:00 {'A051820', 'A088020'}\n",
      "2011-03-31 00:00:00 {'A046240', 'A084450'}\n",
      "2011-04-30 00:00:00 {'A056200', 'A037150', 'A032380'}\n",
      "2011-05-31 00:00:00 {'A054170', 'A088810', 'A019430', 'A032290', 'A031990', 'A043630', 'A060750', 'A039040', 'A054150', 'A017160', 'A030030', 'A049690', 'A048640', 'A019120', 'A043680', 'A037020'}\n",
      "2011-06-30 00:00:00 {'A030420', 'A033850', 'A072530'}\n",
      "2011-07-31 00:00:00 {'A034600', 'A039350', 'A031950'}\n",
      "2011-09-30 00:00:00 {'A036550', 'A050640'}\n",
      "2011-10-31 00:00:00 {'A047600', 'A066340', 'A081090', 'A023020'}\n",
      "2011-11-30 00:00:00 {'A054010', 'A037700', 'A040180', 'A042870', 'A037550', 'A026540'}\n",
      "2011-12-31 00:00:00 {'A950030', 'A037540', 'A900020', 'A052810', 'A026220'}\n",
      "2012-01-31 00:00:00 {'A025970', 'A061140', 'A025340', 'A054120', 'A090090'}\n",
      "2012-02-29 00:00:00 {'A061050', 'A032930', 'A037380', 'A046720'}\n",
      "2012-03-31 00:00:00 {'A088960'}\n",
      "2012-04-30 00:00:00 {'A037320'}\n",
      "2012-05-31 00:00:00 {'A040740', 'A015390', 'A068630', 'A066690', 'A002670', 'A045470', 'A089480', 'A042340', 'A056710', 'A052350', 'A065610', 'A056010', 'A050470'}\n",
      "2012-06-30 00:00:00 {'A037240', 'A053040'}\n",
      "2012-07-31 00:00:00 {'A021060'}\n",
      "2012-08-31 00:00:00 {'A098400', 'A045260'}\n",
      "2012-09-30 00:00:00 {'A105070'}\n",
      "2012-10-31 00:00:00 {'A071660', 'A900150', 'A033280', 'A038320', 'A019260', 'A050050', 'A034510'}\n",
      "2012-11-30 00:00:00 {'A035210', 'A043890', 'A073130', 'A016140', 'A121950'}\n",
      "2012-12-31 00:00:00 {'A042820', 'A048460', 'A045050'}\n",
      "2013-01-31 00:00:00 {'A046430'}\n",
      "2013-02-28 00:00:00 {'A123160', 'A038120'}\n",
      "2013-03-31 00:00:00 {'A031920', 'A034010', 'A124050'}\n",
      "2013-04-30 00:00:00 {'A123290', 'A123550', 'A123910'}\n",
      "2013-05-31 00:00:00 {'A009010', 'A013780', 'A026250', 'A052650', 'A071530', 'A066060', 'A051710', 'A038720'}\n",
      "2013-06-30 00:00:00 {'A123300', 'A036920', 'A088700', 'A028090'}\n",
      "2013-07-31 00:00:00 {'A900010'}\n",
      "2013-08-31 00:00:00 {'A037630', 'A126680', 'A073930', 'A025920', 'A128910'}\n",
      "2013-09-30 00:00:00 {'A035450'}\n",
      "2013-10-31 00:00:00 {'A056810', 'A049000'}\n",
      "2013-11-30 00:00:00 {'A900060'}\n",
      "2014-03-31 00:00:00 {'A081220', 'A053320'}\n",
      "2014-04-30 00:00:00 {'A004790'}\n",
      "2014-05-31 00:00:00 {'A010670', 'A036210', 'A012650', 'A110310'}\n",
      "2014-06-30 00:00:00 {'A082930', 'A041060', 'A056340'}\n",
      "2014-10-31 00:00:00 {'A013340', 'A110500'}\n",
      "2015-02-28 00:00:00 {'A091690', 'A032420'}\n",
      "2015-03-31 00:00:00 {'A053740'}\n",
      "2015-05-31 00:00:00 {'A004320', 'A053330'}\n",
      "2015-06-30 00:00:00 {'A066350', 'A090120', 'A039530', 'A039850'}\n",
      "2015-07-31 00:00:00 {'A033630'}\n",
      "2015-08-31 00:00:00 {'A071930', 'A013450', 'A040670', 'A074130'}\n",
      "2015-10-31 00:00:00 {'A068060'}\n",
      "2015-11-30 00:00:00 {'A053870'}\n",
      "2016-02-29 00:00:00 {'A111610'}\n",
      "2016-05-31 00:00:00 {'A065270', 'A078780', 'A158380'}\n",
      "2016-06-30 00:00:00 {'A086200'}\n",
      "2016-08-31 00:00:00 {'A082390'}\n",
      "2016-09-30 00:00:00 {'A025270'}\n",
      "2016-10-31 00:00:00 {'A053810', 'A074150'}\n",
      "2017-03-31 00:00:00 {'A066270'}\n",
      "2017-04-30 00:00:00 {'A068150'}\n",
      "2017-05-31 00:00:00 {'A052270'}\n",
      "2017-06-30 00:00:00 {'A058370', 'A036500', 'A204440', 'A086830'}\n",
      "2017-07-31 00:00:00 {'A204760'}\n",
      "2017-08-31 00:00:00 {'A900130', 'A204650', 'A208870'}\n",
      "2017-10-31 00:00:00 {'A061460', 'A095300'}\n",
      "2017-11-30 00:00:00 {'A207720', 'A206660'}\n",
      "2017-12-31 00:00:00 {'A207930'}\n",
      "2018-01-31 00:00:00 {'A215580', 'A023430'}\n",
      "2018-02-28 00:00:00 {'A215750', 'A217810'}\n",
      "2018-03-31 00:00:00 {'A219580', 'A219860', 'A218710', 'A219960'}\n",
      "2018-04-30 00:00:00 {'A051170', 'A223040', 'A039790', 'A221950', 'A222390'}\n",
      "2018-05-31 00:00:00 {'A221200'}\n",
      "2018-06-30 00:00:00 {'A225440', 'A099830', 'A087220', 'A900180'}\n",
      "2018-07-31 00:00:00 {'A226850'}\n",
      "2018-08-31 00:00:00 {'A099660', 'A230490', 'A130960', 'A024660', 'A090730'}\n",
      "2018-09-30 00:00:00 {'A043580'}\n",
      "2018-10-31 00:00:00 {'A016170'}\n",
      "2018-11-30 00:00:00 {'A232270', 'A081970', 'A047440', 'A026260', 'A235010', 'A052290', 'A155960', 'A194610'}\n",
      "2019-01-31 00:00:00 {'A900090'}\n",
      "2019-02-28 00:00:00 {'A240540'}\n",
      "2019-03-31 00:00:00 {'A123100'}\n",
      "2019-06-30 00:00:00 {'A065160'}\n",
      "2019-08-31 00:00:00 {'A026180'}\n",
      "2019-09-30 00:00:00 {'A232330'}\n",
      "2019-10-31 00:00:00 {'A257730', 'A225650'}\n",
      "2019-11-30 00:00:00 {'A262830'}\n",
      "2019-12-31 00:00:00 {'A017680'}\n",
      "2020-01-31 00:00:00 {'A264290', 'A035480'}\n",
      "2020-02-29 00:00:00 {'A265920', 'A265480', 'A077280'}\n",
      "2020-03-31 00:00:00 {'A122800'}\n",
      "2020-04-30 00:00:00 {'A271740'}\n",
      "2020-05-31 00:00:00 {'A123260'}\n",
      "2020-06-30 00:00:00 {'A094190', 'A030270', 'A197210', 'A900040', 'A054340'}\n",
      "2020-07-31 00:00:00 {'A276920', 'A112240'}\n",
      "2020-08-31 00:00:00 {'A065940', 'A134780', 'A149940', 'A108790', 'A279410', 'A281410'}\n",
      "2020-09-30 00:00:00 {'A277480', 'A204990'}\n",
      "2020-10-31 00:00:00 {'A194510'}\n",
      "2021-01-31 00:00:00 {'A057500'}\n",
      "2021-02-28 00:00:00 {'A291210'}\n"
     ]
    }
   ],
   "source": [
    "# 전체 상폐된 기업과 폐지된 월\n",
    "delist_total = (m_ret==-1)\n",
    "delist_temp = delist_total[delist_total==True]\n",
    "for i in range(0, len(m_pm)):\n",
    "    zero_r = set(delist_temp.iloc[i].dropna().index)\n",
    "    if zero_r:\n",
    "        print(m_pm.index[i], zero_r)"
   ]
  },
  {
   "cell_type": "code",
   "execution_count": 32,
   "metadata": {},
   "outputs": [],
   "source": [
    "# sv100 중 상폐된 기업과 폐지된 월: 없음!\n",
    "for i in range(0, len(sv100_mask)):\n",
    "    zero_r = set(delist_temp.iloc[i].dropna().index)\n",
    "    sv100_index = set(sv100_mask[sv100_mask==True].iloc[i].dropna().index)\n",
    "    if sv100_index & zero_r:\n",
    "        print(sv100_mask.index[i], sv100_index & zero_r)"
   ]
  },
  {
   "cell_type": "code",
   "execution_count": 171,
   "metadata": {},
   "outputs": [],
   "source": [
    "# bm100 중 상폐된 기업과 폐지된 월: 없음!\n",
    "for i in range(0, len(bm100_mask)):\n",
    "    zero_r = set(delist_temp.iloc[i].dropna().index)\n",
    "    bm100_index = set(bm100_mask[sv100_mask==True].iloc[i].dropna().index)\n",
    "    if bm100_index & zero_r:\n",
    "        print(bm100_mask.index[i], bm100_index & zero_r)"
   ]
  },
  {
   "cell_type": "code",
   "execution_count": 48,
   "metadata": {},
   "outputs": [],
   "source": [
    "# 소형주의 수익률이 좋았어서 소형주 비율을 알아보기 위해 함수 정의\n",
    "def cap_quantile_check(true_false_df, m_cap, axis=1, pct=1, ascending=True, mean=False):\n",
    "    cap_quantile = m_cap.rank(axis=axis, pct=pct, ascending=ascending)[true_false_df] // 0.2\n",
    "    p = pd.Series({0.0:0, 1.0:0, 2.0:0, 3.0:0, 4.0:0})\n",
    "    for i in range(0, len(m_cap)):\n",
    "        temp = cap_quantile.iloc[i].dropna().value_counts().sort_index().astype(int)\n",
    "        p[temp.index] += temp\n",
    "    if mean:\n",
    "        p /= len(m_cap)\n",
    "    print(f'p1: {p[0]}\\np2: {p[1]}\\np3: {p[2]}\\np4: {p[3]}\\np5: {p[4]}')\n",
    "    print()"
   ]
  },
  {
   "cell_type": "code",
   "execution_count": 49,
   "metadata": {},
   "outputs": [
    {
     "name": "stdout",
     "output_type": "stream",
     "text": [
      "p1: 27\n",
      "p2: 20\n",
      "p3: 10\n",
      "p4: 12\n",
      "p5: 463\n",
      "\n"
     ]
    }
   ],
   "source": [
    "# 시총기준으로 5개 분위수를 나눈 뒤 상장폐지된 기업 수 비교\n",
    "# 상장폐지된 달의 시총은 nan이기 때문에 m_cap을 1 shift해서 전 달 시총 사용\n",
    "cap_quantile_check(delist_total, m_cap.shift(1), ascending=False)"
   ]
  },
  {
   "cell_type": "markdown",
   "metadata": {},
   "source": [
    "## 결과: 소형주 상장폐지가 많았다\n",
    "## value와 quality로 필터링한 뒤에는 상장폐지된 종목이 없다."
   ]
  },
  {
   "cell_type": "markdown",
   "metadata": {},
   "source": [
    "## 다른 전략 : quality 상위 40% -> value 상위 20%"
   ]
  },
  {
   "cell_type": "code",
   "execution_count": 50,
   "metadata": {},
   "outputs": [
    {
     "name": "stdout",
     "output_type": "stream",
     "text": [
      "p1: 71.62845849802372\n",
      "p2: 61.984189723320156\n",
      "p3: 54.015810276679844\n",
      "p4: 50.537549407114625\n",
      "p5: 35.284584980237156\n",
      "\n",
      "p1: 18.68774703557312\n",
      "p2: 29.26482213438735\n",
      "p3: 28.778656126482215\n",
      "p4: 29.217391304347824\n",
      "p5: 26.818181818181817\n",
      "\n"
     ]
    }
   ],
   "source": [
    "# quality factor에서 수익률이 좋았던 1,2 분위를 대상(40%)으로 시총기준 분포 확인 (전체 달의 평균)\n",
    "quality_40 = total_qz.rank(axis=1, pct=1) < 0.4\n",
    "cap_quantile_check(quality_40, m_cap, ascending=False, mean=True)\n",
    "\n",
    "# value factor로 필터링한 뒤 시총기준 분포확인\n",
    "value_20 = total_vz[quality_40].rank(axis=1, pct=1) < 0.6\n",
    "cap_quantile_check(value_20, m_cap, mean=True)"
   ]
  },
  {
   "cell_type": "code",
   "execution_count": null,
   "metadata": {},
   "outputs": [],
   "source": [
    "# 누적수익률\n",
    "(m_ret[value_20].mean(axis=1).fillna(0)+1).cumprod()"
   ]
  },
  {
   "cell_type": "code",
   "execution_count": null,
   "metadata": {},
   "outputs": [],
   "source": [
    "value_40 = total_vz.rank(axis=1, pct=1) < 0.6\n",
    "cap_quantile_check(value_40, m_cap, ascending=True, mean=True)\n",
    "\n",
    "# value factor로 필터링한 뒤 시총기준 분포확인\n",
    "quality_20 = total_qz[quality_40].rank(axis=1, pct=1) < 0.3\n",
    "cap_quantile_check(quality_20, m_cap, ascending=False, mean=True)"
   ]
  },
  {
   "cell_type": "code",
   "execution_count": null,
   "metadata": {},
   "outputs": [],
   "source": [
    "# 누적수익률\n",
    "(m_ret[quality_20].mean(axis=1).fillna(0)+1).cumprod()"
   ]
  },
  {
   "cell_type": "markdown",
   "metadata": {},
   "source": [
    "## 결과: 잘 안나옴!"
   ]
  },
  {
   "cell_type": "code",
   "execution_count": 49,
   "metadata": {},
   "outputs": [],
   "source": [
    "df = pd.read_csv(\"../../data/kospi/kospi.csv\", index_col='date', parse_dates=True, thousands=',')\n",
    "df.index = df.index + pd.tseries.offsets.MonthEnd(0)\n",
    "df = df.groupby('date').last()\n",
    "temp = (df['코스피'] / df['코스피'].shift(1)).cumprod()"
   ]
  },
  {
   "cell_type": "code",
   "execution_count": 56,
   "metadata": {},
   "outputs": [
    {
     "data": {
      "text/plain": [
       "(93, 109, 0.48517810010412377)"
      ]
     },
     "execution_count": 56,
     "metadata": {},
     "output_type": "execute_result"
    }
   ],
   "source": [
    "MDD(df['코스피'])"
   ]
  },
  {
   "cell_type": "code",
   "execution_count": 57,
   "metadata": {},
   "outputs": [
    {
     "data": {
      "text/plain": [
       "(93, 109, 0.46981798632977506)"
      ]
     },
     "execution_count": 57,
     "metadata": {},
     "output_type": "execute_result"
    }
   ],
   "source": [
    "MDD(df['코스피 200'])"
   ]
  },
  {
   "cell_type": "code",
   "execution_count": null,
   "metadata": {},
   "outputs": [],
   "source": []
  }
 ],
 "metadata": {
  "kernelspec": {
   "display_name": "Python 3",
   "language": "python",
   "name": "python3"
  },
  "language_info": {
   "codemirror_mode": {
    "name": "ipython",
    "version": 3
   },
   "file_extension": ".py",
   "mimetype": "text/x-python",
   "name": "python",
   "nbconvert_exporter": "python",
   "pygments_lexer": "ipython3",
   "version": "3.8.3"
  }
 },
 "nbformat": 4,
 "nbformat_minor": 4
}

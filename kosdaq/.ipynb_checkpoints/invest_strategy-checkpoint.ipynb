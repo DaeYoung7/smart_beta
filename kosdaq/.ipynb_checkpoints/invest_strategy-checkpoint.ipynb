{
 "cells": [
  {
   "cell_type": "code",
   "execution_count": 126,
   "metadata": {},
   "outputs": [],
   "source": [
    "import numpy as np\n",
    "import pandas as pd\n",
    "import pandas_datareader as pdr\n",
    "import datetime\n",
    "import matplotlib.pyplot as plt\n",
    "import seaborn as sns\n",
    "\n",
    "import warnings\n",
    "warnings.filterwarnings(action='ignore') "
   ]
  },
  {
   "cell_type": "code",
   "execution_count": 127,
   "metadata": {},
   "outputs": [],
   "source": [
    "p = pd.read_csv(\"../../data/kosdaq/price.csv\", index_col='date', parse_dates=True)\n",
    "sn = pd.read_csv(\"../../data/kosdaq/share_number.csv\", index_col='date', parse_dates=True)\n",
    "pc = pd.read_csv(\"../../data/kosdaq/price_mod.csv\", index_col = 'date', parse_dates = True)\n",
    "pl = pd.read_csv(\"../../data/kosdaq/price_low.csv\", index_col = 'date', parse_dates = True)\n",
    "ph = pd.read_csv(\"../../data/kosdaq/price_high.csv\", index_col = 'date', parse_dates = True)\n",
    "po = pd.read_csv(\"../../data/kosdaq/price_open.csv\", index_col = 'date', parse_dates = True)\n",
    "\n",
    "# quality\n",
    "gp_t = pd.read_csv(\"../../data/kosdaq/gross_profit.csv\", index_col='date', parse_dates=True)\n",
    "ast_t = pd.read_csv(\"../../data/kosdaq/asset.csv\", index_col='date', parse_dates=True)\n",
    "lb_t = pd.read_csv(\"../../data/kosdaq/liability.csv\", index_col = 'date', parse_dates = True)\n",
    "cf_t = pd.read_csv(\"../../data/kosdaq/cashflow.csv\", index_col = 'date', parse_dates = True)\n",
    "sl_t = pd.read_csv(\"../../data/kosdaq/sales.csv\", index_col = 'date', parse_dates = True)\n",
    "\n",
    "# value\n",
    "per_t = pd.read_csv(\"../../data/kosdaq/per.csv\", index_col = 'date', parse_dates = True)\n",
    "pbr_t = pd.read_csv(\"../../data/kosdaq/pbr.csv\", index_col = 'date', parse_dates = True)\n",
    "psr_t = pd.read_csv(\"../../data/kosdaq/psr.csv\", index_col = 'date', parse_dates = True)\n",
    "pcr_t = pd.read_csv(\"../../data/kosdaq/pcr.csv\", index_col = 'date', parse_dates = True)\n",
    "\n",
    "# bps_t = pd.read_csv(f\"../../data/kosdaq/quarter_bps.csv\", index_col = 'date', parse_dates = True)\n",
    "# eps_t = pd.read_csv(f\"../../data/kosdaq/quarter_eps.csv\", index_col = 'date', parse_dates = True)\n",
    "# cfps_t = pd.read_csv(f\"../../data/kosdaq/quarter_cfps.csv\", index_col = 'date', parse_dates = True)\n",
    "# sps_t = pd.read_csv(f\"../../data/kosdaq/quarter_sps.csv\", index_col = 'date', parse_dates = True)\n",
    "\n",
    "# 거래정지\n",
    "suspension = pd.read_csv(\"../../data/kosdaq/suspension.csv\", index_col=\"date\", parse_dates=True, low_memory=False)"
   ]
  },
  {
   "cell_type": "code",
   "execution_count": 128,
   "metadata": {},
   "outputs": [],
   "source": [
    "# 중국기업 제외\n",
    "chinese = ['A900110', 'A900120', 'A900070', 'A900080', 'A900250', 'A900260', 'A900270', 'A900280', \\\n",
    "           'A900290', 'A900300', 'A900310', 'A900340', 'A900090', 'A060240']\n",
    "p.drop(chinese, axis=1, inplace=True)\n",
    "sn.drop(chinese, axis=1, inplace=True)\n",
    "pc.drop(chinese, axis=1, inplace=True)\n",
    "po.drop(chinese, axis=1, inplace=True)\n",
    "ph.drop(chinese, axis=1, inplace=True)\n",
    "pl.drop(chinese, axis=1, inplace=True)\n",
    "gp_t.drop(chinese, axis=1, inplace=True)\n",
    "ast_t.drop(chinese, axis=1, inplace=True)\n",
    "lb_t.drop(chinese, axis=1, inplace=True)\n",
    "cf_t.drop(chinese, axis=1, inplace=True)\n",
    "sl_t.drop(chinese, axis=1, inplace=True)\n",
    "per_t.drop(chinese, axis=1, inplace=True)\n",
    "pbr_t.drop(chinese, axis=1, inplace=True)\n",
    "psr_t.drop(chinese, axis=1, inplace=True)\n",
    "pcr_t.drop(chinese, axis=1, inplace=True)\n",
    "suspension.drop(chinese, axis=1, inplace=True)"
   ]
  },
  {
   "cell_type": "code",
   "execution_count": 129,
   "metadata": {},
   "outputs": [],
   "source": [
    "# 거래정지 처리\n",
    "suspension.index = suspension.index + pd.tseries.offsets.MonthEnd(0)\n",
    "m_suspension_mask = suspension.groupby('date').last().isnull()\n",
    "\n",
    "# 빠진 기업 정리\n",
    "pl.drop(list(set(pl) - set(p.columns)), axis=1, inplace=True)\n",
    "pc.drop(list(set(pc) - set(p.columns)), axis=1, inplace=True)\n",
    "po.drop(list(set(po) - set(p.columns)), axis=1, inplace=True)\n",
    "ph.drop(list(set(ph) - set(p.columns)), axis=1, inplace=True)"
   ]
  },
  {
   "cell_type": "code",
   "execution_count": 130,
   "metadata": {},
   "outputs": [],
   "source": [
    "m = 15\n",
    "\n",
    "market_cap = p * sn\n",
    "market_cap_t = market_cap.copy()\n",
    "market_cap_t.index = market_cap_t.index + pd.tseries.offsets.MonthEnd(0)\n",
    "m_cap = market_cap_t.groupby('date').last()\n",
    "\n",
    "pc_t = pc.copy()\n",
    "pc_t.index = pc_t.index + pd.tseries.offsets.MonthEnd(0)\n",
    "m_pc = pc_t.groupby('date').last()\n",
    "m_ret = (m_pc.fillna(-1) / m_pc.shift(1)).clip(0, 10) - 1\n",
    "\n",
    "gp = pd.DataFrame(index=m_ret.index).join(gp_t).shift(m)\n",
    "ast = pd.DataFrame(index=m_ret.index).join(ast_t).shift(m)\n",
    "lb = pd.DataFrame(index=m_ret.index).join(lb_t).shift(m)\n",
    "cf = pd.DataFrame(index=m_ret.index).join(cf_t).shift(m)\n",
    "sl = pd.DataFrame(index=m_ret.index).join(sl_t).shift(m)\n",
    "\n",
    "p_t = p.copy()\n",
    "p_t.index = p_t.index + pd.tseries.offsets.MonthEnd(0)\n",
    "m_p = p_t.groupby('date').last()\n",
    "\n",
    "per = per_t.shift(m)\n",
    "pbr = pbr_t.shift(m)\n",
    "psr = psr_t.shift(m)\n",
    "pcr = pcr_t.shift(m)\n",
    "\n",
    "pl_t = pl.copy()\n",
    "po_t = po.copy()\n",
    "ph_t = ph.copy()\n",
    "\n",
    "pl_t.index = pl_t.index + pd.tseries.offsets.MonthEnd(0)\n",
    "po_t.index = po_t.index + pd.tseries.offsets.MonthEnd(0)\n",
    "ph_t.index = ph_t.index + pd.tseries.offsets.MonthEnd(0)"
   ]
  },
  {
   "cell_type": "code",
   "execution_count": 131,
   "metadata": {},
   "outputs": [],
   "source": [
    "# quality\n",
    "pivot = 12\n",
    "\n",
    "# 수익성 팩터\n",
    "gpoa = gp/ast # gross profit over asset\n",
    "cfoa = cf/ast # cashflow profit over asset\n",
    "gmar = gp/sl  # gross margin\n",
    "turn = sl/ast\n",
    "\n",
    "# 성장성 팩터(수익성 팩터, 5년 전과 비교해서 변화 정도 / 총자산)\n",
    "gpoa_d = (gpoa - gpoa.shift(pivot))/ ast.shift(pivot)\n",
    "cfoa_d = (cfoa - cfoa.shift(pivot))/ ast.shift(pivot)\n",
    "gmar_d = (gmar - gmar.shift(pivot))/ sl.shift(pivot)\n",
    "turn_d = sl/ast - sl.shift(12)/ast.shift(12)\n",
    "\n",
    "# 안정성 팩터\n",
    "lev = lb/ast # 총부채 / 총자산\n",
    "gpvol = gpoa.rolling(pivot).std()  # gross profit volatility\n",
    "cfvol = cfoa.rolling(pivot).std()  # cashflow volatility\n",
    "\n",
    "gpoa_rank = gpoa.rank(axis=1, ascending=False)\n",
    "cfoa_rank = cfoa.rank(axis=1, ascending=False)\n",
    "gmar_rank = gmar.rank(axis=1, ascending=False)\n",
    "turn_rank = turn.rank(axis=1, ascending=False)\n",
    "gpoa_d_rank = gpoa_d.rank(axis=1, ascending=False)\n",
    "cfoa_d_rank = cfoa_d.rank(axis=1, ascending=False)\n",
    "gmar_d_rank = gmar_d.rank(axis=1, ascending=False)\n",
    "turn_d_rank = turn_d.rank(axis=1, ascending=False)\n",
    "lev_rank = lev.rank(axis=1)\n",
    "gpvol_rank = gpvol.rank(axis=1)\n",
    "cfvol_rank = cfvol.rank(axis=1)\n",
    "\n",
    "gpoa_z = (gpoa_rank.T - gpoa_rank.mean(axis=1)) / gpoa_rank.std(axis=1)\n",
    "cfoa_z = (cfoa_rank.T - cfoa_rank.mean(axis=1)) / cfoa_rank.std(axis=1)\n",
    "gmar_z = (gmar_rank.T - gmar_rank.mean(axis=1)) / gmar_rank.std(axis=1)\n",
    "turn_z = (turn_rank.T - turn_rank.mean(axis=1)) / turn_rank.std(axis=1)\n",
    "gpoa_d_z = (gpoa_d_rank.T - gpoa_d_rank.mean(axis=1)) / gpoa_d_rank.std(axis=1)\n",
    "cfoa_d_z = (cfoa_d_rank.T - cfoa_d_rank.mean(axis=1)) / cfoa_d_rank.std(axis=1)\n",
    "gmar_d_z = (gmar_d_rank.T - gmar_d_rank.mean(axis=1)) / gmar_d_rank.std(axis=1)\n",
    "turn_d_z = (turn_d_rank.T - turn_d_rank.mean(axis=1)) / turn_d_rank.std(axis=1)\n",
    "lev_z = (lev_rank.T - lev_rank.mean(axis=1)) / lev_rank.std(axis=1)\n",
    "gpvol_z = (gpvol_rank.T - gpvol_rank.mean(axis=1)) / gpvol_rank.std(axis=1)\n",
    "cfvol_z = (cfvol_rank.T - cfvol_rank.mean(axis=1)) / cfvol_rank.std(axis=1)\n",
    "\n",
    "total_qz = gpoa_z.T + cfoa_z.T + gmar_z.T + turn_z.T + gpoa_d_z.T + cfoa_d_z.T + gmar_d_z.T + turn_d_z.T + lev_z.T + gpvol_z.T + cfvol_z.T\n",
    "total_qz = ((total_qz.T - total_qz.mean(axis=1)) / total_qz.std(axis=1)).T"
   ]
  },
  {
   "cell_type": "code",
   "execution_count": 132,
   "metadata": {},
   "outputs": [],
   "source": [
    "# value\n",
    "per_rank = per.rank(axis=1, pct=True)\n",
    "pbr_rank = pbr.rank(axis=1, pct=True)\n",
    "psr_rank = psr.rank(axis=1, pct=True)\n",
    "pcr_rank = pcr.rank(axis=1, pct=True)\n",
    "\n",
    "per_z = ((per_rank.T - per_rank.mean(axis=1)) / per_rank.std(axis=1))\n",
    "pbr_z = ((pbr_rank.T - pbr_rank.mean(axis=1)) / pbr_rank.std(axis=1))\n",
    "psr_z = ((psr_rank.T - psr_rank.mean(axis=1)) / psr_rank.std(axis=1))\n",
    "pcr_z = ((pcr_rank.T - pcr_rank.mean(axis=1)) / pcr_rank.std(axis=1))\n",
    "\n",
    "total_vz = per_z.T + pbr_z.T + psr_z.T + pcr_z.T"
   ]
  },
  {
   "cell_type": "code",
   "execution_count": 133,
   "metadata": {},
   "outputs": [],
   "source": [
    "def MDD(arr):\n",
    "    low = np.argmin(arr / np.maximum.accumulate(arr))\n",
    "    high = np.argmax(arr[:low])\n",
    "    return high, low, (arr[high] - arr[low]) / arr[high]\n",
    "\n",
    "def hit_ratio(arr, r, recent_num_ratio=True):\n",
    "    total = round(sum(arr > 0) / len(arr), 4)\n",
    "    recent = round(sum(arr[-1*r:] > 0) / len(arr[-1*r:]), 4) if recent_num_ratio else sum(arr[-1*r:] > 0)\n",
    "    return total, recent"
   ]
  },
  {
   "cell_type": "code",
   "execution_count": 134,
   "metadata": {},
   "outputs": [],
   "source": [
    "vol_month = m_pc.rolling(50).std()\n",
    "vol_day = (pc_t.fillna(-1) / pc_t.shift(1)).clip(0, 10).rolling(50).std().groupby('date').mean()\n",
    "momentum_mask_t = m_pc.copy()\n",
    "for i in range(6):\n",
    "    momentum_mask_t[momentum_mask_t < m_pc.shift(i)] = m_pc.shift(i)[momentum_mask_t < m_pc.shift(i)]\n",
    "momentum = (m_pc.shift(1) / m_pc.shift(4)) - (m_pc / momentum_mask_t) - vol_day * 1.5\n",
    "\n",
    "momentum_mask = m_pc.shift(1).copy()\n",
    "for i in range(9):\n",
    "    momentum_mask[momentum_mask > m_pc.shift(i)] = m_pc.shift(i)[momentum_mask > m_pc.shift(i)]\n",
    "momentum_mask = (m_pc.shift(1) / momentum_mask) < 2"
   ]
  },
  {
   "cell_type": "code",
   "execution_count": 135,
   "metadata": {},
   "outputs": [],
   "source": [
    "per_minus_mask = (per.shift(12).isnull() & m_pc.shift(15+12).notnull()) & \\\n",
    "                (per.shift(24).isnull() & m_pc.shift(15+24).notnull()) & \\\n",
    "                (per.shift(36).isnull() & m_pc.shift(15+36).notnull()) & \\\n",
    "                (per.shift(48).isnull() & m_pc.shift(15+48).notnull())"
   ]
  },
  {
   "cell_type": "code",
   "execution_count": 148,
   "metadata": {
    "scrolled": false
   },
   "outputs": [
    {
     "name": "stdout",
     "output_type": "stream",
     "text": [
      "momentum: high - 2018-08-31 00:00:00, low - 2018-10-31 00:00:00, mdd - 0.2714\n",
      "value (hit): total - 0.7, recent - 9\n"
     ]
    },
    {
     "data": {
      "image/png": "[encoded data removed]",
      "text/plain": [
       "<Figure size 432x288 with 1 Axes>"
      ]
     },
     "metadata": {},
     "output_type": "display_data"
    }
   ],
   "source": [
    "small_mask = m_cap[m_suspension_mask].rank(axis=1, pct=True, ascending=False) > 0.9\n",
    "sv_mask = total_vz[small_mask].rank(axis=1, pct=True) < 0.2\n",
    "sm_mask = momentum[sv_mask & momentum_mask & ~per_minus_mask].rank(axis=1, pct=True, ascending=False) < 0.4\n",
    "sm_cap_weight = (m_cap[sm_mask].T / m_cap[sm_mask].sum(axis=1)).T\n",
    "\n",
    "pr = 192 + 12\n",
    "sm_r = m_ret[sm_mask.shift(1)].mean(axis=1).fillna(0)\n",
    "sm_cr = (sm_r + 1)[pr:].cumprod()\n",
    "\n",
    "h, l, mdd = MDD(sm_cr.values)\n",
    "print(f'momentum: high - {sm_cr.index[h]}, low - {sm_cr.index[l]}, mdd - {round(mdd, 4)}')\n",
    "# t = 130\n",
    "# h, l, mdd = MDD(sm_cr[t:].values)\n",
    "# print(f'momentum: high - {sm_cr[t:].index[h]}, low - {sm_cr[t:].index[l]}, mdd - {round(mdd, 4)}')\n",
    "\n",
    "t, r = hit_ratio(sm_r.values[pr:], 12, False)\n",
    "print(f'value (hit): total - {t}, recent - {r}')\n",
    "\n",
    "sns.set_style('whitegrid')\n",
    "sns.lineplot(sm_cr.index, sm_cr)\n",
    "plt.title('small value/momentum')\n",
    "plt.show()\n",
    "\n",
    "# print('투자 기업 개수')\n",
    "# print(sm_mask[-30:].sum(axis=1).values)\n",
    "# print(svol_mask[-30:].sum(axis=1).values)\n",
    "# print()\n",
    "\n",
    "# print('평균 수익률')\n",
    "# print(sm_r.mean(), svol_r.mean())\n",
    "# print()\n",
    "\n",
    "# print('수익률 표준편차')\n",
    "# print(sm_r.std(), svol_r.std())\n",
    "# print()\n",
    "\n",
    "# print('수익률 상관관계')\n",
    "# print(sm_r.corr(svol_r))"
   ]
  },
  {
   "cell_type": "code",
   "execution_count": 139,
   "metadata": {},
   "outputs": [
    {
     "name": "stdout",
     "output_type": "stream",
     "text": [
      "momentum: high - 2018-05-31 00:00:00, low - 2020-03-31 00:00:00, mdd - 0.5584\n",
      "value (hit): total - 0.58, recent - 7\n"
     ]
    },
    {
     "data": {
      "image/png": "[encoded data removed]",
      "text/plain": [
       "<Figure size 432x288 with 1 Axes>"
      ]
     },
     "metadata": {},
     "output_type": "display_data"
    }
   ],
   "source": [
    "small_mask = m_cap[m_suspension_mask].rank(axis=1, pct=True, ascending=False) > 0.8\n",
    "sq_mask = total_qz[small_mask].rank(axis=1, pct=True) < 0.3\n",
    "sv_mask = total_vz[sq_mask].rank(axis=1, pct=True) < 0.2\n",
    "sm_mask = momentum[sv_mask & momentum_mask & ~per_minus_mask].rank(axis=1, pct=True, ascending=False) < 0.4\n",
    "sm_cap_weight = (m_cap[sm_mask].T / m_cap[sm_mask].sum(axis=1)).T\n",
    "\n",
    "pr = 192 + 12\n",
    "sm_r = m_ret[sm_mask.shift(1)].mean(axis=1).fillna(0)\n",
    "sm_cr = (sm_r + 1)[pr:].cumprod()\n",
    "\n",
    "h, l, mdd = MDD(sm_cr.values)\n",
    "print(f'momentum: high - {sm_cr.index[h]}, low - {sm_cr.index[l]}, mdd - {round(mdd, 4)}')\n",
    "# t = 130\n",
    "# h, l, mdd = MDD(sm_cr[t:].values)\n",
    "# print(f'momentum: high - {sm_cr[t:].index[h]}, low - {sm_cr[t:].index[l]}, mdd - {round(mdd, 4)}')\n",
    "\n",
    "t, r = hit_ratio(sm_r.values[pr:], 12, False)\n",
    "print(f'value (hit): total - {t}, recent - {r}')\n",
    "\n",
    "sns.set_style('whitegrid')\n",
    "sns.lineplot(sm_cr.index, sm_cr)\n",
    "plt.title('small value/momentum')\n",
    "plt.show()"
   ]
  },
  {
   "cell_type": "code",
   "execution_count": 140,
   "metadata": {},
   "outputs": [
    {
     "name": "stdout",
     "output_type": "stream",
     "text": [
      "[3 3 3 3 3 3 3 3 3 3 3 3 3 3 3 3 3 3 3 2 3 3 3 3 3 3 3 3 2 2]\n"
     ]
    }
   ],
   "source": [
    "print(sm_mask[-30:].sum(axis=1).values)"
   ]
  },
  {
   "cell_type": "code",
   "execution_count": 124,
   "metadata": {},
   "outputs": [
    {
     "ename": "URLError",
     "evalue": "<urlopen error [Errno 8] nodename nor servname provided, or not known>",
     "output_type": "error",
     "traceback": [
      "\u001b[0;31m---------------------------------------------------------------------------\u001b[0m",
      "\u001b[0;31mgaierror\u001b[0m                                  Traceback (most recent call last)",
      "\u001b[0;32m/Library/Developer/CommandLineTools/Library/Frameworks/Python3.framework/Versions/3.8/lib/python3.8/urllib/request.py\u001b[0m in \u001b[0;36mdo_open\u001b[0;34m(self, http_class, req, **http_conn_args)\u001b[0m\n\u001b[1;32m   1318\u001b[0m             \u001b[0;32mtry\u001b[0m\u001b[0;34m:\u001b[0m\u001b[0;34m\u001b[0m\u001b[0;34m\u001b[0m\u001b[0m\n\u001b[0;32m-> 1319\u001b[0;31m                 h.request(req.get_method(), req.selector, req.data, headers,\n\u001b[0m\u001b[1;32m   1320\u001b[0m                           encode_chunked=req.has_header('Transfer-encoding'))\n",
      "\u001b[0;32m/Library/Developer/CommandLineTools/Library/Frameworks/Python3.framework/Versions/3.8/lib/python3.8/http/client.py\u001b[0m in \u001b[0;36mrequest\u001b[0;34m(self, method, url, body, headers, encode_chunked)\u001b[0m\n\u001b[1;32m   1229\u001b[0m         \u001b[0;34m\"\"\"Send a complete request to the server.\"\"\"\u001b[0m\u001b[0;34m\u001b[0m\u001b[0;34m\u001b[0m\u001b[0m\n\u001b[0;32m-> 1230\u001b[0;31m         \u001b[0mself\u001b[0m\u001b[0;34m.\u001b[0m\u001b[0m_send_request\u001b[0m\u001b[0;34m(\u001b[0m\u001b[0mmethod\u001b[0m\u001b[0;34m,\u001b[0m \u001b[0murl\u001b[0m\u001b[0;34m,\u001b[0m \u001b[0mbody\u001b[0m\u001b[0;34m,\u001b[0m \u001b[0mheaders\u001b[0m\u001b[0;34m,\u001b[0m \u001b[0mencode_chunked\u001b[0m\u001b[0;34m)\u001b[0m\u001b[0;34m\u001b[0m\u001b[0;34m\u001b[0m\u001b[0m\n\u001b[0m\u001b[1;32m   1231\u001b[0m \u001b[0;34m\u001b[0m\u001b[0m\n",
      "\u001b[0;32m/Library/Developer/CommandLineTools/Library/Frameworks/Python3.framework/Versions/3.8/lib/python3.8/http/client.py\u001b[0m in \u001b[0;36m_send_request\u001b[0;34m(self, method, url, body, headers, encode_chunked)\u001b[0m\n\u001b[1;32m   1275\u001b[0m             \u001b[0mbody\u001b[0m \u001b[0;34m=\u001b[0m \u001b[0m_encode\u001b[0m\u001b[0;34m(\u001b[0m\u001b[0mbody\u001b[0m\u001b[0;34m,\u001b[0m \u001b[0;34m'body'\u001b[0m\u001b[0;34m)\u001b[0m\u001b[0;34m\u001b[0m\u001b[0;34m\u001b[0m\u001b[0m\n\u001b[0;32m-> 1276\u001b[0;31m         \u001b[0mself\u001b[0m\u001b[0;34m.\u001b[0m\u001b[0mendheaders\u001b[0m\u001b[0;34m(\u001b[0m\u001b[0mbody\u001b[0m\u001b[0;34m,\u001b[0m \u001b[0mencode_chunked\u001b[0m\u001b[0;34m=\u001b[0m\u001b[0mencode_chunked\u001b[0m\u001b[0;34m)\u001b[0m\u001b[0;34m\u001b[0m\u001b[0;34m\u001b[0m\u001b[0m\n\u001b[0m\u001b[1;32m   1277\u001b[0m \u001b[0;34m\u001b[0m\u001b[0m\n",
      "\u001b[0;32m/Library/Developer/CommandLineTools/Library/Frameworks/Python3.framework/Versions/3.8/lib/python3.8/http/client.py\u001b[0m in \u001b[0;36mendheaders\u001b[0;34m(self, message_body, encode_chunked)\u001b[0m\n\u001b[1;32m   1224\u001b[0m             \u001b[0;32mraise\u001b[0m \u001b[0mCannotSendHeader\u001b[0m\u001b[0;34m(\u001b[0m\u001b[0;34m)\u001b[0m\u001b[0;34m\u001b[0m\u001b[0;34m\u001b[0m\u001b[0m\n\u001b[0;32m-> 1225\u001b[0;31m         \u001b[0mself\u001b[0m\u001b[0;34m.\u001b[0m\u001b[0m_send_output\u001b[0m\u001b[0;34m(\u001b[0m\u001b[0mmessage_body\u001b[0m\u001b[0;34m,\u001b[0m \u001b[0mencode_chunked\u001b[0m\u001b[0;34m=\u001b[0m\u001b[0mencode_chunked\u001b[0m\u001b[0;34m)\u001b[0m\u001b[0;34m\u001b[0m\u001b[0;34m\u001b[0m\u001b[0m\n\u001b[0m\u001b[1;32m   1226\u001b[0m \u001b[0;34m\u001b[0m\u001b[0m\n",
      "\u001b[0;32m/Library/Developer/CommandLineTools/Library/Frameworks/Python3.framework/Versions/3.8/lib/python3.8/http/client.py\u001b[0m in \u001b[0;36m_send_output\u001b[0;34m(self, message_body, encode_chunked)\u001b[0m\n\u001b[1;32m   1003\u001b[0m         \u001b[0;32mdel\u001b[0m \u001b[0mself\u001b[0m\u001b[0;34m.\u001b[0m\u001b[0m_buffer\u001b[0m\u001b[0;34m[\u001b[0m\u001b[0;34m:\u001b[0m\u001b[0;34m]\u001b[0m\u001b[0;34m\u001b[0m\u001b[0;34m\u001b[0m\u001b[0m\n\u001b[0;32m-> 1004\u001b[0;31m         \u001b[0mself\u001b[0m\u001b[0;34m.\u001b[0m\u001b[0msend\u001b[0m\u001b[0;34m(\u001b[0m\u001b[0mmsg\u001b[0m\u001b[0;34m)\u001b[0m\u001b[0;34m\u001b[0m\u001b[0;34m\u001b[0m\u001b[0m\n\u001b[0m\u001b[1;32m   1005\u001b[0m \u001b[0;34m\u001b[0m\u001b[0m\n",
      "\u001b[0;32m/Library/Developer/CommandLineTools/Library/Frameworks/Python3.framework/Versions/3.8/lib/python3.8/http/client.py\u001b[0m in \u001b[0;36msend\u001b[0;34m(self, data)\u001b[0m\n\u001b[1;32m    943\u001b[0m             \u001b[0;32mif\u001b[0m \u001b[0mself\u001b[0m\u001b[0;34m.\u001b[0m\u001b[0mauto_open\u001b[0m\u001b[0;34m:\u001b[0m\u001b[0;34m\u001b[0m\u001b[0;34m\u001b[0m\u001b[0m\n\u001b[0;32m--> 944\u001b[0;31m                 \u001b[0mself\u001b[0m\u001b[0;34m.\u001b[0m\u001b[0mconnect\u001b[0m\u001b[0;34m(\u001b[0m\u001b[0;34m)\u001b[0m\u001b[0;34m\u001b[0m\u001b[0;34m\u001b[0m\u001b[0m\n\u001b[0m\u001b[1;32m    945\u001b[0m             \u001b[0;32melse\u001b[0m\u001b[0;34m:\u001b[0m\u001b[0;34m\u001b[0m\u001b[0;34m\u001b[0m\u001b[0m\n",
      "\u001b[0;32m/Library/Developer/CommandLineTools/Library/Frameworks/Python3.framework/Versions/3.8/lib/python3.8/http/client.py\u001b[0m in \u001b[0;36mconnect\u001b[0;34m(self)\u001b[0m\n\u001b[1;32m    914\u001b[0m         \u001b[0;34m\"\"\"Connect to the host and port specified in __init__.\"\"\"\u001b[0m\u001b[0;34m\u001b[0m\u001b[0;34m\u001b[0m\u001b[0m\n\u001b[0;32m--> 915\u001b[0;31m         self.sock = self._create_connection(\n\u001b[0m\u001b[1;32m    916\u001b[0m             (self.host,self.port), self.timeout, self.source_address)\n",
      "\u001b[0;32m/Library/Developer/CommandLineTools/Library/Frameworks/Python3.framework/Versions/3.8/lib/python3.8/socket.py\u001b[0m in \u001b[0;36mcreate_connection\u001b[0;34m(address, timeout, source_address)\u001b[0m\n\u001b[1;32m    786\u001b[0m     \u001b[0merr\u001b[0m \u001b[0;34m=\u001b[0m \u001b[0;32mNone\u001b[0m\u001b[0;34m\u001b[0m\u001b[0;34m\u001b[0m\u001b[0m\n\u001b[0;32m--> 787\u001b[0;31m     \u001b[0;32mfor\u001b[0m \u001b[0mres\u001b[0m \u001b[0;32min\u001b[0m \u001b[0mgetaddrinfo\u001b[0m\u001b[0;34m(\u001b[0m\u001b[0mhost\u001b[0m\u001b[0;34m,\u001b[0m \u001b[0mport\u001b[0m\u001b[0;34m,\u001b[0m \u001b[0;36m0\u001b[0m\u001b[0;34m,\u001b[0m \u001b[0mSOCK_STREAM\u001b[0m\u001b[0;34m)\u001b[0m\u001b[0;34m:\u001b[0m\u001b[0;34m\u001b[0m\u001b[0;34m\u001b[0m\u001b[0m\n\u001b[0m\u001b[1;32m    788\u001b[0m         \u001b[0maf\u001b[0m\u001b[0;34m,\u001b[0m \u001b[0msocktype\u001b[0m\u001b[0;34m,\u001b[0m \u001b[0mproto\u001b[0m\u001b[0;34m,\u001b[0m \u001b[0mcanonname\u001b[0m\u001b[0;34m,\u001b[0m \u001b[0msa\u001b[0m \u001b[0;34m=\u001b[0m \u001b[0mres\u001b[0m\u001b[0;34m\u001b[0m\u001b[0;34m\u001b[0m\u001b[0m\n",
      "\u001b[0;32m/Library/Developer/CommandLineTools/Library/Frameworks/Python3.framework/Versions/3.8/lib/python3.8/socket.py\u001b[0m in \u001b[0;36mgetaddrinfo\u001b[0;34m(host, port, family, type, proto, flags)\u001b[0m\n\u001b[1;32m    917\u001b[0m     \u001b[0maddrlist\u001b[0m \u001b[0;34m=\u001b[0m \u001b[0;34m[\u001b[0m\u001b[0;34m]\u001b[0m\u001b[0;34m\u001b[0m\u001b[0;34m\u001b[0m\u001b[0m\n\u001b[0;32m--> 918\u001b[0;31m     \u001b[0;32mfor\u001b[0m \u001b[0mres\u001b[0m \u001b[0;32min\u001b[0m \u001b[0m_socket\u001b[0m\u001b[0;34m.\u001b[0m\u001b[0mgetaddrinfo\u001b[0m\u001b[0;34m(\u001b[0m\u001b[0mhost\u001b[0m\u001b[0;34m,\u001b[0m \u001b[0mport\u001b[0m\u001b[0;34m,\u001b[0m \u001b[0mfamily\u001b[0m\u001b[0;34m,\u001b[0m \u001b[0mtype\u001b[0m\u001b[0;34m,\u001b[0m \u001b[0mproto\u001b[0m\u001b[0;34m,\u001b[0m \u001b[0mflags\u001b[0m\u001b[0;34m)\u001b[0m\u001b[0;34m:\u001b[0m\u001b[0;34m\u001b[0m\u001b[0;34m\u001b[0m\u001b[0m\n\u001b[0m\u001b[1;32m    919\u001b[0m         \u001b[0maf\u001b[0m\u001b[0;34m,\u001b[0m \u001b[0msocktype\u001b[0m\u001b[0;34m,\u001b[0m \u001b[0mproto\u001b[0m\u001b[0;34m,\u001b[0m \u001b[0mcanonname\u001b[0m\u001b[0;34m,\u001b[0m \u001b[0msa\u001b[0m \u001b[0;34m=\u001b[0m \u001b[0mres\u001b[0m\u001b[0;34m\u001b[0m\u001b[0;34m\u001b[0m\u001b[0m\n",
      "\u001b[0;31mgaierror\u001b[0m: [Errno 8] nodename nor servname provided, or not known",
      "\nDuring handling of the above exception, another exception occurred:\n",
      "\u001b[0;31mURLError\u001b[0m                                  Traceback (most recent call last)",
      "\u001b[0;32m<ipython-input-124-d4977166af45>\u001b[0m in \u001b[0;36m<module>\u001b[0;34m\u001b[0m\n\u001b[1;32m      1\u001b[0m \u001b[0midx\u001b[0m \u001b[0;34m=\u001b[0m \u001b[0mlist\u001b[0m\u001b[0;34m(\u001b[0m\u001b[0msm_mask\u001b[0m\u001b[0;34m.\u001b[0m\u001b[0miloc\u001b[0m\u001b[0;34m[\u001b[0m\u001b[0;34m-\u001b[0m\u001b[0;36m1\u001b[0m\u001b[0;34m]\u001b[0m\u001b[0;34m[\u001b[0m\u001b[0msm_mask\u001b[0m\u001b[0;34m.\u001b[0m\u001b[0miloc\u001b[0m\u001b[0;34m[\u001b[0m\u001b[0;34m-\u001b[0m\u001b[0;36m1\u001b[0m\u001b[0;34m]\u001b[0m\u001b[0;34m==\u001b[0m\u001b[0;32mTrue\u001b[0m\u001b[0;34m]\u001b[0m\u001b[0;34m.\u001b[0m\u001b[0mindex\u001b[0m\u001b[0;34m)\u001b[0m\u001b[0;34m\u001b[0m\u001b[0;34m\u001b[0m\u001b[0m\n\u001b[0;32m----> 2\u001b[0;31m \u001b[0mcode_df\u001b[0m \u001b[0;34m=\u001b[0m \u001b[0mpd\u001b[0m\u001b[0;34m.\u001b[0m\u001b[0mread_html\u001b[0m\u001b[0;34m(\u001b[0m\u001b[0;34m'http://kind.krx.co.kr/corpgeneral/corpList.do?method=download'\u001b[0m\u001b[0;34m,\u001b[0m \u001b[0mheader\u001b[0m\u001b[0;34m=\u001b[0m\u001b[0;36m0\u001b[0m\u001b[0;34m)\u001b[0m\u001b[0;34m[\u001b[0m\u001b[0;36m0\u001b[0m\u001b[0;34m]\u001b[0m\u001b[0;34m[\u001b[0m\u001b[0;34m[\u001b[0m\u001b[0;34m'회사명'\u001b[0m\u001b[0;34m,\u001b[0m \u001b[0;34m'종목코드'\u001b[0m\u001b[0;34m]\u001b[0m\u001b[0;34m]\u001b[0m\u001b[0;34m\u001b[0m\u001b[0;34m\u001b[0m\u001b[0m\n\u001b[0m\u001b[1;32m      3\u001b[0m \u001b[0;32mfor\u001b[0m \u001b[0mi\u001b[0m \u001b[0;32min\u001b[0m \u001b[0mrange\u001b[0m\u001b[0;34m(\u001b[0m\u001b[0mlen\u001b[0m\u001b[0;34m(\u001b[0m\u001b[0midx\u001b[0m\u001b[0;34m)\u001b[0m\u001b[0;34m)\u001b[0m\u001b[0;34m:\u001b[0m\u001b[0;34m\u001b[0m\u001b[0;34m\u001b[0m\u001b[0m\n\u001b[1;32m      4\u001b[0m     \u001b[0mprint\u001b[0m\u001b[0;34m(\u001b[0m\u001b[0mcode_df\u001b[0m\u001b[0;34m.\u001b[0m\u001b[0mquery\u001b[0m\u001b[0;34m(\u001b[0m\u001b[0;34mf'종목코드=={int(idx[i][1:])}'\u001b[0m\u001b[0;34m)\u001b[0m\u001b[0;34m.\u001b[0m\u001b[0mvalues\u001b[0m\u001b[0;34m[\u001b[0m\u001b[0;36m0\u001b[0m\u001b[0;34m]\u001b[0m\u001b[0;34m[\u001b[0m\u001b[0;36m0\u001b[0m\u001b[0;34m]\u001b[0m\u001b[0;34m,\u001b[0m \u001b[0midx\u001b[0m\u001b[0;34m[\u001b[0m\u001b[0mi\u001b[0m\u001b[0;34m]\u001b[0m\u001b[0;34m[\u001b[0m\u001b[0;36m1\u001b[0m\u001b[0;34m:\u001b[0m\u001b[0;34m]\u001b[0m\u001b[0;34m)\u001b[0m\u001b[0;31m#, m_pc.iloc[-1][idx[i]])\u001b[0m\u001b[0;34m\u001b[0m\u001b[0;34m\u001b[0m\u001b[0m\n",
      "\u001b[0;32m/Library/Python/3.8/site-packages/pandas/util/_decorators.py\u001b[0m in \u001b[0;36mwrapper\u001b[0;34m(*args, **kwargs)\u001b[0m\n\u001b[1;32m    294\u001b[0m                 )\n\u001b[1;32m    295\u001b[0m                 \u001b[0mwarnings\u001b[0m\u001b[0;34m.\u001b[0m\u001b[0mwarn\u001b[0m\u001b[0;34m(\u001b[0m\u001b[0mmsg\u001b[0m\u001b[0;34m,\u001b[0m \u001b[0mFutureWarning\u001b[0m\u001b[0;34m,\u001b[0m \u001b[0mstacklevel\u001b[0m\u001b[0;34m=\u001b[0m\u001b[0mstacklevel\u001b[0m\u001b[0;34m)\u001b[0m\u001b[0;34m\u001b[0m\u001b[0;34m\u001b[0m\u001b[0m\n\u001b[0;32m--> 296\u001b[0;31m             \u001b[0;32mreturn\u001b[0m \u001b[0mfunc\u001b[0m\u001b[0;34m(\u001b[0m\u001b[0;34m*\u001b[0m\u001b[0margs\u001b[0m\u001b[0;34m,\u001b[0m \u001b[0;34m**\u001b[0m\u001b[0mkwargs\u001b[0m\u001b[0;34m)\u001b[0m\u001b[0;34m\u001b[0m\u001b[0;34m\u001b[0m\u001b[0m\n\u001b[0m\u001b[1;32m    297\u001b[0m \u001b[0;34m\u001b[0m\u001b[0m\n\u001b[1;32m    298\u001b[0m         \u001b[0;32mreturn\u001b[0m \u001b[0mwrapper\u001b[0m\u001b[0;34m\u001b[0m\u001b[0;34m\u001b[0m\u001b[0m\n",
      "\u001b[0;32m/Library/Python/3.8/site-packages/pandas/io/html.py\u001b[0m in \u001b[0;36mread_html\u001b[0;34m(io, match, flavor, header, index_col, skiprows, attrs, parse_dates, thousands, encoding, decimal, converters, na_values, keep_default_na, displayed_only)\u001b[0m\n\u001b[1;32m   1084\u001b[0m         )\n\u001b[1;32m   1085\u001b[0m     \u001b[0mvalidate_header_arg\u001b[0m\u001b[0;34m(\u001b[0m\u001b[0mheader\u001b[0m\u001b[0;34m)\u001b[0m\u001b[0;34m\u001b[0m\u001b[0;34m\u001b[0m\u001b[0m\n\u001b[0;32m-> 1086\u001b[0;31m     return _parse(\n\u001b[0m\u001b[1;32m   1087\u001b[0m         \u001b[0mflavor\u001b[0m\u001b[0;34m=\u001b[0m\u001b[0mflavor\u001b[0m\u001b[0;34m,\u001b[0m\u001b[0;34m\u001b[0m\u001b[0;34m\u001b[0m\u001b[0m\n\u001b[1;32m   1088\u001b[0m         \u001b[0mio\u001b[0m\u001b[0;34m=\u001b[0m\u001b[0mio\u001b[0m\u001b[0;34m,\u001b[0m\u001b[0;34m\u001b[0m\u001b[0;34m\u001b[0m\u001b[0m\n",
      "\u001b[0;32m/Library/Python/3.8/site-packages/pandas/io/html.py\u001b[0m in \u001b[0;36m_parse\u001b[0;34m(flavor, io, match, attrs, encoding, displayed_only, **kwargs)\u001b[0m\n\u001b[1;32m    896\u001b[0m \u001b[0;34m\u001b[0m\u001b[0m\n\u001b[1;32m    897\u001b[0m         \u001b[0;32mtry\u001b[0m\u001b[0;34m:\u001b[0m\u001b[0;34m\u001b[0m\u001b[0;34m\u001b[0m\u001b[0m\n\u001b[0;32m--> 898\u001b[0;31m             \u001b[0mtables\u001b[0m \u001b[0;34m=\u001b[0m \u001b[0mp\u001b[0m\u001b[0;34m.\u001b[0m\u001b[0mparse_tables\u001b[0m\u001b[0;34m(\u001b[0m\u001b[0;34m)\u001b[0m\u001b[0;34m\u001b[0m\u001b[0;34m\u001b[0m\u001b[0m\n\u001b[0m\u001b[1;32m    899\u001b[0m         \u001b[0;32mexcept\u001b[0m \u001b[0mValueError\u001b[0m \u001b[0;32mas\u001b[0m \u001b[0mcaught\u001b[0m\u001b[0;34m:\u001b[0m\u001b[0;34m\u001b[0m\u001b[0;34m\u001b[0m\u001b[0m\n\u001b[1;32m    900\u001b[0m             \u001b[0;31m# if `io` is an io-like object, check if it's seekable\u001b[0m\u001b[0;34m\u001b[0m\u001b[0;34m\u001b[0m\u001b[0;34m\u001b[0m\u001b[0m\n",
      "\u001b[0;32m/Library/Python/3.8/site-packages/pandas/io/html.py\u001b[0m in \u001b[0;36mparse_tables\u001b[0;34m(self)\u001b[0m\n\u001b[1;32m    215\u001b[0m         \u001b[0mlist\u001b[0m \u001b[0mof\u001b[0m \u001b[0mparsed\u001b[0m \u001b[0;34m(\u001b[0m\u001b[0mheader\u001b[0m\u001b[0;34m,\u001b[0m \u001b[0mbody\u001b[0m\u001b[0;34m,\u001b[0m \u001b[0mfooter\u001b[0m\u001b[0;34m)\u001b[0m \u001b[0mtuples\u001b[0m \u001b[0;32mfrom\u001b[0m \u001b[0mtables\u001b[0m\u001b[0;34m.\u001b[0m\u001b[0;34m\u001b[0m\u001b[0;34m\u001b[0m\u001b[0m\n\u001b[1;32m    216\u001b[0m         \"\"\"\n\u001b[0;32m--> 217\u001b[0;31m         \u001b[0mtables\u001b[0m \u001b[0;34m=\u001b[0m \u001b[0mself\u001b[0m\u001b[0;34m.\u001b[0m\u001b[0m_parse_tables\u001b[0m\u001b[0;34m(\u001b[0m\u001b[0mself\u001b[0m\u001b[0;34m.\u001b[0m\u001b[0m_build_doc\u001b[0m\u001b[0;34m(\u001b[0m\u001b[0;34m)\u001b[0m\u001b[0;34m,\u001b[0m \u001b[0mself\u001b[0m\u001b[0;34m.\u001b[0m\u001b[0mmatch\u001b[0m\u001b[0;34m,\u001b[0m \u001b[0mself\u001b[0m\u001b[0;34m.\u001b[0m\u001b[0mattrs\u001b[0m\u001b[0;34m)\u001b[0m\u001b[0;34m\u001b[0m\u001b[0;34m\u001b[0m\u001b[0m\n\u001b[0m\u001b[1;32m    218\u001b[0m         \u001b[0;32mreturn\u001b[0m \u001b[0;34m(\u001b[0m\u001b[0mself\u001b[0m\u001b[0;34m.\u001b[0m\u001b[0m_parse_thead_tbody_tfoot\u001b[0m\u001b[0;34m(\u001b[0m\u001b[0mtable\u001b[0m\u001b[0;34m)\u001b[0m \u001b[0;32mfor\u001b[0m \u001b[0mtable\u001b[0m \u001b[0;32min\u001b[0m \u001b[0mtables\u001b[0m\u001b[0;34m)\u001b[0m\u001b[0;34m\u001b[0m\u001b[0;34m\u001b[0m\u001b[0m\n\u001b[1;32m    219\u001b[0m \u001b[0;34m\u001b[0m\u001b[0m\n",
      "\u001b[0;32m/Library/Python/3.8/site-packages/pandas/io/html.py\u001b[0m in \u001b[0;36m_build_doc\u001b[0;34m(self)\u001b[0m\n\u001b[1;32m    734\u001b[0m                     \u001b[0;32mpass\u001b[0m\u001b[0;34m\u001b[0m\u001b[0;34m\u001b[0m\u001b[0m\n\u001b[1;32m    735\u001b[0m             \u001b[0;32melse\u001b[0m\u001b[0;34m:\u001b[0m\u001b[0;34m\u001b[0m\u001b[0;34m\u001b[0m\u001b[0m\n\u001b[0;32m--> 736\u001b[0;31m                 \u001b[0;32mraise\u001b[0m \u001b[0me\u001b[0m\u001b[0;34m\u001b[0m\u001b[0;34m\u001b[0m\u001b[0m\n\u001b[0m\u001b[1;32m    737\u001b[0m         \u001b[0;32melse\u001b[0m\u001b[0;34m:\u001b[0m\u001b[0;34m\u001b[0m\u001b[0;34m\u001b[0m\u001b[0m\n\u001b[1;32m    738\u001b[0m             \u001b[0;32mif\u001b[0m \u001b[0;32mnot\u001b[0m \u001b[0mhasattr\u001b[0m\u001b[0;34m(\u001b[0m\u001b[0mr\u001b[0m\u001b[0;34m,\u001b[0m \u001b[0;34m\"text_content\"\u001b[0m\u001b[0;34m)\u001b[0m\u001b[0;34m:\u001b[0m\u001b[0;34m\u001b[0m\u001b[0;34m\u001b[0m\u001b[0m\n",
      "\u001b[0;32m/Library/Python/3.8/site-packages/pandas/io/html.py\u001b[0m in \u001b[0;36m_build_doc\u001b[0;34m(self)\u001b[0m\n\u001b[1;32m    715\u001b[0m         \u001b[0;32mtry\u001b[0m\u001b[0;34m:\u001b[0m\u001b[0;34m\u001b[0m\u001b[0;34m\u001b[0m\u001b[0m\n\u001b[1;32m    716\u001b[0m             \u001b[0;32mif\u001b[0m \u001b[0mis_url\u001b[0m\u001b[0;34m(\u001b[0m\u001b[0mself\u001b[0m\u001b[0;34m.\u001b[0m\u001b[0mio\u001b[0m\u001b[0;34m)\u001b[0m\u001b[0;34m:\u001b[0m\u001b[0;34m\u001b[0m\u001b[0;34m\u001b[0m\u001b[0m\n\u001b[0;32m--> 717\u001b[0;31m                 \u001b[0;32mwith\u001b[0m \u001b[0murlopen\u001b[0m\u001b[0;34m(\u001b[0m\u001b[0mself\u001b[0m\u001b[0;34m.\u001b[0m\u001b[0mio\u001b[0m\u001b[0;34m)\u001b[0m \u001b[0;32mas\u001b[0m \u001b[0mf\u001b[0m\u001b[0;34m:\u001b[0m\u001b[0;34m\u001b[0m\u001b[0;34m\u001b[0m\u001b[0m\n\u001b[0m\u001b[1;32m    718\u001b[0m                     \u001b[0mr\u001b[0m \u001b[0;34m=\u001b[0m \u001b[0mparse\u001b[0m\u001b[0;34m(\u001b[0m\u001b[0mf\u001b[0m\u001b[0;34m,\u001b[0m \u001b[0mparser\u001b[0m\u001b[0;34m=\u001b[0m\u001b[0mparser\u001b[0m\u001b[0;34m)\u001b[0m\u001b[0;34m\u001b[0m\u001b[0;34m\u001b[0m\u001b[0m\n\u001b[1;32m    719\u001b[0m             \u001b[0;32melse\u001b[0m\u001b[0;34m:\u001b[0m\u001b[0;34m\u001b[0m\u001b[0;34m\u001b[0m\u001b[0m\n",
      "\u001b[0;32m/Library/Python/3.8/site-packages/pandas/io/common.py\u001b[0m in \u001b[0;36murlopen\u001b[0;34m(*args, **kwargs)\u001b[0m\n\u001b[1;32m    135\u001b[0m     \u001b[0;32mimport\u001b[0m \u001b[0murllib\u001b[0m\u001b[0;34m.\u001b[0m\u001b[0mrequest\u001b[0m\u001b[0;34m\u001b[0m\u001b[0;34m\u001b[0m\u001b[0m\n\u001b[1;32m    136\u001b[0m \u001b[0;34m\u001b[0m\u001b[0m\n\u001b[0;32m--> 137\u001b[0;31m     \u001b[0;32mreturn\u001b[0m \u001b[0murllib\u001b[0m\u001b[0;34m.\u001b[0m\u001b[0mrequest\u001b[0m\u001b[0;34m.\u001b[0m\u001b[0murlopen\u001b[0m\u001b[0;34m(\u001b[0m\u001b[0;34m*\u001b[0m\u001b[0margs\u001b[0m\u001b[0;34m,\u001b[0m \u001b[0;34m**\u001b[0m\u001b[0mkwargs\u001b[0m\u001b[0;34m)\u001b[0m\u001b[0;34m\u001b[0m\u001b[0;34m\u001b[0m\u001b[0m\n\u001b[0m\u001b[1;32m    138\u001b[0m \u001b[0;34m\u001b[0m\u001b[0m\n\u001b[1;32m    139\u001b[0m \u001b[0;34m\u001b[0m\u001b[0m\n",
      "\u001b[0;32m/Library/Developer/CommandLineTools/Library/Frameworks/Python3.framework/Versions/3.8/lib/python3.8/urllib/request.py\u001b[0m in \u001b[0;36murlopen\u001b[0;34m(url, data, timeout, cafile, capath, cadefault, context)\u001b[0m\n\u001b[1;32m    220\u001b[0m     \u001b[0;32melse\u001b[0m\u001b[0;34m:\u001b[0m\u001b[0;34m\u001b[0m\u001b[0;34m\u001b[0m\u001b[0m\n\u001b[1;32m    221\u001b[0m         \u001b[0mopener\u001b[0m \u001b[0;34m=\u001b[0m \u001b[0m_opener\u001b[0m\u001b[0;34m\u001b[0m\u001b[0;34m\u001b[0m\u001b[0m\n\u001b[0;32m--> 222\u001b[0;31m     \u001b[0;32mreturn\u001b[0m \u001b[0mopener\u001b[0m\u001b[0;34m.\u001b[0m\u001b[0mopen\u001b[0m\u001b[0;34m(\u001b[0m\u001b[0murl\u001b[0m\u001b[0;34m,\u001b[0m \u001b[0mdata\u001b[0m\u001b[0;34m,\u001b[0m \u001b[0mtimeout\u001b[0m\u001b[0;34m)\u001b[0m\u001b[0;34m\u001b[0m\u001b[0;34m\u001b[0m\u001b[0m\n\u001b[0m\u001b[1;32m    223\u001b[0m \u001b[0;34m\u001b[0m\u001b[0m\n\u001b[1;32m    224\u001b[0m \u001b[0;32mdef\u001b[0m \u001b[0minstall_opener\u001b[0m\u001b[0;34m(\u001b[0m\u001b[0mopener\u001b[0m\u001b[0;34m)\u001b[0m\u001b[0;34m:\u001b[0m\u001b[0;34m\u001b[0m\u001b[0;34m\u001b[0m\u001b[0m\n",
      "\u001b[0;32m/Library/Developer/CommandLineTools/Library/Frameworks/Python3.framework/Versions/3.8/lib/python3.8/urllib/request.py\u001b[0m in \u001b[0;36mopen\u001b[0;34m(self, fullurl, data, timeout)\u001b[0m\n\u001b[1;32m    523\u001b[0m \u001b[0;34m\u001b[0m\u001b[0m\n\u001b[1;32m    524\u001b[0m         \u001b[0msys\u001b[0m\u001b[0;34m.\u001b[0m\u001b[0maudit\u001b[0m\u001b[0;34m(\u001b[0m\u001b[0;34m'urllib.Request'\u001b[0m\u001b[0;34m,\u001b[0m \u001b[0mreq\u001b[0m\u001b[0;34m.\u001b[0m\u001b[0mfull_url\u001b[0m\u001b[0;34m,\u001b[0m \u001b[0mreq\u001b[0m\u001b[0;34m.\u001b[0m\u001b[0mdata\u001b[0m\u001b[0;34m,\u001b[0m \u001b[0mreq\u001b[0m\u001b[0;34m.\u001b[0m\u001b[0mheaders\u001b[0m\u001b[0;34m,\u001b[0m \u001b[0mreq\u001b[0m\u001b[0;34m.\u001b[0m\u001b[0mget_method\u001b[0m\u001b[0;34m(\u001b[0m\u001b[0;34m)\u001b[0m\u001b[0;34m)\u001b[0m\u001b[0;34m\u001b[0m\u001b[0;34m\u001b[0m\u001b[0m\n\u001b[0;32m--> 525\u001b[0;31m         \u001b[0mresponse\u001b[0m \u001b[0;34m=\u001b[0m \u001b[0mself\u001b[0m\u001b[0;34m.\u001b[0m\u001b[0m_open\u001b[0m\u001b[0;34m(\u001b[0m\u001b[0mreq\u001b[0m\u001b[0;34m,\u001b[0m \u001b[0mdata\u001b[0m\u001b[0;34m)\u001b[0m\u001b[0;34m\u001b[0m\u001b[0;34m\u001b[0m\u001b[0m\n\u001b[0m\u001b[1;32m    526\u001b[0m \u001b[0;34m\u001b[0m\u001b[0m\n\u001b[1;32m    527\u001b[0m         \u001b[0;31m# post-process response\u001b[0m\u001b[0;34m\u001b[0m\u001b[0;34m\u001b[0m\u001b[0;34m\u001b[0m\u001b[0m\n",
      "\u001b[0;32m/Library/Developer/CommandLineTools/Library/Frameworks/Python3.framework/Versions/3.8/lib/python3.8/urllib/request.py\u001b[0m in \u001b[0;36m_open\u001b[0;34m(self, req, data)\u001b[0m\n\u001b[1;32m    540\u001b[0m \u001b[0;34m\u001b[0m\u001b[0m\n\u001b[1;32m    541\u001b[0m         \u001b[0mprotocol\u001b[0m \u001b[0;34m=\u001b[0m \u001b[0mreq\u001b[0m\u001b[0;34m.\u001b[0m\u001b[0mtype\u001b[0m\u001b[0;34m\u001b[0m\u001b[0;34m\u001b[0m\u001b[0m\n\u001b[0;32m--> 542\u001b[0;31m         result = self._call_chain(self.handle_open, protocol, protocol +\n\u001b[0m\u001b[1;32m    543\u001b[0m                                   '_open', req)\n\u001b[1;32m    544\u001b[0m         \u001b[0;32mif\u001b[0m \u001b[0mresult\u001b[0m\u001b[0;34m:\u001b[0m\u001b[0;34m\u001b[0m\u001b[0;34m\u001b[0m\u001b[0m\n",
      "\u001b[0;32m/Library/Developer/CommandLineTools/Library/Frameworks/Python3.framework/Versions/3.8/lib/python3.8/urllib/request.py\u001b[0m in \u001b[0;36m_call_chain\u001b[0;34m(self, chain, kind, meth_name, *args)\u001b[0m\n\u001b[1;32m    500\u001b[0m         \u001b[0;32mfor\u001b[0m \u001b[0mhandler\u001b[0m \u001b[0;32min\u001b[0m \u001b[0mhandlers\u001b[0m\u001b[0;34m:\u001b[0m\u001b[0;34m\u001b[0m\u001b[0;34m\u001b[0m\u001b[0m\n\u001b[1;32m    501\u001b[0m             \u001b[0mfunc\u001b[0m \u001b[0;34m=\u001b[0m \u001b[0mgetattr\u001b[0m\u001b[0;34m(\u001b[0m\u001b[0mhandler\u001b[0m\u001b[0;34m,\u001b[0m \u001b[0mmeth_name\u001b[0m\u001b[0;34m)\u001b[0m\u001b[0;34m\u001b[0m\u001b[0;34m\u001b[0m\u001b[0m\n\u001b[0;32m--> 502\u001b[0;31m             \u001b[0mresult\u001b[0m \u001b[0;34m=\u001b[0m \u001b[0mfunc\u001b[0m\u001b[0;34m(\u001b[0m\u001b[0;34m*\u001b[0m\u001b[0margs\u001b[0m\u001b[0;34m)\u001b[0m\u001b[0;34m\u001b[0m\u001b[0;34m\u001b[0m\u001b[0m\n\u001b[0m\u001b[1;32m    503\u001b[0m             \u001b[0;32mif\u001b[0m \u001b[0mresult\u001b[0m \u001b[0;32mis\u001b[0m \u001b[0;32mnot\u001b[0m \u001b[0;32mNone\u001b[0m\u001b[0;34m:\u001b[0m\u001b[0;34m\u001b[0m\u001b[0;34m\u001b[0m\u001b[0m\n\u001b[1;32m    504\u001b[0m                 \u001b[0;32mreturn\u001b[0m \u001b[0mresult\u001b[0m\u001b[0;34m\u001b[0m\u001b[0;34m\u001b[0m\u001b[0m\n",
      "\u001b[0;32m/Library/Developer/CommandLineTools/Library/Frameworks/Python3.framework/Versions/3.8/lib/python3.8/urllib/request.py\u001b[0m in \u001b[0;36mhttp_open\u001b[0;34m(self, req)\u001b[0m\n\u001b[1;32m   1346\u001b[0m \u001b[0;34m\u001b[0m\u001b[0m\n\u001b[1;32m   1347\u001b[0m     \u001b[0;32mdef\u001b[0m \u001b[0mhttp_open\u001b[0m\u001b[0;34m(\u001b[0m\u001b[0mself\u001b[0m\u001b[0;34m,\u001b[0m \u001b[0mreq\u001b[0m\u001b[0;34m)\u001b[0m\u001b[0;34m:\u001b[0m\u001b[0;34m\u001b[0m\u001b[0;34m\u001b[0m\u001b[0m\n\u001b[0;32m-> 1348\u001b[0;31m         \u001b[0;32mreturn\u001b[0m \u001b[0mself\u001b[0m\u001b[0;34m.\u001b[0m\u001b[0mdo_open\u001b[0m\u001b[0;34m(\u001b[0m\u001b[0mhttp\u001b[0m\u001b[0;34m.\u001b[0m\u001b[0mclient\u001b[0m\u001b[0;34m.\u001b[0m\u001b[0mHTTPConnection\u001b[0m\u001b[0;34m,\u001b[0m \u001b[0mreq\u001b[0m\u001b[0;34m)\u001b[0m\u001b[0;34m\u001b[0m\u001b[0;34m\u001b[0m\u001b[0m\n\u001b[0m\u001b[1;32m   1349\u001b[0m \u001b[0;34m\u001b[0m\u001b[0m\n\u001b[1;32m   1350\u001b[0m     \u001b[0mhttp_request\u001b[0m \u001b[0;34m=\u001b[0m \u001b[0mAbstractHTTPHandler\u001b[0m\u001b[0;34m.\u001b[0m\u001b[0mdo_request_\u001b[0m\u001b[0;34m\u001b[0m\u001b[0;34m\u001b[0m\u001b[0m\n",
      "\u001b[0;32m/Library/Developer/CommandLineTools/Library/Frameworks/Python3.framework/Versions/3.8/lib/python3.8/urllib/request.py\u001b[0m in \u001b[0;36mdo_open\u001b[0;34m(self, http_class, req, **http_conn_args)\u001b[0m\n\u001b[1;32m   1320\u001b[0m                           encode_chunked=req.has_header('Transfer-encoding'))\n\u001b[1;32m   1321\u001b[0m             \u001b[0;32mexcept\u001b[0m \u001b[0mOSError\u001b[0m \u001b[0;32mas\u001b[0m \u001b[0merr\u001b[0m\u001b[0;34m:\u001b[0m \u001b[0;31m# timeout error\u001b[0m\u001b[0;34m\u001b[0m\u001b[0;34m\u001b[0m\u001b[0m\n\u001b[0;32m-> 1322\u001b[0;31m                 \u001b[0;32mraise\u001b[0m \u001b[0mURLError\u001b[0m\u001b[0;34m(\u001b[0m\u001b[0merr\u001b[0m\u001b[0;34m)\u001b[0m\u001b[0;34m\u001b[0m\u001b[0;34m\u001b[0m\u001b[0m\n\u001b[0m\u001b[1;32m   1323\u001b[0m             \u001b[0mr\u001b[0m \u001b[0;34m=\u001b[0m \u001b[0mh\u001b[0m\u001b[0;34m.\u001b[0m\u001b[0mgetresponse\u001b[0m\u001b[0;34m(\u001b[0m\u001b[0;34m)\u001b[0m\u001b[0;34m\u001b[0m\u001b[0;34m\u001b[0m\u001b[0m\n\u001b[1;32m   1324\u001b[0m         \u001b[0;32mexcept\u001b[0m\u001b[0;34m:\u001b[0m\u001b[0;34m\u001b[0m\u001b[0;34m\u001b[0m\u001b[0m\n",
      "\u001b[0;31mURLError\u001b[0m: <urlopen error [Errno 8] nodename nor servname provided, or not known>"
     ]
    }
   ],
   "source": [
    "idx = list(sm_mask.iloc[-1][sm_mask.iloc[-1]==True].index)\n",
    "code_df = pd.read_html('http://kind.krx.co.kr/corpgeneral/corpList.do?method=download', header=0)[0][['회사명', '종목코드']]\n",
    "for i in range(len(idx)):\n",
    "    print(code_df.query(f'종목코드=={int(idx[i][1:])}').values[0][0], idx[i][1:])#, m_pc.iloc[-1][idx[i]])"
   ]
  },
  {
   "cell_type": "code",
   "execution_count": 13,
   "metadata": {},
   "outputs": [],
   "source": [
    "# sv100 중 상폐된 기업과 폐지된 월: 없음!\n",
    "mask = sm_mask\n",
    "delist_total = (m_ret==-1)\n",
    "delist_temp = delist_total[delist_total==True]\n",
    "for i in range(0, len(mask) - 1):\n",
    "    zero_r = set(delist_temp.iloc[i+1].dropna().index)\n",
    "    idx = set(mask[mask==True].iloc[i].dropna().index)\n",
    "    if idx & zero_r:\n",
    "        print(mask.index[i], idx & zero_r)"
   ]
  },
  {
   "cell_type": "code",
   "execution_count": 14,
   "metadata": {},
   "outputs": [],
   "source": [
    "# 종목코드 : 회사명 으로 변경\n",
    "code_df = pd.read_html('http://kind.krx.co.kr/corpgeneral/corpList.do?method=download', header=0)[0][['회사명', '종목코드']]\n",
    "code_df.index = ['A'+'%06d' %i for i in code_df['종목코드']]\n",
    "del code_df['종목코드']"
   ]
  },
  {
   "cell_type": "code",
   "execution_count": 141,
   "metadata": {},
   "outputs": [],
   "source": [
    "pc = pc[:-9]\n",
    "for i in [po, pl, ph]:\n",
    "    i.drop(set(i.index) - set(pc.index), inplace=True)\n",
    "pl = pl[pc.columns]\n",
    "po = po[pc.columns]\n",
    "ph = ph[pc.columns]\n",
    "pl_t = pl.copy()\n",
    "po_t = po.copy()\n",
    "ph_t = ph.copy()\n",
    "pc_t = pc.copy()\n",
    "pl_t.index = pl_t.index + pd.tseries.offsets.MonthEnd(0)\n",
    "po_t.index = po_t.index + pd.tseries.offsets.MonthEnd(0)\n",
    "ph_t.index = ph_t.index + pd.tseries.offsets.MonthEnd(0)\n",
    "pc_t.index = pc_t.index + pd.tseries.offsets.MonthEnd(0)"
   ]
  },
  {
   "cell_type": "code",
   "execution_count": 163,
   "metadata": {},
   "outputs": [],
   "source": [
    "# 캔들의 윗꼬리가 길 때 차익을 남기는 전략\n",
    "# drop_line 이상 올라가면 팔고 당일에 rebuy_line이하로 내려가면 재매수\n",
    "# 당일에 팔고 재매수하지 않았으면 월초가격 이하로 내려가면 재매수\n",
    "m_ret_t = m_ret.copy()\n",
    "m_ret_t[:] = 0.0\n",
    "\n",
    "print_flag = 0\n",
    "start = 132\n",
    "drop_line = 1 + 0.05\n",
    "rebuy_line = 1 + 0.01\n",
    "for i in range(start, len(sm_mask)-2):\n",
    "    portfolio = sm_mask.iloc[i][sm_mask.iloc[i]==True].index\n",
    "    start_price = pc_t.loc[sm_mask.index[i]].iloc[-1]\n",
    "\n",
    "    date = sm_mask.index[i+1]\n",
    "    m_po_t = po_t.loc[date][portfolio]\n",
    "    m_pc_t = pc_t.loc[date][portfolio]\n",
    "    m_ph_t = ph_t.loc[date][portfolio]\n",
    "    m_pl_t = pl_t.loc[date][portfolio]\n",
    "    \n",
    "    # buy: 매수가격,  dropped: 팔고 다시 사지 못한 종목, profit_val: 수익금\n",
    "    # to_buy: 재매수 때 사아야할 가격(지난 달 종가 * rebuy_line), dropped==True인 종목만 유의미\n",
    "    port_info = pd.DataFrame(index=portfolio, columns = ['buy', 'to_buy', 'dropped', 'profit_val'])\n",
    "    port_info['buy'] = start_price[portfolio]\n",
    "    port_info['dropped'] = False\n",
    "    port_info['profit_val'] = 0\n",
    "    \n",
    "    rebuy_flag = 0\n",
    "    for j in range(0, len(pc_t.loc[date])):\n",
    "        drop = (m_ph_t.iloc[j] / m_po_t.iloc[j]) > drop_line\n",
    "        rebuy = (m_pc_t.iloc[j] / m_po_t.iloc[j]) < rebuy_line\n",
    "        \n",
    "        if print_flag and drop.sum():\n",
    "            print(port_info)\n",
    "        # 이전에 팔고 사지 못한 종목이 있는 경우 재구매 체크\n",
    "        if port_info['dropped'].sum():\n",
    "            dropped_idx = port_info[port_info['dropped']==True].index\n",
    "            buy = (m_pl_t.iloc[j][dropped_idx] < port_info.loc[dropped_idx]['to_buy'])\n",
    "            buy_idx = buy[buy==True].index\n",
    "            # 재구매가 가능한 종목이 있는 경우 당일 종가로 구매\n",
    "            if list(buy_idx):\n",
    "                port_info['buy'][buy_idx] = m_pc_t.iloc[j][buy_idx]\n",
    "                port_info['dropped'][buy_idx] = False\n",
    "                if print_flag:\n",
    "                    print('buy later')\n",
    "                    print(port_info)\n",
    "                    print('----------*2')\n",
    "        \n",
    "        drop_idx = list(set(drop[drop==True].index) & set(port_info[port_info['dropped']==False].index))\n",
    "        rebuy_idx = list(set(drop_idx) & set(rebuy[rebuy==True].index))\n",
    "        dropped_idx = list(set(drop_idx) - set(rebuy_idx)) # 팔고 사지 못한 종목\n",
    "        port_info['profit_val'][drop_idx] +=  (m_po_t.iloc[j][drop_idx] * drop_line - port_info.loc[drop_idx]['buy'])\n",
    "        port_info['buy'][rebuy_idx] = start_price[dropped_idx] * rebuy_line\n",
    "        port_info['dropped'][dropped_idx] = True\n",
    "        port_info['to_buy'][dropped_idx] =  start_price[dropped_idx] * rebuy_line\n",
    "        \n",
    "        # profit_val과 월말가격으로 수익률 계산\n",
    "        if j == len(pc_t.loc[date]) - 1:\n",
    "            inport_idx = port_info[port_info['dropped']==False].index\n",
    "            port_info['profit_val'][inport_idx] += m_pc_t.iloc[j][inport_idx] - port_info['buy'][inport_idx]\n",
    "            m_ret_t.loc[date][portfolio] = port_info['profit_val'] / start_price[portfolio]\n",
    "            if print_flag and rebuy_flag:\n",
    "                print(m_ret_t.loc[date][portfolio])\n",
    "                print(m_ret.loc[date][portfolio])\n",
    "        if print_flag and drop.sum():\n",
    "            rebuy_flag = 1\n",
    "            print(drop)\n",
    "            print(rebuy)\n",
    "            print(port_info)\n",
    "            print('-------------'*4)\n",
    "    if print_flag:\n",
    "        print('------------------new month-------------------')"
   ]
  },
  {
   "cell_type": "code",
   "execution_count": 164,
   "metadata": {},
   "outputs": [
    {
     "name": "stdout",
     "output_type": "stream",
     "text": [
      "46566.542809335464 53.780679113732134\n"
     ]
    }
   ],
   "source": [
    "# 원래 전략 vs 당일매매 차익\n",
    "start = 132# + 60\n",
    "sm_r = m_ret[sm_mask.shift(1)].mean(axis=1).fillna(0)\n",
    "sm_cr = (sm_r + 1)[start:].cumprod()\n",
    "\n",
    "sm_rt = m_ret_t[sm_mask.shift(1)].mean(axis=1).fillna(0)\n",
    "sm_crt = (sm_rt + 1)[start:].cumprod()\n",
    "\n",
    "print(sm_cr[-1], sm_crt[-1])"
   ]
  },
  {
   "cell_type": "code",
   "execution_count": null,
   "metadata": {},
   "outputs": [],
   "source": []
  },
  {
   "cell_type": "code",
   "execution_count": 162,
   "metadata": {},
   "outputs": [
    {
     "name": "stdout",
     "output_type": "stream",
     "text": [
      "0.2665350444225074\n"
     ]
    }
   ],
   "source": [
    "# drop한 뒤 rebuy한 경우 / drop하고 rebuy하지 못한 경우 비율\n",
    "start = 20\n",
    "drop = 1 + 0.07\n",
    "rebuy = 1 + 0.03\n",
    "drop_rebuy_cnt = 0\n",
    "drop_cnt = 0\n",
    "t1 = ((po_t * drop) < ph_t)\n",
    "t2 = ((po_t * drop) < ph_t) & (pc_t < (po_t * rebuy))\n",
    "\n",
    "for i in range(start, len(sm_mask)-2):\n",
    "    portfolio = sm_mask.iloc[i][sm_mask.iloc[i]==True].index\n",
    "    drop_cnt += t1.loc[sm_mask.index[i+1]][portfolio].sum(axis=1).sum()\n",
    "    drop_rebuy_cnt += t2.loc[sm_mask.index[i+1]][portfolio].sum(axis=1).sum()\n",
    "    \n",
    "print(drop_rebuy_cnt / drop_cnt)"
   ]
  },
  {
   "cell_type": "code",
   "execution_count": 176,
   "metadata": {},
   "outputs": [
    {
     "data": {
      "text/plain": [
       "1.028943805931871"
      ]
     },
     "execution_count": 176,
     "metadata": {},
     "output_type": "execute_result"
    }
   ],
   "source": [
    "# 고가 / 시가 평균\n",
    "sm_mask_daily = pd.DataFrame(index=p.index).join(sm_mask).ffill()\n",
    "(ph / po)[sm_mask_daily].mean(axis=1).dropna().mean()"
   ]
  },
  {
   "cell_type": "code",
   "execution_count": null,
   "metadata": {},
   "outputs": [],
   "source": []
  }
 ],
 "metadata": {
  "kernelspec": {
   "display_name": "Python 3",
   "language": "python",
   "name": "python3"
  },
  "language_info": {
   "codemirror_mode": {
    "name": "ipython",
    "version": 3
   },
   "file_extension": ".py",
   "mimetype": "text/x-python",
   "name": "python",
   "nbconvert_exporter": "python",
   "pygments_lexer": "ipython3",
   "version": "3.8.2"
  }
 },
 "nbformat": 4,
 "nbformat_minor": 4
}

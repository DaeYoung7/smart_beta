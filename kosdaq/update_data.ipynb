{
 "cells": [
  {
   "cell_type": "code",
   "execution_count": 1,
   "metadata": {},
   "outputs": [],
   "source": [
    "import numpy as np\n",
    "import pandas as pd"
   ]
  },
  {
   "cell_type": "code",
   "execution_count": 3,
   "metadata": {},
   "outputs": [],
   "source": [
    "df = pd.read_csv(\"../../data/kosdaq/price.csv\", index_col='date', parse_dates=True)\n",
    "sn = pd.read_csv(\"../../data/kosdaq/share_number.csv\", index_col='date', parse_dates=True)\n",
    "pm = pd.read_csv(\"../../data/kosdaq/price_mod.csv\", index_col = 'date', parse_dates = True)\n",
    "\n",
    "df_n = pd.read_csv(\"../../data/kosdaq/price_n.csv\", index_col='date', parse_dates=True)\n",
    "sn_n = pd.read_csv(\"../../data/kosdaq/share_number_n.csv\", index_col='date', parse_dates=True)\n",
    "pm_n = pd.read_csv(\"../../data/kosdaq/price_mod_n.csv\", index_col = 'date', parse_dates = True)"
   ]
  },
  {
   "cell_type": "code",
   "execution_count": 4,
   "metadata": {},
   "outputs": [
    {
     "name": "stdout",
     "output_type": "stream",
     "text": [
      "{'A239890', 'A367480', 'A361390', 'A367360', 'A356890', 'A189330'}\n",
      "{'A239890', 'A361390', 'A189330'}\n",
      "{'A239890', 'A361390', 'A189330'}\n"
     ]
    }
   ],
   "source": [
    "print(set(df_n.columns) - set(df.columns))\n",
    "print(set(sn_n.columns) - set(sn.columns))\n",
    "print(set(pm_n.columns) - set(pm.columns))"
   ]
  },
  {
   "cell_type": "code",
   "execution_count": 5,
   "metadata": {},
   "outputs": [],
   "source": [
    "t = list(set(df_n.columns) - set(df.columns))\n",
    "df_n = df_n.drop(t, axis=1)\n",
    "t = list(set(sn_n.columns) - set(sn.columns))\n",
    "sn_n = sn_n.drop(t, axis=1)\n",
    "t = list(set(pm_n.columns) - set(pm.columns))\n",
    "pm_n = pm_n.drop(t, axis=1)"
   ]
  },
  {
   "cell_type": "code",
   "execution_count": 6,
   "metadata": {},
   "outputs": [],
   "source": [
    "df_ = pd.concat([df, df_n])\n",
    "sn_ = pd.concat([sn, sn_n])\n",
    "pm_ = pd.concat([pm, pm_n])"
   ]
  },
  {
   "cell_type": "code",
   "execution_count": 19,
   "metadata": {},
   "outputs": [],
   "source": [
    "df_.to_csv('../../data/kosdaq/price.csv')\n",
    "sn_.to_csv('../../data/kosdaq/share_number.csv')\n",
    "pm_.to_csv('../../data/kosdaq/price_mod.csv')"
   ]
  },
  {
   "cell_type": "code",
   "execution_count": null,
   "metadata": {},
   "outputs": [],
   "source": []
  }
 ],
 "metadata": {
  "kernelspec": {
   "display_name": "Python 3",
   "language": "python",
   "name": "python3"
  },
  "language_info": {
   "codemirror_mode": {
    "name": "ipython",
    "version": 3
   },
   "file_extension": ".py",
   "mimetype": "text/x-python",
   "name": "python",
   "nbconvert_exporter": "python",
   "pygments_lexer": "ipython3",
   "version": "3.8.3"
  }
 },
 "nbformat": 4,
 "nbformat_minor": 4
}

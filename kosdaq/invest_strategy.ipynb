{
 "cells": [
  {
   "cell_type": "code",
   "execution_count": 1,
   "metadata": {},
   "outputs": [],
   "source": [
    "import numpy as np\n",
    "import pandas as pd\n",
    "import pandas_datareader as pdr\n",
    "import datetime\n",
    "import matplotlib.pyplot as plt\n",
    "import seaborn as sns\n",
    "\n",
    "import warnings\n",
    "warnings.filterwarnings(action='ignore') "
   ]
  },
  {
   "cell_type": "code",
   "execution_count": 2,
   "metadata": {},
   "outputs": [],
   "source": [
    "p = pd.read_csv(\"../../data/kosdaq/price.csv\", index_col='date', parse_dates=True)\n",
    "sn = pd.read_csv(\"../../data/kosdaq/share_number.csv\", index_col='date', parse_dates=True)\n",
    "pc = pd.read_csv(\"../../data/kosdaq/price_mod.csv\", index_col = 'date', parse_dates = True)\n",
    "pl = pd.read_csv(\"../../data/kosdaq/price_low.csv\", index_col = 'date', parse_dates = True)\n",
    "ph = pd.read_csv(\"../../data/kosdaq/price_high.csv\", index_col = 'date', parse_dates = True)\n",
    "po = pd.read_csv(\"../../data/kosdaq/price_open.csv\", index_col = 'date', parse_dates = True)\n",
    "\n",
    "# quality\n",
    "gp_t = pd.read_csv(\"../../data/kosdaq/gross_profit.csv\", index_col='date', parse_dates=True)\n",
    "ast_t = pd.read_csv(\"../../data/kosdaq/asset.csv\", index_col='date', parse_dates=True)\n",
    "lb_t = pd.read_csv(\"../../data/kosdaq/liability.csv\", index_col = 'date', parse_dates = True)\n",
    "cf_t = pd.read_csv(\"../../data/kosdaq/cashflow.csv\", index_col = 'date', parse_dates = True)\n",
    "sl_t = pd.read_csv(\"../../data/kosdaq/sales.csv\", index_col = 'date', parse_dates = True)\n",
    "\n",
    "# value\n",
    "per_t = pd.read_csv(\"../../data/kosdaq/per.csv\", index_col = 'date', parse_dates = True)\n",
    "pbr_t = pd.read_csv(\"../../data/kosdaq/pbr.csv\", index_col = 'date', parse_dates = True)\n",
    "psr_t = pd.read_csv(\"../../data/kosdaq/psr.csv\", index_col = 'date', parse_dates = True)\n",
    "pcr_t = pd.read_csv(\"../../data/kosdaq/pcr.csv\", index_col = 'date', parse_dates = True)\n",
    "\n",
    "# bps_t = pd.read_csv(f\"../../data/kosdaq/quarter_bps.csv\", index_col = 'date', parse_dates = True)\n",
    "# eps_t = pd.read_csv(f\"../../data/kosdaq/quarter_eps.csv\", index_col = 'date', parse_dates = True)\n",
    "# cfps_t = pd.read_csv(f\"../../data/kosdaq/quarter_cfps.csv\", index_col = 'date', parse_dates = True)\n",
    "# sps_t = pd.read_csv(f\"../../data/kosdaq/quarter_sps.csv\", index_col = 'date', parse_dates = True)\n",
    "\n",
    "# 거래정지\n",
    "suspension = pd.read_csv(\"../../data/kosdaq/suspension.csv\", index_col=\"date\", parse_dates=True, low_memory=False)"
   ]
  },
  {
   "cell_type": "code",
   "execution_count": 3,
   "metadata": {},
   "outputs": [],
   "source": [
    "# 중국기업 제외\n",
    "chinese = ['A900110', 'A900120', 'A900070', 'A900080', 'A900250', 'A900260', 'A900270', 'A900280', \\\n",
    "           'A900290', 'A900300', 'A900310', 'A900340', 'A900090', 'A060240']\n",
    "p.drop(chinese, axis=1, inplace=True)\n",
    "sn.drop(chinese, axis=1, inplace=True)\n",
    "pc.drop(chinese, axis=1, inplace=True)\n",
    "po.drop(chinese, axis=1, inplace=True)\n",
    "ph.drop(chinese, axis=1, inplace=True)\n",
    "pl.drop(chinese, axis=1, inplace=True)\n",
    "gp_t.drop(chinese, axis=1, inplace=True)\n",
    "ast_t.drop(chinese, axis=1, inplace=True)\n",
    "lb_t.drop(chinese, axis=1, inplace=True)\n",
    "cf_t.drop(chinese, axis=1, inplace=True)\n",
    "sl_t.drop(chinese, axis=1, inplace=True)\n",
    "per_t.drop(chinese, axis=1, inplace=True)\n",
    "pbr_t.drop(chinese, axis=1, inplace=True)\n",
    "psr_t.drop(chinese, axis=1, inplace=True)\n",
    "pcr_t.drop(chinese, axis=1, inplace=True)\n",
    "suspension.drop(chinese, axis=1, inplace=True)"
   ]
  },
  {
   "cell_type": "code",
   "execution_count": 4,
   "metadata": {},
   "outputs": [],
   "source": [
    "# 거래정지 처리\n",
    "suspension.index = suspension.index + pd.tseries.offsets.MonthEnd(0)\n",
    "m_suspension_mask = suspension.groupby('date').last().isnull()\n",
    "\n",
    "# 빠진 기업 정리\n",
    "pl.drop(list(set(pl) - set(p.columns)), axis=1, inplace=True)\n",
    "pc.drop(list(set(pc) - set(p.columns)), axis=1, inplace=True)\n",
    "po.drop(list(set(po) - set(p.columns)), axis=1, inplace=True)\n",
    "ph.drop(list(set(ph) - set(p.columns)), axis=1, inplace=True)"
   ]
  },
  {
   "cell_type": "code",
   "execution_count": 5,
   "metadata": {},
   "outputs": [],
   "source": [
    "m = 15\n",
    "\n",
    "market_cap = p * sn\n",
    "market_cap_t = market_cap.copy()\n",
    "market_cap_t.index = market_cap_t.index + pd.tseries.offsets.MonthEnd(0)\n",
    "m_cap = market_cap_t.groupby('date').last()\n",
    "\n",
    "pc_t = pc.copy()\n",
    "pc_t.index = pc_t.index + pd.tseries.offsets.MonthEnd(0)\n",
    "m_pc = pc_t.groupby('date').last()\n",
    "m_ret = (m_pc.fillna(-1) / m_pc.shift(1)).clip(0, 10) - 1\n",
    "\n",
    "gp = pd.DataFrame(index=m_ret.index).join(gp_t).shift(m)\n",
    "ast = pd.DataFrame(index=m_ret.index).join(ast_t).shift(m)\n",
    "lb = pd.DataFrame(index=m_ret.index).join(lb_t).shift(m)\n",
    "cf = pd.DataFrame(index=m_ret.index).join(cf_t).shift(m)\n",
    "sl = pd.DataFrame(index=m_ret.index).join(sl_t).shift(m)\n",
    "\n",
    "p_t = p.copy()\n",
    "p_t.index = p_t.index + pd.tseries.offsets.MonthEnd(0)\n",
    "m_p = p_t.groupby('date').last()\n",
    "\n",
    "per = per_t.shift(m)\n",
    "pbr = pbr_t.shift(m)\n",
    "psr = psr_t.shift(m)\n",
    "pcr = pcr_t.shift(m)\n",
    "\n",
    "pl_t = pl.copy()\n",
    "po_t = po.copy()\n",
    "ph_t = ph.copy()\n",
    "\n",
    "pl_t.index = pl_t.index + pd.tseries.offsets.MonthEnd(0)\n",
    "po_t.index = po_t.index + pd.tseries.offsets.MonthEnd(0)\n",
    "ph_t.index = ph_t.index + pd.tseries.offsets.MonthEnd(0)"
   ]
  },
  {
   "cell_type": "code",
   "execution_count": 6,
   "metadata": {},
   "outputs": [],
   "source": [
    "# quality\n",
    "pivot = 12\n",
    "\n",
    "# 수익성 팩터\n",
    "gpoa = gp/ast # gross profit over asset\n",
    "cfoa = cf/ast # cashflow profit over asset\n",
    "gmar = gp/sl  # gross margin\n",
    "turn = sl/ast\n",
    "\n",
    "# 성장성 팩터(수익성 팩터, 5년 전과 비교해서 변화 정도 / 총자산)\n",
    "gpoa_d = (gpoa - gpoa.shift(pivot))/ ast.shift(pivot)\n",
    "cfoa_d = (cfoa - cfoa.shift(pivot))/ ast.shift(pivot)\n",
    "gmar_d = (gmar - gmar.shift(pivot))/ sl.shift(pivot)\n",
    "turn_d = sl/ast - sl.shift(12)/ast.shift(12)\n",
    "\n",
    "# 안정성 팩터\n",
    "lev = lb/ast # 총부채 / 총자산\n",
    "gpvol = gpoa.rolling(pivot).std()  # gross profit volatility\n",
    "cfvol = cfoa.rolling(pivot).std()  # cashflow volatility\n",
    "\n",
    "gpoa_rank = gpoa.rank(axis=1, ascending=False)\n",
    "cfoa_rank = cfoa.rank(axis=1, ascending=False)\n",
    "gmar_rank = gmar.rank(axis=1, ascending=False)\n",
    "turn_rank = turn.rank(axis=1, ascending=False)\n",
    "gpoa_d_rank = gpoa_d.rank(axis=1, ascending=False)\n",
    "cfoa_d_rank = cfoa_d.rank(axis=1, ascending=False)\n",
    "gmar_d_rank = gmar_d.rank(axis=1, ascending=False)\n",
    "turn_d_rank = turn_d.rank(axis=1, ascending=False)\n",
    "lev_rank = lev.rank(axis=1)\n",
    "gpvol_rank = gpvol.rank(axis=1)\n",
    "cfvol_rank = cfvol.rank(axis=1)\n",
    "\n",
    "gpoa_z = (gpoa_rank.T - gpoa_rank.mean(axis=1)) / gpoa_rank.std(axis=1)\n",
    "cfoa_z = (cfoa_rank.T - cfoa_rank.mean(axis=1)) / cfoa_rank.std(axis=1)\n",
    "gmar_z = (gmar_rank.T - gmar_rank.mean(axis=1)) / gmar_rank.std(axis=1)\n",
    "turn_z = (turn_rank.T - turn_rank.mean(axis=1)) / turn_rank.std(axis=1)\n",
    "gpoa_d_z = (gpoa_d_rank.T - gpoa_d_rank.mean(axis=1)) / gpoa_d_rank.std(axis=1)\n",
    "cfoa_d_z = (cfoa_d_rank.T - cfoa_d_rank.mean(axis=1)) / cfoa_d_rank.std(axis=1)\n",
    "gmar_d_z = (gmar_d_rank.T - gmar_d_rank.mean(axis=1)) / gmar_d_rank.std(axis=1)\n",
    "turn_d_z = (turn_d_rank.T - turn_d_rank.mean(axis=1)) / turn_d_rank.std(axis=1)\n",
    "lev_z = (lev_rank.T - lev_rank.mean(axis=1)) / lev_rank.std(axis=1)\n",
    "gpvol_z = (gpvol_rank.T - gpvol_rank.mean(axis=1)) / gpvol_rank.std(axis=1)\n",
    "cfvol_z = (cfvol_rank.T - cfvol_rank.mean(axis=1)) / cfvol_rank.std(axis=1)\n",
    "\n",
    "total_qz = gpoa_z.T + cfoa_z.T + gmar_z.T + turn_z.T + gpoa_d_z.T + cfoa_d_z.T + gmar_d_z.T + turn_d_z.T + lev_z.T + gpvol_z.T + cfvol_z.T\n",
    "total_qz = ((total_qz.T - total_qz.mean(axis=1)) / total_qz.std(axis=1)).T"
   ]
  },
  {
   "cell_type": "code",
   "execution_count": 7,
   "metadata": {},
   "outputs": [],
   "source": [
    "# value\n",
    "per_rank = per.rank(axis=1, pct=True)\n",
    "pbr_rank = pbr.rank(axis=1, pct=True)\n",
    "psr_rank = psr.rank(axis=1, pct=True)\n",
    "pcr_rank = pcr.rank(axis=1, pct=True)\n",
    "\n",
    "per_z = ((per_rank.T - per_rank.mean(axis=1)) / per_rank.std(axis=1))\n",
    "pbr_z = ((pbr_rank.T - pbr_rank.mean(axis=1)) / pbr_rank.std(axis=1))\n",
    "psr_z = ((psr_rank.T - psr_rank.mean(axis=1)) / psr_rank.std(axis=1))\n",
    "pcr_z = ((pcr_rank.T - pcr_rank.mean(axis=1)) / pcr_rank.std(axis=1))\n",
    "\n",
    "total_vz = per_z.T + pbr_z.T + psr_z.T + pcr_z.T"
   ]
  },
  {
   "cell_type": "code",
   "execution_count": 8,
   "metadata": {},
   "outputs": [],
   "source": [
    "def MDD(arr):\n",
    "    low = np.argmin(arr / np.maximum.accumulate(arr))\n",
    "    high = np.argmax(arr[:low])\n",
    "    return high, low, (arr[high] - arr[low]) / arr[high]\n",
    "\n",
    "def hit_ratio(arr, r, recent_num_ratio=True):\n",
    "    total = round(sum(arr > 0) / len(arr), 4)\n",
    "    recent = round(sum(arr[-1*r:] > 0) / len(arr[-1*r:]), 4) if recent_num_ratio else sum(arr[-1*r:] > 0)\n",
    "    return total, recent"
   ]
  },
  {
   "cell_type": "code",
   "execution_count": 9,
   "metadata": {},
   "outputs": [],
   "source": [
    "vol_month = m_pc.rolling(50).std()\n",
    "vol_day = (pc_t.fillna(-1) / pc_t.shift(1)).clip(0, 10).rolling(50).std().groupby('date').mean()\n",
    "momentum_mask_t = m_pc.copy()\n",
    "for i in range(6):\n",
    "    momentum_mask_t[momentum_mask_t < m_pc.shift(i)] = m_pc.shift(i)[momentum_mask_t < m_pc.shift(i)]\n",
    "momentum = (m_pc.shift(1) / m_pc.shift(4)) - (m_pc / momentum_mask_t) - vol_day * 1.5\n",
    "\n",
    "momentum_mask = m_pc.shift(1).copy()\n",
    "for i in range(9):\n",
    "    momentum_mask[momentum_mask > m_pc.shift(i)] = m_pc.shift(i)[momentum_mask > m_pc.shift(i)]\n",
    "momentum_mask = (m_pc.shift(1) / momentum_mask) < 2"
   ]
  },
  {
   "cell_type": "code",
   "execution_count": 10,
   "metadata": {},
   "outputs": [],
   "source": [
    "per_minus_mask = (per.shift(12).isnull() & m_pc.shift(15+12).notnull()) & \\\n",
    "                (per.shift(24).isnull() & m_pc.shift(15+24).notnull()) & \\\n",
    "                (per.shift(36).isnull() & m_pc.shift(15+36).notnull()) & \\\n",
    "                (per.shift(48).isnull() & m_pc.shift(15+48).notnull())"
   ]
  },
  {
   "cell_type": "code",
   "execution_count": 11,
   "metadata": {
    "scrolled": false
   },
   "outputs": [
    {
     "name": "stdout",
     "output_type": "stream",
     "text": [
      "momentum: high - 2007-09-30 00:00:00, low - 2008-10-31 00:00:00, mdd - 0.5836\n",
      "value (hit): total - 0.6271, recent - 9\n",
      "연간 평균수익률: 2.143105628062041\n",
      "월간 평균수익률: 1.0655822184313017\n"
     ]
    },
    {
     "data": {
      "image/png": "[encoded data removed]",
      "text/plain": [
       "<Figure size 432x288 with 1 Axes>"
      ]
     },
     "metadata": {},
     "output_type": "display_data"
    }
   ],
   "source": [
    "sv_mask = m_cap[m_suspension_mask].rank(axis=1, pct=True, ascending=True) < 0.1\n",
    "svv_mask = total_vz[sv_mask].rank(axis=1, pct=True) < 0.2\n",
    "svm_mask = momentum[svv_mask & momentum_mask & ~per_minus_mask].rank(axis=1, pct=True, ascending=False) < 0.4\n",
    "\n",
    "pr = 16\n",
    "svm_r = m_ret[svm_mask.shift(1)].mean(axis=1).fillna(0)\n",
    "svm_cr = (svm_r + 1)[pr:].cumprod()\n",
    "\n",
    "h, l, mdd = MDD(svm_cr.values)\n",
    "print(f'momentum: high - {svm_cr.index[h]}, low - {svm_cr.index[l]}, mdd - {round(mdd, 4)}')\n",
    "# t = 130\n",
    "# h, l, mdd = MDD(sm_cr[t:].values)\n",
    "# print(f'momentum: high - {sm_cr[t:].index[h]}, low - {sm_cr[t:].index[l]}, mdd - {round(mdd, 4)}')\n",
    "\n",
    "t, r = hit_ratio(svm_r.values[pr:], 12, False)\n",
    "print(f'value (hit): total - {t}, recent - {r}')\n",
    "year_r = svm_cr[-1]**(1.0/(int((len(svm_r) - pr)/12)))\n",
    "print(f'연간 평균수익률: {year_r}\\n월간 평균수익률: {year_r**(1.0/12)}')\n",
    "\n",
    "sns.set_style('whitegrid')\n",
    "sns.lineplot(svm_cr.index, svm_cr)\n",
    "plt.title('small value')\n",
    "plt.show()\n",
    "\n",
    "\n",
    "# print('투자 기업 개수')\n",
    "# print(sm_mask[-30:].sum(axis=1).values)\n",
    "# print(svol_mask[-30:].sum(axis=1).values)\n",
    "# print()\n",
    "\n",
    "# print('평균 수익률')\n",
    "# print(sm_r.mean(), svol_r.mean())\n",
    "# print()\n",
    "\n",
    "# print('수익률 표준편차')\n",
    "# print(sm_r.std(), svol_r.std())\n",
    "# print()\n",
    "\n",
    "# print('수익률 상관관계')\n",
    "# print(sm_r.corr(svol_r))"
   ]
  },
  {
   "cell_type": "code",
   "execution_count": 12,
   "metadata": {},
   "outputs": [
    {
     "name": "stdout",
     "output_type": "stream",
     "text": [
      "원일특강 012620\n",
      "에스티오 098660\n"
     ]
    }
   ],
   "source": [
    "idx = list(svm_mask.iloc[-1][svm_mask.iloc[-1]==True].index)\n",
    "code_df = pd.read_html('http://kind.krx.co.kr/corpgeneral/corpList.do?method=download', header=0)[0][['회사명', '종목코드']]\n",
    "for i in range(len(idx)):\n",
    "    print(code_df.query(f'종목코드=={int(idx[i][1:])}').values[0][0], idx[i][1:])#, m_pc.iloc[-1][idx[i]])"
   ]
  },
  {
   "cell_type": "code",
   "execution_count": 13,
   "metadata": {},
   "outputs": [],
   "source": [
    "# sv100 중 상폐된 기업과 폐지된 월: 없음!\n",
    "mask = svm_mask\n",
    "delist_total = (m_ret==-1)\n",
    "delist_temp = delist_total[delist_total==True]\n",
    "for i in range(0, len(mask) - 1):\n",
    "    zero_r = set(delist_temp.iloc[i+1].dropna().index)\n",
    "    idx = set(mask[mask==True].iloc[i].dropna().index)\n",
    "    if idx & zero_r:\n",
    "        print(mask.index[i], idx & zero_r)"
   ]
  },
  {
   "cell_type": "code",
   "execution_count": 14,
   "metadata": {},
   "outputs": [],
   "source": [
    "# 종목코드 : 회사명 으로 변경\n",
    "code_df = pd.read_html('http://kind.krx.co.kr/corpgeneral/corpList.do?method=download', header=0)[0][['회사명', '종목코드']]\n",
    "code_df.index = ['A'+'%06d' %i for i in code_df['종목코드']]\n",
    "del code_df['종목코드']"
   ]
  },
  {
   "cell_type": "markdown",
   "metadata": {},
   "source": [
    "## 당일 매매로 수익을 내는 전략 (변동성이 클 때 수익)"
   ]
  },
  {
   "cell_type": "code",
   "execution_count": 15,
   "metadata": {},
   "outputs": [],
   "source": [
    "pc = pc[:-9]\n",
    "for i in [po, pl, ph]:\n",
    "    i.drop(set(i.index) - set(pc.index), inplace=True)\n",
    "pl = pl[pc.columns]\n",
    "po = po[pc.columns]\n",
    "ph = ph[pc.columns]\n",
    "pl_t = pl.copy()\n",
    "po_t = po.copy()\n",
    "ph_t = ph.copy()\n",
    "pc_t = pc.copy()\n",
    "pl_t.index = pl_t.index + pd.tseries.offsets.MonthEnd(0)\n",
    "po_t.index = po_t.index + pd.tseries.offsets.MonthEnd(0)\n",
    "ph_t.index = ph_t.index + pd.tseries.offsets.MonthEnd(0)\n",
    "pc_t.index = pc_t.index + pd.tseries.offsets.MonthEnd(0)"
   ]
  },
  {
   "cell_type": "code",
   "execution_count": 18,
   "metadata": {},
   "outputs": [],
   "source": [
    "# 캔들의 윗꼬리가 길 때 차익을 남기는 전략\n",
    "# drop_line 이상 올라가면 팔고 당일에 rebuy_line이하로 내려가면 재매수 혹은 종가로 매수 => 둘중하나 정해야함\n",
    "# 당일에 팔고 재매수하지 않았으면 월초가격 이하로 내려가면 재매수\n",
    "# 결과: 팔고 종가에 사는 경우 이득 높아짐, 5%와 10%에서 유의미\n",
    "m_ret_t = m_ret.copy()\n",
    "m_ret_t[:] = 0.0\n",
    "\n",
    "print_flag = 0\n",
    "start = 132\n",
    "drop_line = 1 + 0.1\n",
    "# flag 활성화 아니면 매도 종목은 항상 종가에 재매수, 1이면 월초 가격 * rebuy_line 가격에 재매수\n",
    "rebuy_flag = 0\n",
    "rebuy_line = 1 + 0.01\n",
    "for i in range(start, len(svm_mask)-2):\n",
    "    portfolio = svm_mask.iloc[i][svm_mask.iloc[i]==True].index\n",
    "    start_price = pc_t.loc[svm_mask.index[i]].iloc[-1]\n",
    "\n",
    "    date = svm_mask.index[i+1]\n",
    "    # 주가 데이터 (시가, 종가, 고가, 저가)\n",
    "    m_po_t = po_t.loc[date][portfolio]\n",
    "    m_pc_t = pc_t.loc[date][portfolio]\n",
    "    m_ph_t = ph_t.loc[date][portfolio]\n",
    "    m_pl_t = pl_t.loc[date][portfolio]\n",
    "    \n",
    "    # buy: 매수가격,  dropped: 팔고 다시 사지 못한 종목, profit_val: 수익금\n",
    "    # to_buy: 재매수 때 사아야할 가격(지난 달 종가 * rebuy_line), (dropped==True인 종목만 유의미)\n",
    "    port_info = pd.DataFrame(index=portfolio, columns = ['buy', 'to_buy', 'dropped', 'profit_val'])\n",
    "    port_info['buy'] = start_price[portfolio]\n",
    "    port_info['to_buy'] = 0\n",
    "    port_info['dropped'] = False\n",
    "    port_info['profit_val'] = 0\n",
    "    \n",
    "    for j in range(0, len(pc_t.loc[date])):\n",
    "        drop = (m_ph_t.iloc[j] / m_po_t.iloc[j]) > drop_line\n",
    "        rebuy = (m_pc_t.iloc[j] / m_po_t.iloc[j]) < rebuy_line\n",
    "        \n",
    "        # 이전에 팔고 사지 못한 종목이 있는 경우 재구매 체크\n",
    "        if rebuy_flag and port_info['dropped'].sum():\n",
    "            dropped_idx = port_info[port_info['dropped']==True].index\n",
    "            buy = (m_pl_t.iloc[j][dropped_idx] < port_info.loc[dropped_idx]['to_buy'])\n",
    "            buy_idx = buy[buy==True].index\n",
    "            # drop한 종목은 매일 'to buy'가격에 매수 걸어놓음, buy_idx 종목은 항상 'to_buy'  가격으로 매수가능\n",
    "            if list(buy_idx):\n",
    "                port_info['buy'][buy_idx] = port_info.loc[buy_idx]['to_buy']\n",
    "                port_info['dropped'][buy_idx] = False\n",
    "        \n",
    "        drop_idx = list(set(drop[drop==True].index) & set(port_info[port_info['dropped']==False].index))\n",
    "        port_info['profit_val'][drop_idx] +=  (m_po_t.iloc[j][drop_idx] * drop_line - port_info.loc[drop_idx]['buy'])\n",
    "        port_info['buy'][drop_idx] = m_pc_t.iloc[j][drop_idx]\n",
    "    \n",
    "        if rebuy_flag:\n",
    "            rebuy_idx = list(set(drop_idx) & set(rebuy[rebuy==True].index))\n",
    "            dropped_idx = list(set(drop_idx) - set(rebuy_idx)) # 팔고 사지 못한 종목\n",
    "            port_info['buy'][rebuy_idx] = start_price[dropped_idx] * rebuy_line\n",
    "            port_info['dropped'][dropped_idx] = True\n",
    "            port_info['to_buy'][dropped_idx] =  m_po_t.iloc[j] * rebuy_line\n",
    "        \n",
    "        # profit_val과 월말가격으로 수익률 계산\n",
    "        if j == len(pc_t.loc[date]) - 1:\n",
    "            in_port_idx = port_info[port_info['dropped'] == False].index\n",
    "            port_info['profit_val'][in_port_idx] += m_pc_t.iloc[j][in_port_idx] - port_info['buy'][in_port_idx]\n",
    "            m_ret_t.loc[date][portfolio] = port_info['profit_val'] / start_price[portfolio]"
   ]
  },
  {
   "cell_type": "code",
   "execution_count": 19,
   "metadata": {},
   "outputs": [
    {
     "name": "stdout",
     "output_type": "stream",
     "text": [
      "41169.52686613786 692158.821084522\n",
      "연간 평균수익률: 2.8937272071710294\n",
      "월간 평균수익률: 1.0925839059835998\n",
      "연간 평균수익률: 3.8372542502902243\n",
      "월간 평균수익률: 1.1185834290878391\n"
     ]
    }
   ],
   "source": [
    "# 원래 전략 vs 당일매매 차익\n",
    "start = 132# + 60\n",
    "sm_r = m_ret[svm_mask.shift(1)].mean(axis=1).fillna(0)\n",
    "sm_cr = (sm_r + 1)[start:].cumprod()\n",
    "\n",
    "sm_rt = m_ret_t[svm_mask.shift(1)].mean(axis=1).fillna(0)\n",
    "sm_crt = (sm_rt + 1)[start:].cumprod()\n",
    "\n",
    "print(sm_cr[-1], sm_crt[-1])\n",
    "year_r = sm_cr[-1]**(1.0/(int((len(sm_r) - start)/12)))\n",
    "print(f'연간 평균수익률: {year_r}\\n월간 평균수익률: {year_r**(1.0/12)}')\n",
    "year_rt = sm_crt[-1]**(1.0/(int((len(sm_r) - start)/12)))\n",
    "print(f'연간 평균수익률: {year_rt}\\n월간 평균수익률: {year_rt**(1.0/12)}')"
   ]
  },
  {
   "cell_type": "code",
   "execution_count": 25,
   "metadata": {},
   "outputs": [
    {
     "name": "stdout",
     "output_type": "stream",
     "text": [
      "0.10877862595419847\n"
     ]
    }
   ],
   "source": [
    "# drop한 뒤 rebuy한 경우 / drop한 경우 비율\n",
    "start = 20\n",
    "drop_rebuy_cnt = 0\n",
    "drop_cnt = 0\n",
    "t1 = ((po_t * drop_line) < ph_t)\n",
    "t2 = ((po_t * drop_line) < ph_t) & (pc_t < (po_t * rebuy_line))\n",
    "\n",
    "for i in range(start, len(svm_mask)-2):\n",
    "    portfolio = svm_mask.iloc[i][svm_mask.iloc[i]==True].index\n",
    "    drop_cnt += t1.loc[svm_mask.index[i+1]][portfolio].sum(axis=1).sum()\n",
    "    drop_rebuy_cnt += t2.loc[svm_mask.index[i+1]][portfolio].sum(axis=1).sum()\n",
    "    \n",
    "print(drop_rebuy_cnt / drop_cnt)"
   ]
  },
  {
   "cell_type": "code",
   "execution_count": 24,
   "metadata": {},
   "outputs": [
    {
     "data": {
      "text/plain": [
       "1.028845554654909"
      ]
     },
     "execution_count": 24,
     "metadata": {},
     "output_type": "execute_result"
    }
   ],
   "source": [
    "# 고가 / 시가 평균 - 평균적인 주가 증가량 알아보기 위함\n",
    "svm_mask_daily = pd.DataFrame(index=p.index).join(svm_mask).ffill()\n",
    "(ph / po)[svm_mask_daily].mean(axis=1).dropna().mean()"
   ]
  },
  {
   "cell_type": "code",
   "execution_count": 26,
   "metadata": {},
   "outputs": [],
   "source": [
    "high = ph_t.groupby('date').max() / pc_t.shift(1).groupby('date').last() - 1\n",
    "low = pl_t.groupby('date').min() / pc_t.shift(1).groupby('date').last() - 1\n",
    "close = m_ret.copy()\n",
    "hm = high[svm_mask.shift(1)]\n",
    "lm = low[svm_mask.shift(1)]\n",
    "cm = close[svm_mask.shift(1)]"
   ]
  },
  {
   "cell_type": "code",
   "execution_count": 27,
   "metadata": {},
   "outputs": [
    {
     "name": "stdout",
     "output_type": "stream",
     "text": [
      "총개수: 471\n",
      "고가 개수: 115\n",
      "종가 개수: 76\n",
      "종가 개수: 42\n",
      "-------------저가\n",
      "저가 개수: 451\n",
      "종가 개수: 166\n"
     ]
    }
   ],
   "source": [
    "# 월 내에 x%이상 오른 종목의 개수 vs 월 말에 x% 이상 오른 종목의 개수\n",
    "x = 0.2\n",
    "y = - 0.01\n",
    "print(f'총개수: {svm_mask.sum(axis=1).sum()}')\n",
    "print(f'고가 개수: {(hm>x).sum(axis=1).sum()}')\n",
    "print(f'종가 개수: {(cm>x).sum(axis=1).sum()}')\n",
    "print(f'종가 개수: {(cm>(x+0.1)).sum(axis=1).sum()}')\n",
    "print('-------------저가')\n",
    "print(f'저가 개수: {(lm<y).sum(axis=1).sum()}')\n",
    "print(f'종가 개수: {(cm<y).sum(axis=1).sum()}')"
   ]
  },
  {
   "cell_type": "code",
   "execution_count": null,
   "metadata": {},
   "outputs": [],
   "source": []
  }
 ],
 "metadata": {
  "kernelspec": {
   "display_name": "Python 3",
   "language": "python",
   "name": "python3"
  },
  "language_info": {
   "codemirror_mode": {
    "name": "ipython",
    "version": 3
   },
   "file_extension": ".py",
   "mimetype": "text/x-python",
   "name": "python",
   "nbconvert_exporter": "python",
   "pygments_lexer": "ipython3",
   "version": "3.8.3"
  }
 },
 "nbformat": 4,
 "nbformat_minor": 4
}

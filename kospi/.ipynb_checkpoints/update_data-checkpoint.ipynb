{
 "cells": [
  {
   "cell_type": "code",
   "execution_count": 1,
   "metadata": {},
   "outputs": [],
   "source": [
    "import numpy as np\n",
    "import pandas as pd"
   ]
  },
  {
   "cell_type": "code",
   "execution_count": 2,
   "metadata": {},
   "outputs": [],
   "source": [
    "df = pd.read_csv(\"../../data/kospi/price.csv\", index_col='date', parse_dates=True)\n",
    "sn = pd.read_csv(\"../../data/kospi/share_number.csv\", index_col='date', parse_dates=True)\n",
    "pm = pd.read_csv(\"../../data/kospi/price_mod.csv\", index_col = 'date', parse_dates = True)\n",
    "\n",
    "df_n = pd.read_csv(\"../../data/kospi/price_n.csv\", index_col='date', parse_dates=True)\n",
    "sn_n = pd.read_csv(\"../../data/kospi/share_number_n.csv\", index_col='date', parse_dates=True)\n",
    "pm_n = pd.read_csv(\"../../data/kospi/price_mod_n.csv\", index_col = 'date', parse_dates = True)"
   ]
  },
  {
   "cell_type": "code",
   "execution_count": 7,
   "metadata": {},
   "outputs": [],
   "source": [
    "to_del = str(list(set(df_n.columns) - set(df.columns))[0])\n",
    "del df_n[to_del], sn_n[to_del], pm_n[to_del]"
   ]
  },
  {
   "cell_type": "code",
   "execution_count": 8,
   "metadata": {},
   "outputs": [],
   "source": [
    "df_ = pd.concat([df, df_n])\n",
    "sn_ = pd.concat([sn, sn_n])\n",
    "pm_ = pd.concat([pm, pm_n])"
   ]
  },
  {
   "cell_type": "code",
   "execution_count": 9,
   "metadata": {},
   "outputs": [],
   "source": [
    "df_.to_csv('../../data/kospi/price.csv')\n",
    "sn_.to_csv('../../data/kospi/share_number.csv')\n",
    "pm_.to_csv('../../data/kospi/price_mod.csv')"
   ]
  },
  {
   "cell_type": "code",
   "execution_count": null,
   "metadata": {},
   "outputs": [],
   "source": []
  }
 ],
 "metadata": {
  "kernelspec": {
   "display_name": "Python 3",
   "language": "python",
   "name": "python3"
  },
  "language_info": {
   "codemirror_mode": {
    "name": "ipython",
    "version": 3
   },
   "file_extension": ".py",
   "mimetype": "text/x-python",
   "name": "python",
   "nbconvert_exporter": "python",
   "pygments_lexer": "ipython3",
   "version": "3.8.3"
  }
 },
 "nbformat": 4,
 "nbformat_minor": 4
}

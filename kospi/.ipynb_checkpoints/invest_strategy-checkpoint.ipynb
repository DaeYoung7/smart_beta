{
 "cells": [
  {
   "cell_type": "code",
   "execution_count": 1,
   "metadata": {},
   "outputs": [],
   "source": [
    "import numpy as np\n",
    "import pandas as pd\n",
    "import pandas_datareader as pdr\n",
    "import datetime\n",
    "import matplotlib.pyplot as plt\n",
    "import seaborn as sns"
   ]
  },
  {
   "cell_type": "code",
   "execution_count": 6,
   "metadata": {},
   "outputs": [],
   "source": [
    "df = pd.read_csv(\"../../data/kospi/price.csv\", index_col='date', parse_dates=True)\n",
    "sn = pd.read_csv(\"../../data/kospi/share_number.csv\", index_col='date', parse_dates=True)\n",
    "pm = pd.read_csv(\"../../data/kospi/price_mod.csv\", index_col = 'date', parse_dates = True)\n",
    "\n",
    "# quality\n",
    "gp_t = pd.read_csv(\"../../data/kospi/gross_profit.csv\", index_col='date', parse_dates=True)\n",
    "ast_t = pd.read_csv(\"../../data/kospi/asset.csv\", index_col='date', parse_dates=True)\n",
    "lb_t = pd.read_csv(\"../../data/kospi/liability.csv\", index_col = 'date', parse_dates = True)\n",
    "cf_t = pd.read_csv(\"../../data/kospi/cashflow.csv\", index_col = 'date', parse_dates = True)\n",
    "sl_t = pd.read_csv(\"../../data/kospi/sales.csv\", index_col = 'date', parse_dates = True)\n",
    "\n",
    "# value\n",
    "per_t = pd.read_csv(\"../../data/kospi/per.csv\", index_col = 'date', parse_dates = True)\n",
    "pbr_t = pd.read_csv(\"../../data/kospi/pbr.csv\", index_col = 'date', parse_dates = True)\n",
    "psr_t = pd.read_csv(\"../../data/kospi/psr.csv\", index_col = 'date', parse_dates = True)\n",
    "pcr_t = pd.read_csv(\"../../data/kospi/pcr.csv\", index_col = 'date', parse_dates = True)"
   ]
  },
  {
   "cell_type": "code",
   "execution_count": 7,
   "metadata": {},
   "outputs": [],
   "source": [
    "# 삼성전자 제외\n",
    "del df['A005930'], sn['A005930'], pm['A005930'], gp_t['A005930'], ast_t['A005930'], lb_t['A005930']\n",
    "del cf_t['A005930'], sl_t['A005930'], per_t['A005930'], pbr_t['A005930'], psr_t['A005930'], pcr_t['A005930']"
   ]
  },
  {
   "cell_type": "code",
   "execution_count": 8,
   "metadata": {},
   "outputs": [],
   "source": [
    "m = 15\n",
    "\n",
    "market_cap = df * sn\n",
    "market_cap.index = market_cap.index + pd.tseries.offsets.MonthEnd(0)\n",
    "m_cap = market_cap.groupby('date').last()\n",
    "\n",
    "pm.index = pm.index + pd.tseries.offsets.MonthEnd(0)\n",
    "m_pm = pm.groupby('date').last()\n",
    "m_ret = (m_pm.fillna(-1) / m_pm.shift(1)).clip(0, 10) - 1\n",
    "\n",
    "gp = pd.DataFrame(index=m_ret.index).join(gp_t).shift(m)\n",
    "ast = pd.DataFrame(index=m_ret.index).join(ast_t).shift(m)\n",
    "lb = pd.DataFrame(index=m_ret.index).join(lb_t).shift(m)\n",
    "cf = pd.DataFrame(index=m_ret.index).join(cf_t).shift(m)\n",
    "sl = pd.DataFrame(index=m_ret.index).join(sl_t).shift(m)\n",
    "\n",
    "df.index = df.index + pd.tseries.offsets.MonthEnd(0)\n",
    "m_df = df.groupby('date').last()\n",
    "\n",
    "per = per_t.shift(m)\n",
    "pbr = pbr_t.shift(m)\n",
    "psr = psr_t.shift(m)\n",
    "pcr = pcr_t.shift(m)"
   ]
  },
  {
   "cell_type": "code",
   "execution_count": 9,
   "metadata": {},
   "outputs": [],
   "source": [
    "# quality\n",
    "pivot = 12\n",
    "\n",
    "# 수익성 팩터\n",
    "gpoa = gp/ast # gross profit over asset\n",
    "cfoa = cf/ast # cashflow profit over asset\n",
    "gmar = gp/sl  # gross margin\n",
    "turn = sl/ast\n",
    "\n",
    "# 성장성 팩터(수익성 팩터, 5년 전과 비교해서 변화 정도 / 총자산)\n",
    "gpoa_d = (gpoa - gpoa.shift(pivot))/ ast.shift(pivot)\n",
    "cfoa_d = (cfoa - cfoa.shift(pivot))/ ast.shift(pivot)\n",
    "gmar_d = (gmar - gmar.shift(pivot))/ sl.shift(pivot)\n",
    "turn_d = sl/ast - sl.shift(12)/ast.shift(12)\n",
    "\n",
    "# 안정성 팩터\n",
    "lev = lb/ast # 총부채 / 총자산\n",
    "gpvol = gpoa.rolling(pivot).std()  # gross profit volatility\n",
    "cfvol = cfoa.rolling(pivot).std()  # cashflow volatility\n",
    "\n",
    "gpoa_rank = gpoa.rank(axis=1, ascending=False)\n",
    "cfoa_rank = cfoa.rank(axis=1, ascending=False)\n",
    "gmar_rank = gmar.rank(axis=1, ascending=False)\n",
    "turn_rank = turn.rank(axis=1, ascending=False)\n",
    "gpoa_d_rank = gpoa_d.rank(axis=1, ascending=False)\n",
    "cfoa_d_rank = cfoa_d.rank(axis=1, ascending=False)\n",
    "gmar_d_rank = gmar_d.rank(axis=1, ascending=False)\n",
    "turn_d_rank = turn_d.rank(axis=1, ascending=False)\n",
    "lev_rank = lev.rank(axis=1)\n",
    "gpvol_rank = gpvol.rank(axis=1)\n",
    "cfvol_rank = cfvol.rank(axis=1)\n",
    "\n",
    "gpoa_z = (gpoa_rank.T - gpoa_rank.mean(axis=1)) / gpoa_rank.std(axis=1)\n",
    "cfoa_z = (cfoa_rank.T - cfoa_rank.mean(axis=1)) / cfoa_rank.std(axis=1)\n",
    "gmar_z = (gmar_rank.T - gmar_rank.mean(axis=1)) / gmar_rank.std(axis=1)\n",
    "turn_z = (turn_rank.T - turn_rank.mean(axis=1)) / turn_rank.std(axis=1)\n",
    "gpoa_d_z = (gpoa_d_rank.T - gpoa_d_rank.mean(axis=1)) / gpoa_d_rank.std(axis=1)\n",
    "cfoa_d_z = (cfoa_d_rank.T - cfoa_d_rank.mean(axis=1)) / cfoa_d_rank.std(axis=1)\n",
    "gmar_d_z = (gmar_d_rank.T - gmar_d_rank.mean(axis=1)) / gmar_d_rank.std(axis=1)\n",
    "turn_d_z = (turn_d_rank.T - turn_d_rank.mean(axis=1)) / turn_d_rank.std(axis=1)\n",
    "lev_z = (lev_rank.T - lev_rank.mean(axis=1)) / lev_rank.std(axis=1)\n",
    "gpvol_z = (gpvol_rank.T - gpvol_rank.mean(axis=1)) / gpvol_rank.std(axis=1)\n",
    "cfvol_z = (cfvol_rank.T - cfvol_rank.mean(axis=1)) / cfvol_rank.std(axis=1)\n",
    "\n",
    "total_qz = gpoa_z.T + cfoa_z.T + gmar_z.T + turn_z.T + gpoa_d_z.T + cfoa_d_z.T + gmar_d_z.T + turn_d_z.T + lev_z.T + gpvol_z.T + cfvol_z.T\n",
    "total_qz = ((total_qz.T - total_qz.mean(axis=1)) / total_qz.std(axis=1)).T"
   ]
  },
  {
   "cell_type": "code",
   "execution_count": 10,
   "metadata": {},
   "outputs": [],
   "source": [
    "# value\n",
    "per_rank = per.rank(axis=1, pct=True)\n",
    "pbr_rank = pbr.rank(axis=1, pct=True)\n",
    "psr_rank = psr.rank(axis=1, pct=True)\n",
    "pcr_rank = pcr.rank(axis=1, pct=True)\n",
    "\n",
    "per_z = ((per_rank.T - per_rank.mean(axis=1)) / per_rank.std(axis=1))\n",
    "pbr_z = ((pbr_rank.T - pbr_rank.mean(axis=1)) / pbr_rank.std(axis=1))\n",
    "psr_z = ((psr_rank.T - psr_rank.mean(axis=1)) / psr_rank.std(axis=1))\n",
    "pcr_z = ((pcr_rank.T - pcr_rank.mean(axis=1)) / pcr_rank.std(axis=1))\n",
    "\n",
    "total_vz = per_z.T + pbr_z.T + psr_z.T + pcr_z.T"
   ]
  },
  {
   "cell_type": "code",
   "execution_count": 11,
   "metadata": {},
   "outputs": [],
   "source": [
    "def MDD(arr):\n",
    "    low = np.argmin(arr / np.maximum.accumulate(arr))\n",
    "    high = np.argmax(arr[:low])\n",
    "    return high, low, (arr[high] - arr[low]) / arr[high]\n",
    "\n",
    "def hit_ratio(arr, r, recent_num_ratio=True):\n",
    "    total = round(sum(arr > 0) / len(arr), 4)\n",
    "    recent = round(sum(arr[-1*r:] > 0) / len(arr[-1*r:]), 4) if recent_num_ratio else sum(arr[-1*r:] > 0)\n",
    "    return total, recent"
   ]
  },
  {
   "cell_type": "code",
   "execution_count": 35,
   "metadata": {},
   "outputs": [],
   "source": [
    "vol_month = m_pm.rolling(60).std()\n",
    "vol_day = ((pm / pm.shift(1)).clip(0, 10) - 1).rolling(60).std().groupby('date').last()\n",
    "momentum_mask = m_pm.copy()\n",
    "for i in range(6):\n",
    "    momentum_mask[momentum_mask < m_pm.shift(i)] = m_pm.shift(i)[momentum_mask < m_pm.shift(i)]\n",
    "momentum = (m_pm.shift(1) / m_pm.shift(4)) - (m_pm / momentum_mask) - vol_day * 1.5\n",
    "\n",
    "momentum_mask = m_pm.shift(1).copy()\n",
    "for i in range(9):\n",
    "    momentum_mask[momentum_mask > m_pm.shift(i)] = m_pm.shift(i)[momentum_mask > m_pm.shift(i)]\n",
    "momentum_mask = (m_pm.shift(1) / momentum_mask) < 2"
   ]
  },
  {
   "cell_type": "code",
   "execution_count": 38,
   "metadata": {},
   "outputs": [
    {
     "name": "stdout",
     "output_type": "stream",
     "text": [
      "momentum: high - 2007-08-31 00:00:00, low - 2008-11-30 00:00:00, mdd - 0.4924\n",
      "momentum: high - 2018-05-31 00:00:00, low - 2020-03-31 00:00:00, mdd - 0.4515\n",
      "value (hit): total - 0.5728, recent - 8\n"
     ]
    },
    {
     "name": "stderr",
     "output_type": "stream",
     "text": [
      "/Users/daeyoung/Library/Python/3.8/lib/python/site-packages/seaborn/_decorators.py:36: FutureWarning: Pass the following variables as keyword args: x, y. From version 0.12, the only valid positional argument will be `data`, and passing other arguments without an explicit keyword will result in an error or misinterpretation.\n",
      "  warnings.warn(\n"
     ]
    },
    {
     "data": {
      "image/png": "[encoded data removed]",
      "text/plain": [
       "<Figure size 432x288 with 1 Axes>"
      ]
     },
     "metadata": {},
     "output_type": "display_data"
    }
   ],
   "source": [
    "small_mask = m_cap.rank(axis=1, pct=True) < 0.1\n",
    "sq_mask = total_qz[small_mask].rank(axis=1, pct=True) < 0.4\n",
    "sv_mask = total_vz[small_mask].rank(axis=1, pct=True) < 0.4\n",
    "sm_mask = momentum[sv_mask & momentum_mask].rank(axis=1, pct=True, ascending=False) < 0.4\n",
    "sm_cap_weight = (m_cap[sm_mask].T / m_cap[sm_mask].sum(axis=1)).T\n",
    "\n",
    "sm_r = m_ret[sm_mask.shift(1)].mean(axis=1).fillna(0)\n",
    "sm_cr = (sm_r + 1).cumprod()[47:]\n",
    "\n",
    "h, l, mdd = MDD(sm_cr.values)\n",
    "print(f'momentum: high - {sm_cr.index[h]}, low - {sm_cr.index[l]}, mdd - {round(mdd, 4)}')\n",
    "t = 90\n",
    "h, l, mdd = MDD(sm_cr[t:].values)\n",
    "print(f'momentum: high - {sm_cr[t:].index[h]}, low - {sm_cr[t:].index[l]}, mdd - {round(mdd, 4)}')\n",
    "\n",
    "t, r = hit_ratio(sm_r.values[47:], 12, False)\n",
    "print(f'value (hit): total - {t}, recent - {r}')\n",
    "\n",
    "sns.set_style('whitegrid')\n",
    "sns.lineplot(sm_cr.index, sm_cr)\n",
    "plt.title('small momentum+vol')\n",
    "plt.show()"
   ]
  },
  {
   "cell_type": "code",
   "execution_count": null,
   "metadata": {},
   "outputs": [],
   "source": []
  }
 ],
 "metadata": {
  "kernelspec": {
   "display_name": "Python 3",
   "language": "python",
   "name": "python3"
  },
  "language_info": {
   "codemirror_mode": {
    "name": "ipython",
    "version": 3
   },
   "file_extension": ".py",
   "mimetype": "text/x-python",
   "name": "python",
   "nbconvert_exporter": "python",
   "pygments_lexer": "ipython3",
   "version": "3.8.2"
  }
 },
 "nbformat": 4,
 "nbformat_minor": 4
}

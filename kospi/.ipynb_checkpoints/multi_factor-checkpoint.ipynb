{
 "cells": [
  {
   "cell_type": "code",
   "execution_count": 1,
   "metadata": {},
   "outputs": [],
   "source": [
    "import numpy as np\n",
    "import pandas as pd\n",
    "import pandas_datareader as pdr\n",
    "import datetime\n",
    "import matplotlib.pyplot as plt\n",
    "import seaborn as sns"
   ]
  },
  {
   "cell_type": "code",
   "execution_count": 2,
   "metadata": {},
   "outputs": [],
   "source": [
    "df = pd.read_csv(\"../../data/kospi/price.csv\", index_col='date', parse_dates=True)\n",
    "sn = pd.read_csv(\"../../data/kospi/share_number.csv\", index_col='date', parse_dates=True)\n",
    "pm = pd.read_csv(\"../../data/kospi/price_mod.csv\", index_col = 'date', parse_dates = True)\n",
    "\n",
    "# quality\n",
    "gp_t = pd.read_csv(\"../../data/kospi/gross_profit.csv\", index_col='date', parse_dates=True)\n",
    "ast_t = pd.read_csv(\"../../data/kospi/asset.csv\", index_col='date', parse_dates=True)\n",
    "lb_t = pd.read_csv(\"../../data/kospi/liability.csv\", index_col = 'date', parse_dates = True)\n",
    "cf_t = pd.read_csv(\"../../data/kospi/cashflow.csv\", index_col = 'date', parse_dates = True)\n",
    "sl_t = pd.read_csv(\"../../data/kospi/sales.csv\", index_col = 'date', parse_dates = True)\n",
    "\n",
    "# value\n",
    "per_t = pd.read_csv(\"../../data/kospi/per.csv\", index_col = 'date', parse_dates = True)\n",
    "pbr_t = pd.read_csv(\"../../data/kospi/pbr.csv\", index_col = 'date', parse_dates = True)\n",
    "psr_t = pd.read_csv(\"../../data/kospi/psr.csv\", index_col = 'date', parse_dates = True)\n",
    "pcr_t = pd.read_csv(\"../../data/kospi/pcr.csv\", index_col = 'date', parse_dates = True)\n",
    "\n",
    "# dividend\n",
    "div = pd.read_csv('../../data/kospi/dividend.csv', index_col='date', parse_dates=True)"
   ]
  },
  {
   "cell_type": "code",
   "execution_count": 3,
   "metadata": {},
   "outputs": [],
   "source": [
    "# 삼성전자 제외\n",
    "del df['A005930'], sn['A005930'], pm['A005930'], gp_t['A005930'], ast_t['A005930'], lb_t['A005930']\n",
    "del cf_t['A005930'], sl_t['A005930'], per_t['A005930'], pbr_t['A005930'], psr_t['A005930'], pcr_t['A005930'], div['A005930']"
   ]
  },
  {
   "cell_type": "code",
   "execution_count": 4,
   "metadata": {},
   "outputs": [],
   "source": [
    "m = 15\n",
    "\n",
    "market_cap = df * sn\n",
    "market_cap.index = market_cap.index + pd.tseries.offsets.MonthEnd(0)\n",
    "m_cap = market_cap.groupby('date').last()\n",
    "\n",
    "pm.index = pm.index + pd.tseries.offsets.MonthEnd(0)\n",
    "m_pm = pm.groupby('date').last()\n",
    "m_ret = (m_pm.fillna(-1) / m_pm.shift(1)).clip(0, 10) - 1\n",
    "\n",
    "gp = pd.DataFrame(index=m_ret.index).join(gp_t).shift(m)\n",
    "ast = pd.DataFrame(index=m_ret.index).join(ast_t).shift(m)\n",
    "lb = pd.DataFrame(index=m_ret.index).join(lb_t).shift(m)\n",
    "cf = pd.DataFrame(index=m_ret.index).join(cf_t).shift(m)\n",
    "sl = pd.DataFrame(index=m_ret.index).join(sl_t).shift(m)\n",
    "\n",
    "# 수정주가로 계산한 것으로 변경\n",
    "df.index = df.index + pd.tseries.offsets.MonthEnd(0)\n",
    "m_df = df.groupby('date').last()\n",
    "\n",
    "per = (m_pm / (m_df/per_t)).shift(m)\n",
    "pbr = (m_pm / (m_df/pbr_t)).shift(m)\n",
    "psr = (m_pm / (m_df/psr_t)).shift(m)\n",
    "pcr = (m_pm / (m_df/pcr_t)).shift(m)\n",
    "\n",
    "# 최근 주가로 계산 (eps를 shift)\n",
    "per_r = (m_pm / (m_df/per_t).shift(m))\n",
    "pbr_r = (m_pm / (m_df/pbr_t).shift(m))\n",
    "psr_r = (m_pm / (m_df/psr_t).shift(m))\n",
    "pcr_r = (m_pm / (m_df/pcr_t).shift(m))"
   ]
  },
  {
   "cell_type": "code",
   "execution_count": 5,
   "metadata": {},
   "outputs": [],
   "source": [
    "# quality\n",
    "# 수익성 팩터\n",
    "gpoa = gp/ast # gross profit over asset\n",
    "cfoa = cf/ast # cashflow profit over asset\n",
    "gmar = gp/sl  # gross margin\n",
    "turn = sl/ast\n",
    "\n",
    "# 성장성 팩터(수익성 팩터, 5년 전과 비교해서 변화 정도 / 총자산)\n",
    "gpoa_d = (gpoa - gpoa.shift(60))/ ast.shift(60)\n",
    "cfoa_d = (cfoa - cfoa.shift(60))/ ast.shift(60)\n",
    "gmar_d = (gmar - gmar.shift(60))/ sl.shift(60)\n",
    "turn_d = sl/ast - sl.shift(12)/ast.shift(12)\n",
    "\n",
    "# 안정성 팩터\n",
    "lev = lb/ast # 총부채 / 총자산\n",
    "gpvol = gpoa.rolling(60).std()  # gross profit volatility\n",
    "cfvol = cfoa.rolling(60).std()  # cashflow volatility\n",
    "\n",
    "gpoa_rank = gpoa.rank(axis=1, ascending=False)\n",
    "cfoa_rank = cfoa.rank(axis=1, ascending=False)\n",
    "gmar_rank = gmar.rank(axis=1, ascending=False)\n",
    "turn_rank = turn.rank(axis=1, ascending=False)\n",
    "gpoa_d_rank = gpoa_d.rank(axis=1, ascending=False)\n",
    "cfoa_d_rank = cfoa_d.rank(axis=1, ascending=False)\n",
    "gmar_d_rank = gmar_d.rank(axis=1, ascending=False)\n",
    "turn_d_rank = turn_d.rank(axis=1, ascending=False)\n",
    "lev_rank = lev.rank(axis=1)\n",
    "gpvol_rank = gpvol.rank(axis=1)\n",
    "cfvol_rank = cfvol.rank(axis=1)\n",
    "\n",
    "gpoa_z = (gpoa_rank.T - gpoa_rank.mean(axis=1)) / gpoa_rank.std(axis=1)\n",
    "cfoa_z = (cfoa_rank.T - cfoa_rank.mean(axis=1)) / cfoa_rank.std(axis=1)\n",
    "gmar_z = (gmar_rank.T - gmar_rank.mean(axis=1)) / gmar_rank.std(axis=1)\n",
    "turn_z = (turn_rank.T - turn_rank.mean(axis=1)) / turn_rank.std(axis=1)\n",
    "gpoa_d_z = (gpoa_d_rank.T - gpoa_d_rank.mean(axis=1)) / gpoa_d_rank.std(axis=1)\n",
    "cfoa_d_z = (cfoa_d_rank.T - cfoa_d_rank.mean(axis=1)) / cfoa_d_rank.std(axis=1)\n",
    "gmar_d_z = (gmar_d_rank.T - gmar_d_rank.mean(axis=1)) / gmar_d_rank.std(axis=1)\n",
    "turn_d_z = (turn_d_rank.T - turn_d_rank.mean(axis=1)) / turn_d_rank.std(axis=1)\n",
    "lev_z = (lev_rank.T - lev_rank.mean(axis=1)) / lev_rank.std(axis=1)\n",
    "gpvol_z = (gpvol_rank.T - gpvol_rank.mean(axis=1)) / gpvol_rank.std(axis=1)\n",
    "cfvol_z = (cfvol_rank.T - cfvol_rank.mean(axis=1)) / cfvol_rank.std(axis=1)\n",
    "\n",
    "total_qz = gpoa_z.T + cfoa_z.T + gmar_z.T + turn_z.T + gpoa_d_z.T + cfoa_d_z.T + gmar_d_z.T + turn_d_z.T + lev_z.T + gpvol_z.T + cfvol_z.T\n",
    "total_qz = ((total_qz.T - total_qz.mean(axis=1)) / total_qz.std(axis=1)).T"
   ]
  },
  {
   "cell_type": "code",
   "execution_count": 6,
   "metadata": {},
   "outputs": [],
   "source": [
    "# value\n",
    "per_rank = per.rank(axis=1, pct=True)\n",
    "pbr_rank = pbr.rank(axis=1, pct=True)\n",
    "psr_rank = psr.rank(axis=1, pct=True)\n",
    "pcr_rank = pcr.rank(axis=1, pct=True)\n",
    "\n",
    "per_z = ((per_rank.T - per_rank.mean(axis=1)) / per_rank.std(axis=1))\n",
    "pbr_z = ((pbr_rank.T - pbr_rank.mean(axis=1)) / pbr_rank.std(axis=1))\n",
    "psr_z = ((psr_rank.T - psr_rank.mean(axis=1)) / psr_rank.std(axis=1))\n",
    "pcr_z = ((pcr_rank.T - pcr_rank.mean(axis=1)) / pcr_rank.std(axis=1))\n",
    "\n",
    "total_vz = per_z.T + pbr_z.T + psr_z.T + pcr_z.T\n",
    "\n",
    "# value\n",
    "per_rank_r = per_r.rank(axis=1, pct=True)\n",
    "pbr_rank_r = pbr_r.rank(axis=1, pct=True)\n",
    "psr_rank_r = psr_r.rank(axis=1, pct=True)\n",
    "pcr_rank_r = pcr_r.rank(axis=1, pct=True)\n",
    "\n",
    "per_zr = ((per_rank_r.T - per_rank_r.mean(axis=1)) / per_rank_r.std(axis=1))\n",
    "pbr_zr = ((pbr_rank_r.T - pbr_rank_r.mean(axis=1)) / pbr_rank_r.std(axis=1))\n",
    "psr_zr = ((psr_rank_r.T - psr_rank_r.mean(axis=1)) / psr_rank_r.std(axis=1))\n",
    "pcr_zr = ((pcr_rank_r.T - pcr_rank_r.mean(axis=1)) / pcr_rank_r.std(axis=1))\n",
    "\n",
    "total_vzr = per_zr.T + pbr_zr.T + psr_zr.T + pcr_zr.T"
   ]
  },
  {
   "cell_type": "code",
   "execution_count": 7,
   "metadata": {},
   "outputs": [],
   "source": [
    "# momentum\n",
    "momentum = (m_pm / m_pm.shift(12) - m_pm / m_pm.shift(1))\n",
    "\n",
    "# 대형주와 소형주 구분 (시총 기준 반반)\n",
    "m_cap_rank = m_cap.rank(axis=1, pct=True, ascending=False)\n",
    "big_mask = m_cap_rank <= 0.5\n",
    "small_mask = m_cap_rank > 0.5\n",
    "\n",
    "# quality factor에 대해 대형주, 소형주 mask\n",
    "bq_mask = total_qz[big_mask].rank(axis=1, pct=True) < 0.5\n",
    "sq_mask = total_qz[small_mask].rank(axis=1, pct=True) < 0.5\n",
    "\n",
    "# 대형주 - momentum, 소형주 - value \n",
    "bm_mask = momentum[momentum[bq_mask] > 0].rank(axis=1, pct=True, ascending=False) < 0.3\n",
    "bv_mask = total_vz[bq_mask].rank(axis=1, pct=True) < 0.3\n",
    "sm_mask = momentum[momentum[sq_mask] > 0].rank(axis=1, pct=True, ascending=False) < 0.3\n",
    "sv_mask = total_vz[sq_mask].rank(axis=1, pct=True) < 0.3\n",
    "\n",
    "# 시가총액 가중평균\n",
    "bm_cap_weight = (m_cap[bm_mask].T / m_cap[bm_mask].sum(axis=1)).T\n",
    "bv_cap_weight = (m_cap[bv_mask].T / m_cap[bv_mask].sum(axis=1)).T\n",
    "sm_cap_weight = (m_cap[sm_mask].T / m_cap[sm_mask].sum(axis=1)).T\n",
    "sv_cap_weight = (m_cap[sv_mask].T / m_cap[sv_mask].sum(axis=1)).T"
   ]
  },
  {
   "cell_type": "code",
   "execution_count": 8,
   "metadata": {},
   "outputs": [],
   "source": [
    "def MDD(arr):\n",
    "    low = np.argmax(np.maximum.accumulate(arr) - arr)\n",
    "    high = np.argmax(arr[:low])\n",
    "    return high, low, (arr[high] - arr[low]) / arr[high]\n",
    "\n",
    "def hit_ratio(arr, r, recent_num_ratio=True):\n",
    "    total = round(sum(arr > 0) / len(arr), 4)\n",
    "    recent = round(sum(arr[-1*r:] > 0) / len(arr[-1*r:]), 4) if recent_num_ratio else sum(arr[-1*r:] > 0)\n",
    "    return total, recent"
   ]
  },
  {
   "cell_type": "markdown",
   "metadata": {},
   "source": [
    "## 대형주와 소형주 (시총 50% 씩) momentum과 value factor 효과"
   ]
  },
  {
   "cell_type": "code",
   "execution_count": 9,
   "metadata": {},
   "outputs": [
    {
     "name": "stdout",
     "output_type": "stream",
     "text": [
      "momentum: high - 2018-01-31 00:00:00, low - 2019-07-31 00:00:00, mdd - 0.3708\n",
      "value:    high - 2017-05-31 00:00:00, low - 2020-03-31 00:00:00, mdd - 0.4481\n"
     ]
    },
    {
     "data": {
      "image/png": "[encoded data removed]",
      "text/plain": [
       "<Figure size 432x288 with 1 Axes>"
      ]
     },
     "metadata": {},
     "output_type": "display_data"
    }
   ],
   "source": [
    "# 대형주 momentum, valeu 비교 (대형주는 quality 넉넉하게 잡는게 수익률 좋음)\n",
    "bm_cr = ((m_ret * bm_cap_weight.shift(1)).sum(axis = 1) + 1).cumprod()[75:]\n",
    "bv_cr = ((m_ret * bv_cap_weight.shift(1)).sum(axis = 1) + 1).cumprod()[75:]\n",
    "\n",
    "h, l, mdd = MDD(bm_cr.values)\n",
    "print(f'momentum: high - {bm_cr.index[h]}, low - {bm_cr.index[l]}, mdd - {round(mdd, 4)}')\n",
    "h, l, mdd = MDD(bv_cr.values)\n",
    "print(f'value:    high - {bv_cr.index[h]}, low - {bv_cr.index[l]}, mdd - {round(mdd, 4)}')\n",
    "\n",
    "sns.set_style('whitegrid')\n",
    "sns.lineplot(bm_cr.index, bm_cr, label='momentum')\n",
    "sns.lineplot(bv_cr.index, bv_cr, label='value')\n",
    "plt.title('big')\n",
    "plt.show()"
   ]
  },
  {
   "cell_type": "code",
   "execution_count": 10,
   "metadata": {},
   "outputs": [
    {
     "name": "stdout",
     "output_type": "stream",
     "text": [
      "momentum: high - 2018-03-31 00:00:00, low - 2020-03-31 00:00:00, mdd - 0.5829\n",
      "value:    high - 2018-05-31 00:00:00, low - 2020-03-31 00:00:00, mdd - 0.3304\n"
     ]
    },
    {
     "data": {
      "image/png": "[encoded data removed]",
      "text/plain": [
       "<Figure size 432x288 with 1 Axes>"
      ]
     },
     "metadata": {},
     "output_type": "display_data"
    }
   ],
   "source": [
    "# 소형주 momentum, value 비교\n",
    "sm_cr = ((m_ret * sm_cap_weight.shift(1)).sum(axis = 1) + 1).cumprod()[75:]\n",
    "sv_cr = ((m_ret * sv_cap_weight.shift(1)).sum(axis = 1) + 1).cumprod()[75:]\n",
    "\n",
    "h, l, mdd = MDD(sm_cr.values)\n",
    "print(f'momentum: high - {sm_cr.index[h]}, low - {sm_cr.index[l]}, mdd - {round(mdd, 4)}')\n",
    "h, l, mdd = MDD(sv_cr.values)\n",
    "print(f'value:    high - {sv_cr.index[h]}, low - {sv_cr.index[l]}, mdd - {round(mdd, 4)}')\n",
    "\n",
    "sns.set_style('whitegrid')\n",
    "sns.lineplot(sm_cr.index, sm_cr, label='momentum')\n",
    "sns.lineplot(sv_cr.index, sv_cr, label='value')\n",
    "plt.title('small')\n",
    "plt.show()"
   ]
  },
  {
   "cell_type": "code",
   "execution_count": 11,
   "metadata": {},
   "outputs": [
    {
     "name": "stdout",
     "output_type": "stream",
     "text": [
      "2007-01-31 00:00:00\n",
      "1월: 4.6889, 전체: 4.4765\n"
     ]
    }
   ],
   "source": [
    "# 소형주 1월효과 존재하는지\n",
    "print(sv_cr.index[9])\n",
    "print(f'1월: {round(sv_cr[9::12].mean(), 4)}, 전체: {round(sv_cr.mean(), 4)}')"
   ]
  },
  {
   "cell_type": "code",
   "execution_count": 12,
   "metadata": {
    "scrolled": true
   },
   "outputs": [
    {
     "name": "stdout",
     "output_type": "stream",
     "text": [
      "big momentum: high - 2018-01-31 00:00:00, low - 2019-07-31 00:00:00, mdd - 0.3708\n",
      "small value:  high - 2018-05-31 00:00:00, low - 2020-03-31 00:00:00, mdd - 0.3304\n"
     ]
    },
    {
     "data": {
      "image/png": "[encoded data removed]",
      "text/plain": [
       "<Figure size 432x288 with 1 Axes>"
      ]
     },
     "metadata": {},
     "output_type": "display_data"
    }
   ],
   "source": [
    "# 대형주 momentum, 소형주 value,  공통 quality\n",
    "h, l, mdd = MDD(bm_cr.values)\n",
    "print(f'big momentum: high - {bm_cr.index[h]}, low - {bm_cr.index[l]}, mdd - {round(mdd, 4)}')\n",
    "h, l, mdd = MDD(sv_cr.values)\n",
    "print(f'small value:  high - {sv_cr.index[h]}, low - {sv_cr.index[l]}, mdd - {round(mdd, 4)}')\n",
    "\n",
    "sns.set_style('whitegrid')\n",
    "sns.lineplot(bm_cr.index, bm_cr, label='big')\n",
    "sns.lineplot(sv_cr.index, sv_cr, label='small')\n",
    "sns.lineplot(bm_cr.index, bm_cr + sv_cr, label='big + small')\n",
    "plt.show()"
   ]
  },
  {
   "cell_type": "markdown",
   "metadata": {},
   "source": [
    "## 대형주와 소형주 (각각 상하위 100개 씩) \n",
    "## momentum과 value factor 효과"
   ]
  },
  {
   "cell_type": "code",
   "execution_count": 13,
   "metadata": {
    "scrolled": true
   },
   "outputs": [
    {
     "name": "stdout",
     "output_type": "stream",
     "text": [
      "momentum: high - 2018-01-31 00:00:00, low - 2020-03-31 00:00:00, mdd - 0.2852\n",
      "value:    high - 2011-04-30 00:00:00, low - 2020-03-31 00:00:00, mdd - 0.5149\n",
      "momentum (hit): total - 0.5899, recent - 8\n",
      "value (hit): total - 0.5674, recent - 9\n"
     ]
    },
    {
     "data": {
      "image/png": "[encoded data removed]",
      "text/plain": [
       "<Figure size 432x288 with 1 Axes>"
      ]
     },
     "metadata": {},
     "output_type": "display_data"
    }
   ],
   "source": [
    "# 시총 상위 100개 기업에 대한 momentum과 value factor 누적 수익률 \n",
    "b100_mask = m_cap.rank(axis=1, ascending=False) <= 100\n",
    "bq100_mask = total_qz[b100_mask].rank(axis=1, pct=True) < 0.8\n",
    "bm100_mask = momentum[momentum[bq100_mask] > 0].rank(axis=1, pct=True, ascending=False) < 0.3\n",
    "bv100_mask = total_vz[bq100_mask].rank(axis=1, pct=True) < 0.3\n",
    "bm100_cap_weight = (m_cap[bm100_mask].T / m_cap[bm100_mask].sum(axis=1)).T\n",
    "bv100_cap_weight = (m_cap[bv100_mask].T / m_cap[bv100_mask].sum(axis=1)).T\n",
    "\n",
    "bm100_r = (m_ret * bm100_cap_weight.shift(1)).sum(axis = 1)\n",
    "bm100_cr = (bm100_r + 1).cumprod()[75:-1]\n",
    "bv100_r = (m_ret * bv100_cap_weight.shift(1)).sum(axis = 1)\n",
    "bv100_cr = (bv100_r + 1).cumprod()[75:-1]\n",
    "\n",
    "# 동일비중\n",
    "# bm100_cr = (m_ret[bm100_mask.shift(1)].mean(axis=1)+1).fillna(1).cumprod()[75:]\n",
    "# bv100_cr = (m_ret[bv100_mask.shift(1)].mean(axis=1)+1).fillna(1).cumprod()[75:]\n",
    "\n",
    "h, l, mdd = MDD(bm100_cr.values)\n",
    "print(f'momentum: high - {bm100_cr.index[h]}, low - {bm100_cr.index[l]}, mdd - {round(mdd, 4)}')\n",
    "h, l, mdd = MDD(bv100_cr.values)\n",
    "print(f'value:    high - {bv100_cr.index[h]}, low - {bv100_cr.index[l]}, mdd - {round(mdd, 4)}')\n",
    "\n",
    "t, r = hit_ratio(bm100_r.values[75:], 12, False)\n",
    "print(f'momentum (hit): total - {t}, recent - {r}')\n",
    "t, r = hit_ratio(bv100_r.values[75:], 12, False)\n",
    "print(f'value (hit): total - {t}, recent - {r}')\n",
    "\n",
    "sns.set_style('whitegrid')\n",
    "sns.lineplot(bm100_cr.index, bm100_cr, label='momentum')\n",
    "sns.lineplot(bv100_cr.index, bv100_cr, label='value')\n",
    "plt.title('big100')\n",
    "plt.show()"
   ]
  },
  {
   "cell_type": "code",
   "execution_count": 14,
   "metadata": {},
   "outputs": [
    {
     "name": "stdout",
     "output_type": "stream",
     "text": [
      "momentum: high - 2016-07-31 00:00:00, low - 2020-03-31 00:00:00, mdd - 0.4503\n",
      "value:    high - 2019-09-30 00:00:00, low - 2020-03-31 00:00:00, mdd - 0.1964\n",
      "value (~2020.02): high - 2018-05-31 00:00:00, low - 2018-07-31 00:00:00, mdd - 0.1193\n",
      "momentum (hit): total - 0.5056, recent - 7\n",
      "value (hit): total - 0.5843, recent - 8\n"
     ]
    },
    {
     "data": {
      "image/png": "[encoded data removed]",
      "text/plain": [
       "<Figure size 432x288 with 1 Axes>"
      ]
     },
     "metadata": {},
     "output_type": "display_data"
    }
   ],
   "source": [
    "# 시총 하위 100개 기업에 대한 momentum과 value factor 누적 수익률 \n",
    "# 동일 비중보다 시총가중의 수익률이 훨신 높음\n",
    "s100_mask = m_cap.rank(axis=1) <= 100\n",
    "sq100_mask = total_qz[s100_mask].rank(axis=1, pct=True) < 0.2\n",
    "sm100_mask = momentum[momentum[sq100_mask] > 0].rank(axis=1, pct=True, ascending=False) < 0.5\n",
    "sv100_mask = total_vz[sq100_mask].rank(axis=1, pct=True) < 0.4\n",
    "sm100_cap_weight = (m_cap[sm100_mask].T / m_cap[sm100_mask].sum(axis=1)).T\n",
    "sv100_cap_weight = (m_cap[sv100_mask].T / m_cap[sv100_mask].sum(axis=1)).T\n",
    "\n",
    "# sm100_r = (m_ret * sm100_cap_weight.shift(1)).sum(axis = 1)\n",
    "# sv100_r = (m_ret * sv100_cap_weight.shift(1)).sum(axis = 1)\n",
    "\n",
    "# # 동일비중\n",
    "sm100_r = m_ret[sm100_mask.shift(1)].mean(axis=1).fillna(0)\n",
    "sv100_r = m_ret[sv100_mask.shift(1)].mean(axis=1).fillna(0)\n",
    "\n",
    "sm100_cr = (sm100_r + 1).cumprod()[75:-1]\n",
    "sv100_cr = (sv100_r + 1).cumprod()[75:-1]\n",
    "\n",
    "h, l, mdd = MDD(sm100_cr.values)\n",
    "print(f'momentum: high - {sm100_cr.index[h]}, low - {sm100_cr.index[l]}, mdd - {round(mdd, 4)}')\n",
    "h, l, mdd = MDD(sv100_cr.values)\n",
    "print(f'value:    high - {sv100_cr.index[h]}, low - {sv100_cr.index[l]}, mdd - {round(mdd, 4)}')\n",
    "h, l, mdd = MDD(sv100_cr[:-10].values)\n",
    "print(f'value (~2020.02): high - {sv100_cr[:-10].index[h]}, low - {sv100_cr[:-10].index[l]}, mdd - {round(mdd, 4)}')\n",
    "\n",
    "t, r = hit_ratio(sm100_r.values[75:], 12, False)\n",
    "print(f'momentum (hit): total - {t}, recent - {r}')\n",
    "t, r = hit_ratio(sv100_r.values[75:], 12, False)\n",
    "print(f'value (hit): total - {t}, recent - {r}')\n",
    "\n",
    "sns.set_style('whitegrid')\n",
    "# 모멘텀 너무 괴랄하게 나와서 제외(특이 케이스같음..)\n",
    "# sns.lineplot(sm100_cr.index, sm100_cr, label='momentum')\n",
    "sns.lineplot(sv100_cr.index, sv100_cr, label='value')\n",
    "plt.title('small100')\n",
    "plt.show()"
   ]
  },
  {
   "cell_type": "code",
   "execution_count": 34,
   "metadata": {},
   "outputs": [
    {
     "name": "stdout",
     "output_type": "stream",
     "text": [
      "value:    high - 2019-06-30 00:00:00, low - 2019-07-31 00:00:00, mdd - 0.095\n",
      "value (hit): total - 0.5899, recent - 8\n"
     ]
    },
    {
     "data": {
      "image/png": "[encoded data removed]",
      "text/plain": [
       "<Figure size 432x288 with 1 Axes>"
      ]
     },
     "metadata": {},
     "output_type": "display_data"
    }
   ],
   "source": [
    "s100_mask = m_cap.rank(axis=1) <= 100\n",
    "sq100_mask = total_qz[s100_mask].rank(axis=1, pct=True) < 0.2\n",
    "\n",
    "# 최근 주가로 계산한 value factor\n",
    "sv100_mask_r = total_vzr[sq100_mask].rank(axis=1, pct=True) < 0.4\n",
    "sv100_cap_weight_r = (m_cap[sv100_mask_r].T / m_cap[sv100_mask_r].sum(axis=1)).T\n",
    "\n",
    "# sv100_r_r = (m_ret * sv100_cap_weight_r.shift(1)).sum(axis = 1)\n",
    "\n",
    "# 동일비중\n",
    "sv100_r_r = m_ret[sv100_mask_r.shift(1)].mean(axis=1).fillna(0)\n",
    "\n",
    "sv100_cr_r = (sv100_r_r + 1).fillna(1).cumprod()[75:-1]             \n",
    "\n",
    "h, l, mdd = MDD(sv100_cr_r.values)\n",
    "print(f'value:    high - {sv100_cr_r.index[h]}, low - {sv100_cr_r.index[l]}, mdd - {round(mdd, 4)}')\n",
    "\n",
    "t, r = hit_ratio(sv100_r_r.values[75:], 12, False)\n",
    "print(f'value (hit): total - {t}, recent - {r}')\n",
    "\n",
    "sns.set_style('whitegrid')\n",
    "#모멘텀 너무 괴랄하게 나와서 제외(특이 케이스같음..)\n",
    "# sns.lineplot(sm100_cr.index, sm100_cr, label='momentum')\n",
    "sns.lineplot(sv100_cr_r.index, sv100_cr_r, label='value')\n",
    "plt.title('small100')\n",
    "plt.show()"
   ]
  },
  {
   "cell_type": "code",
   "execution_count": 16,
   "metadata": {},
   "outputs": [
    {
     "name": "stdout",
     "output_type": "stream",
     "text": [
      "2007-01-31 00:00:00\n",
      "1월: 16.841, 전체: 18.1342\n"
     ]
    }
   ],
   "source": [
    "# 소형주 1월효과 존재하는지\n",
    "print(sv100_cr.index[9])\n",
    "print(f'1월: {round(sv100_cr[9::12].mean(), 4)}, 전체: {round(sv100_cr.mean(), 4)}')"
   ]
  },
  {
   "cell_type": "code",
   "execution_count": 53,
   "metadata": {},
   "outputs": [],
   "source": [
    "# 10% 이상 떨어지는 경우 손절하고 해당 월에는 다시 투자하지 않음 (익절라인 잡지않는 것이 이득)\n",
    "m_ret_t = m_ret.copy()\n",
    "out = 0.9\n",
    "rein = 0.8\n",
    "pm_group =  pm.groupby('date')\n",
    "for i in range(75, len(sv100_mask.index)):\n",
    "    portfolio = sv100_mask.iloc[i][sv100_mask.iloc[i]==True].index\n",
    "    m_pm_info =pm_group.get_group(sv100_mask.index[i])[portfolio]\n",
    "    stop_loss_mask = (m_pm_info < (m_pm_info.iloc[0] * out))\n",
    "    stop_loss_idx = stop_loss_mask.sum()[stop_loss_mask.sum() > 0].index\n",
    "    if len(stop_loss_idx) > 0:\n",
    "        m_ret_t.iloc[i][stop_loss_idx] = (m_pm_info[stop_loss_mask].bfill() / m_pm_info.iloc[0] - 1).iloc[0].dropna()\n",
    "        for j in stop_loss_idx:\n",
    "            rein_mask = m_pm_info[stop_loss_mask][j].bfill().dropna()[1:] < (m_pm_info[j][0] * rein)\n",
    "            if rein_mask.sum() > 0:\n",
    "                rein_r = m_pm_info[j][-1] - m_pm_info[stop_loss_mask][j].bfill().dropna()[1:][rein_mask].ffill()[0]\n",
    "                m_ret_t[j][i] = (m_ret_t[j][i] * m_pm_info[j].iloc[0] + rein_r) / m_pm_info[j].iloc[0]"
   ]
  },
  {
   "cell_type": "code",
   "execution_count": 56,
   "metadata": {},
   "outputs": [
    {
     "name": "stdout",
     "output_type": "stream",
     "text": [
      "value:    high - 2017-05-31 00:00:00, low - 2017-09-30 00:00:00, mdd - 0.1683\n"
     ]
    }
   ],
   "source": [
    "h, l, mdd = MDD(sv100_cr10[:-11].values)\n",
    "print(f'value:    high - {sv100_cr10.index[h]}, low - {sv100_cr10.index[l]}, mdd - {round(mdd, 4)}')"
   ]
  },
  {
   "cell_type": "code",
   "execution_count": 54,
   "metadata": {},
   "outputs": [
    {
     "name": "stdout",
     "output_type": "stream",
     "text": [
      "value:    high - 2019-09-30 00:00:00, low - 2020-03-31 00:00:00, mdd - 0.1656\n",
      "value (hit): total - 0.5674, recent - 8\n"
     ]
    },
    {
     "data": {
      "image/png": "[encoded data removed]",
      "text/plain": [
       "<Figure size 432x288 with 1 Axes>"
      ]
     },
     "metadata": {},
     "output_type": "display_data"
    }
   ],
   "source": [
    "sv100_r10 = m_ret_t[sv100_mask.shift(1)].mean(axis=1).fillna(0)\n",
    "sv100_cr10 = (sv100_r10 + 1).cumprod()[75:-1]\n",
    "\n",
    "h, l, mdd = MDD(sv100_cr10.values)\n",
    "print(f'value:    high - {sv100_cr10.index[h]}, low - {sv100_cr10.index[l]}, mdd - {round(mdd, 4)}')\n",
    "t, r = hit_ratio(sv100_r10.values[75:], 12, False)\n",
    "print(f'value (hit): total - {t}, recent - {r}')\n",
    "\n",
    "sns.set_style('whitegrid')\n",
    "sns.lineplot(sv100_cr10.index, sv100_cr10, label='value')\n",
    "plt.title('small100')\n",
    "plt.show()"
   ]
  },
  {
   "cell_type": "code",
   "execution_count": 25,
   "metadata": {},
   "outputs": [],
   "source": [
    "m_ret_t = m_ret.copy()\n",
    "cnt=0\n",
    "for i in range(75, len(bm100_mask.index)):\n",
    "    portfolio = bm100_mask.iloc[i][bm100_mask.iloc[i]==True].index\n",
    "    m_pm_info = pm.groupby('date').get_group(bm100_mask.index[i])[portfolio]\n",
    "    stop_loss = (m_pm_info < (m_pm_info.iloc[0] * 0.9)).sum()\n",
    "    if len(stop_loss[stop_loss > 0].index) > 0:\n",
    "        m_ret_t.iloc[i][stop_loss[stop_loss > 0].index] = -0.1"
   ]
  },
  {
   "cell_type": "code",
   "execution_count": 26,
   "metadata": {},
   "outputs": [
    {
     "name": "stdout",
     "output_type": "stream",
     "text": [
      "value:    high - 2018-01-31 00:00:00, low - 2020-03-31 00:00:00, mdd - 0.2421\n",
      "value (hit): total - 0.5955, recent - 8\n"
     ]
    },
    {
     "data": {
      "image/png": "[encoded data removed]",
      "text/plain": [
       "<Figure size 432x288 with 1 Axes>"
      ]
     },
     "metadata": {},
     "output_type": "display_data"
    }
   ],
   "source": [
    "bm100_cap_weight10 = (m_cap[bm100_mask].T / m_cap[bm100_mask].sum(axis=1)).T\n",
    "bm100_r10 = (m_ret_t * bm100_cap_weight10.shift(1)).sum(axis = 1)\n",
    "bm100_cr10 = (bm100_r10 + 1).cumprod()[75:-1]\n",
    "\n",
    "h, l, mdd = MDD(bm100_cr10.values)\n",
    "print(f'value:    high - {bm100_cr10.index[h]}, low - {bm100_cr10.index[l]}, mdd - {round(mdd, 4)}')\n",
    "t, r = hit_ratio(bm100_r10.values[75:], 12, False)\n",
    "print(f'value (hit): total - {t}, recent - {r}')\n",
    "\n",
    "sns.set_style('whitegrid')\n",
    "sns.lineplot(bm100_cr10.index, bm100_cr10, label='value')\n",
    "plt.title('big100')\n",
    "plt.show()"
   ]
  },
  {
   "cell_type": "markdown",
   "metadata": {},
   "source": [
    "## 대형주 momentum + 소형주 value (효과 극대화)<br>\n",
    "### 대형주 - 시가총액 상위 200개 종목, quality 상위 60%, momentum 상위 10%\n",
    "### 소형주 - 시가총액 하위 100개 종목, quality 상위 20%, value 상위 30%\n",
    "##### (간단한 서치로 수익률, MDD 좋은 것으로 정함)\n",
    "##### (합쳐서 10개 종목이 넘지 않게함)"
   ]
  },
  {
   "cell_type": "code",
   "execution_count": 27,
   "metadata": {},
   "outputs": [],
   "source": [
    "bm_idx = bm100_mask.iloc[-1][bm100_mask.iloc[-1]==True].index\n",
    "sv_idx = sv100_mask.iloc[-1][sv100_mask.iloc[-1]==True].index\n",
    "sv_idx_r = sv100_mask_r.iloc[-1][sv100_mask_r.iloc[-1]==True].index\n",
    "bs_idx = list(bm_idx) + list(sv_idx)\n",
    "bs_idx_r = list(bm_idx) + list(sv_idx_r)"
   ]
  },
  {
   "cell_type": "code",
   "execution_count": 28,
   "metadata": {},
   "outputs": [
    {
     "name": "stdout",
     "output_type": "stream",
     "text": [
      "74957.53915435394\n",
      "5894.7236343772\n",
      "5993.690227388067\n",
      "39151.87655075548\n",
      "39243.13661152372\n"
     ]
    }
   ],
   "source": [
    "# 변동성 비교\n",
    "bm_cov = pm[bm_idx].cov()\n",
    "bm_weight = bm100_cap_weight.iloc[-1].dropna()\n",
    "print(np.sqrt(np.dot(bm_weight.T.values, np.dot(bm_cov.values, bm_weight.values))))\n",
    "\n",
    "sv_cov = pm[sv_idx].cov()\n",
    "# 동일비중\n",
    "sv_weight = np.ones(len(sv_idx)) / len(sv_idx)\n",
    "# 시가총액가중\n",
    "# sv_weight = sv100_cap_weight.iloc[-1].dropna()\n",
    "print(np.sqrt(np.dot(sv_weight, np.dot(sv_cov.values, sv_weight))))\n",
    "\n",
    "sv_cov_r = pm[sv_idx_r].cov()\n",
    "sv_weight_r = np.ones(len(sv_idx_r)) / len(sv_idx_r)\n",
    "print(np.sqrt(np.dot(sv_weight_r, np.dot(sv_cov_r.values, sv_weight_r))))\n",
    "\n",
    "big = 0.5\n",
    "bs_cov = pm[bs_idx].cov()\n",
    "bs_weight = np.append(bm_weight * big, sv_weight * (1 - big))\n",
    "print(np.sqrt(np.dot(bs_weight, np.dot(bs_cov.values, bs_weight))))\n",
    "\n",
    "bs_cov_r = pm[bs_idx_r].cov()\n",
    "bs_weight_r = np.append(bm_weight * big, sv_weight_r * (1 - big))\n",
    "print(np.sqrt(np.dot(bs_weight_r, np.dot(bs_cov_r.values, bs_weight_r))))"
   ]
  },
  {
   "cell_type": "code",
   "execution_count": 29,
   "metadata": {},
   "outputs": [
    {
     "name": "stdout",
     "output_type": "stream",
     "text": [
      "0.16973560456950101\n"
     ]
    },
    {
     "data": {
      "image/png": "[encoded data removed]",
      "text/plain": [
       "<Figure size 432x288 with 1 Axes>"
      ]
     },
     "metadata": {},
     "output_type": "display_data"
    }
   ],
   "source": [
    "# 효과를 극대화한 대형주 momentum, 소형주 value 누적수익률\n",
    "bm100_cap_weight_f0 = bm100_cap_weight.fillna(0)\n",
    "\n",
    "# 동일비중\n",
    "sv_t = sv100_mask.copy().astype(int)\n",
    "sv_t['temp'] = sv100_mask.sum(axis=1)\n",
    "sv_t = sv_t.replace(1, 0).replace(0, np.nan).bfill(axis=1)\n",
    "del sv_t['temp']\n",
    "sv100_cap_weight_f0 = (sv100_mask.astype(int) / sv_t)\n",
    "\n",
    "bs_cap_weight = (bm100_cap_weight_f0 * big + sv100_cap_weight_f0 * (1- big))\n",
    "bs_cr = ((m_ret * bs_cap_weight.shift(1)).sum(axis=1) + 1).cumprod()[75:]\n",
    "print(MDD(bs_cr)[2])\n",
    "sns.lineplot(bs_cr.index, bs_cr)\n",
    "plt.show()"
   ]
  },
  {
   "cell_type": "code",
   "execution_count": 30,
   "metadata": {},
   "outputs": [
    {
     "name": "stdout",
     "output_type": "stream",
     "text": [
      "0.1553623487726306\n"
     ]
    },
    {
     "data": {
      "image/png": "[encoded data removed]",
      "text/plain": [
       "<Figure size 432x288 with 1 Axes>"
      ]
     },
     "metadata": {},
     "output_type": "display_data"
    }
   ],
   "source": [
    "sv_tr = sv100_mask_r.copy().astype(int)\n",
    "sv_tr['temp'] = sv100_mask_r.sum(axis=1)\n",
    "sv_tr = sv_tr.replace(1, 0).replace(0, np.nan).bfill(axis=1)\n",
    "del sv_tr['temp']\n",
    "sv100_cap_weight_f0_r = (sv100_mask_r.astype(int) / sv_tr)\n",
    "\n",
    "bs_cap_weight_r = (bm100_cap_weight_f0 * big + sv100_cap_weight_f0_r * (1- big))\n",
    "bs_cr_r = ((m_ret * bs_cap_weight_r.shift(1)).sum(axis=1) + 1).cumprod()[75:]\n",
    "print(MDD(bs_cr_r)[2])\n",
    "sns.lineplot(bs_cr_r.index, bs_cr_r)\n",
    "plt.show()"
   ]
  },
  {
   "cell_type": "code",
   "execution_count": 31,
   "metadata": {},
   "outputs": [
    {
     "name": "stdout",
     "output_type": "stream",
     "text": [
      "0.2030463501554159\n",
      "0.21156113044724972\n",
      "0.23743951764754287\n",
      "0.24413505534695829\n",
      "0.2520058041550085\n"
     ]
    }
   ],
   "source": [
    "# 샤프비율 비교\n",
    "bm_mr = (m_ret * bm100_cap_weight_f0.shift(1)).sum(axis=1)\n",
    "sv_mr = (m_ret * sv100_cap_weight_f0.shift(1)).sum(axis=1)\n",
    "sv_mr_r = (m_ret * sv100_cap_weight_f0_r.shift(1)).sum(axis=1)\n",
    "bs_mr = (m_ret * bs_cap_weight.shift(1)).sum(axis=1)\n",
    "bs_mr_r = (m_ret * bs_cap_weight_r.shift(1)).sum(axis=1)\n",
    "print(bm_mr.mean() / bm_mr.std())\n",
    "print(sv_mr.mean() / sv_mr.std())\n",
    "print(sv_mr_r.mean() / sv_mr_r.std())\n",
    "print(bs_mr.mean() / bs_mr.std())\n",
    "print(bs_mr_r.mean() / bs_mr_r.std())"
   ]
  },
  {
   "cell_type": "code",
   "execution_count": 32,
   "metadata": {},
   "outputs": [
    {
     "data": {
      "text/html": [
       "<div>\n",
       "<style scoped>\n",
       "    .dataframe tbody tr th:only-of-type {\n",
       "        vertical-align: middle;\n",
       "    }\n",
       "\n",
       "    .dataframe tbody tr th {\n",
       "        vertical-align: top;\n",
       "    }\n",
       "\n",
       "    .dataframe thead th {\n",
       "        text-align: right;\n",
       "    }\n",
       "</style>\n",
       "<table border=\"1\" class=\"dataframe\">\n",
       "  <thead>\n",
       "    <tr style=\"text-align: right;\">\n",
       "      <th></th>\n",
       "      <th>A000590</th>\n",
       "      <th>A008110</th>\n",
       "      <th>A009180</th>\n",
       "      <th>A015020</th>\n",
       "      <th>A019180</th>\n",
       "    </tr>\n",
       "  </thead>\n",
       "  <tbody>\n",
       "    <tr>\n",
       "      <th>A051910</th>\n",
       "      <td>0.599962</td>\n",
       "      <td>0.563187</td>\n",
       "      <td>-0.029638</td>\n",
       "      <td>0.086415</td>\n",
       "      <td>0.611200</td>\n",
       "    </tr>\n",
       "    <tr>\n",
       "      <th>A006400</th>\n",
       "      <td>0.391428</td>\n",
       "      <td>0.383441</td>\n",
       "      <td>-0.208676</td>\n",
       "      <td>-0.010080</td>\n",
       "      <td>0.576796</td>\n",
       "    </tr>\n",
       "    <tr>\n",
       "      <th>A068270</th>\n",
       "      <td>0.377891</td>\n",
       "      <td>0.486016</td>\n",
       "      <td>-0.249861</td>\n",
       "      <td>-0.148878</td>\n",
       "      <td>0.658581</td>\n",
       "    </tr>\n",
       "    <tr>\n",
       "      <th>A035720</th>\n",
       "      <td>0.453524</td>\n",
       "      <td>0.527434</td>\n",
       "      <td>0.060005</td>\n",
       "      <td>0.145975</td>\n",
       "      <td>0.578577</td>\n",
       "    </tr>\n",
       "    <tr>\n",
       "      <th>A066570</th>\n",
       "      <td>0.210030</td>\n",
       "      <td>0.086776</td>\n",
       "      <td>-0.141648</td>\n",
       "      <td>-0.153744</td>\n",
       "      <td>0.018888</td>\n",
       "    </tr>\n",
       "    <tr>\n",
       "      <th>A009830</th>\n",
       "      <td>0.624232</td>\n",
       "      <td>0.512019</td>\n",
       "      <td>-0.094257</td>\n",
       "      <td>0.130338</td>\n",
       "      <td>0.568218</td>\n",
       "    </tr>\n",
       "    <tr>\n",
       "      <th>A019170</th>\n",
       "      <td>0.165967</td>\n",
       "      <td>0.277419</td>\n",
       "      <td>-0.025679</td>\n",
       "      <td>-0.025038</td>\n",
       "      <td>0.309072</td>\n",
       "    </tr>\n",
       "    <tr>\n",
       "      <th>A008930</th>\n",
       "      <td>0.653010</td>\n",
       "      <td>0.764881</td>\n",
       "      <td>0.004547</td>\n",
       "      <td>0.337716</td>\n",
       "      <td>0.575970</td>\n",
       "    </tr>\n",
       "    <tr>\n",
       "      <th>A011780</th>\n",
       "      <td>0.489558</td>\n",
       "      <td>0.385084</td>\n",
       "      <td>-0.120924</td>\n",
       "      <td>0.149685</td>\n",
       "      <td>0.529887</td>\n",
       "    </tr>\n",
       "    <tr>\n",
       "      <th>A034020</th>\n",
       "      <td>0.130626</td>\n",
       "      <td>-0.070525</td>\n",
       "      <td>0.055005</td>\n",
       "      <td>0.002579</td>\n",
       "      <td>-0.104513</td>\n",
       "    </tr>\n",
       "    <tr>\n",
       "      <th>A006280</th>\n",
       "      <td>0.740521</td>\n",
       "      <td>0.735766</td>\n",
       "      <td>-0.061304</td>\n",
       "      <td>0.347795</td>\n",
       "      <td>0.611506</td>\n",
       "    </tr>\n",
       "    <tr>\n",
       "      <th>A011790</th>\n",
       "      <td>0.554898</td>\n",
       "      <td>0.530298</td>\n",
       "      <td>-0.115956</td>\n",
       "      <td>0.149283</td>\n",
       "      <td>0.666795</td>\n",
       "    </tr>\n",
       "    <tr>\n",
       "      <th>A003090</th>\n",
       "      <td>0.537183</td>\n",
       "      <td>0.656220</td>\n",
       "      <td>-0.036356</td>\n",
       "      <td>0.201392</td>\n",
       "      <td>0.664150</td>\n",
       "    </tr>\n",
       "    <tr>\n",
       "      <th>A026960</th>\n",
       "      <td>0.812000</td>\n",
       "      <td>0.867061</td>\n",
       "      <td>0.006118</td>\n",
       "      <td>0.568294</td>\n",
       "      <td>0.636264</td>\n",
       "    </tr>\n",
       "    <tr>\n",
       "      <th>A000990</th>\n",
       "      <td>0.306197</td>\n",
       "      <td>0.334043</td>\n",
       "      <td>0.057044</td>\n",
       "      <td>0.019829</td>\n",
       "      <td>0.611758</td>\n",
       "    </tr>\n",
       "  </tbody>\n",
       "</table>\n",
       "</div>"
      ],
      "text/plain": [
       "          A000590   A008110   A009180   A015020   A019180\n",
       "A051910  0.599962  0.563187 -0.029638  0.086415  0.611200\n",
       "A006400  0.391428  0.383441 -0.208676 -0.010080  0.576796\n",
       "A068270  0.377891  0.486016 -0.249861 -0.148878  0.658581\n",
       "A035720  0.453524  0.527434  0.060005  0.145975  0.578577\n",
       "A066570  0.210030  0.086776 -0.141648 -0.153744  0.018888\n",
       "A009830  0.624232  0.512019 -0.094257  0.130338  0.568218\n",
       "A019170  0.165967  0.277419 -0.025679 -0.025038  0.309072\n",
       "A008930  0.653010  0.764881  0.004547  0.337716  0.575970\n",
       "A011780  0.489558  0.385084 -0.120924  0.149685  0.529887\n",
       "A034020  0.130626 -0.070525  0.055005  0.002579 -0.104513\n",
       "A006280  0.740521  0.735766 -0.061304  0.347795  0.611506\n",
       "A011790  0.554898  0.530298 -0.115956  0.149283  0.666795\n",
       "A003090  0.537183  0.656220 -0.036356  0.201392  0.664150\n",
       "A026960  0.812000  0.867061  0.006118  0.568294  0.636264\n",
       "A000990  0.306197  0.334043  0.057044  0.019829  0.611758"
      ]
     },
     "execution_count": 32,
     "metadata": {},
     "output_type": "execute_result"
    }
   ],
   "source": [
    "pm[bs_idx].corr().loc[bm_idx][sv_idx]"
   ]
  },
  {
   "cell_type": "code",
   "execution_count": 33,
   "metadata": {},
   "outputs": [
    {
     "name": "stdout",
     "output_type": "stream",
     "text": [
      "LG화학 051910 2.3912\n",
      "삼성SDI 006400 1.8644\n",
      "셀트리온 068270 1.6157\n",
      "카카오 035720 1.4427\n",
      "LG전자 066570 0.9249\n",
      "한화솔루션 009830 0.2941\n",
      "신풍제약 019170 0.1585\n",
      "한미사이언스 008930 0.2004\n",
      "금호석유화학 011780 0.2785\n",
      "두산중공업 034020 0.1626\n",
      "녹십자 006280 0.1828\n",
      "SKC 011790 0.1693\n",
      "대웅 003090 0.1004\n",
      "동서 026960 0.1136\n",
      "DB하이텍 000990 0.1009\n",
      "CS홀딩스 000590 2.0\n",
      "대동전자 008110 2.0\n",
      "한솔로지스틱스 009180 2.0\n",
      "이스타코 015020 2.0\n",
      "티에이치엔 019180 2.0\n"
     ]
    }
   ],
   "source": [
    "seed = 20\n",
    "bs_invest = bs_weight*seed\n",
    "code_df = pd.read_html('http://kind.krx.co.kr/corpgeneral/corpList.do?method=download', header=0)[0][['회사명', '종목코드']]\n",
    "for i in range(len(bs_idx)):\n",
    "    print(code_df.query(f'종목코드=={int(bs_idx[i][1:])}').values[0][0], bs_idx[i][1:], round(bs_invest[i], 4))"
   ]
  },
  {
   "cell_type": "code",
   "execution_count": 34,
   "metadata": {},
   "outputs": [
    {
     "name": "stdout",
     "output_type": "stream",
     "text": [
      "LG화학 051910 2.3912\n",
      "삼성SDI 006400 1.8644\n",
      "셀트리온 068270 1.6157\n",
      "카카오 035720 1.4427\n",
      "LG전자 066570 0.9249\n",
      "한화솔루션 009830 0.2941\n",
      "신풍제약 019170 0.1585\n",
      "한미사이언스 008930 0.2004\n",
      "금호석유화학 011780 0.2785\n",
      "두산중공업 034020 0.1626\n",
      "녹십자 006280 0.1828\n",
      "SKC 011790 0.1693\n",
      "대웅 003090 0.1004\n",
      "동서 026960 0.1136\n",
      "DB하이텍 000990 0.1009\n",
      "CS홀딩스 000590 2.0\n",
      "한솔로지스틱스 009180 2.0\n",
      "이스타코 015020 2.0\n",
      "티에이치엔 019180 2.0\n",
      "동원수산 030720 2.0\n"
     ]
    }
   ],
   "source": [
    "seed = 20\n",
    "bs_invest_r = bs_weight_r*seed\n",
    "for i in range(len(bs_idx)):\n",
    "    print(code_df.query(f'종목코드=={int(bs_idx_r[i][1:])}').values[0][0], bs_idx_r[i][1:], round(bs_invest_r[i], 4))"
   ]
  },
  {
   "cell_type": "code",
   "execution_count": 36,
   "metadata": {},
   "outputs": [
    {
     "name": "stdout",
     "output_type": "stream",
     "text": [
      "CS홀딩스 000590\n",
      "대동전자 008110\n",
      "한솔로지스틱스 009180\n",
      "이스타코 015020\n",
      "티에이치엔 019180\n"
     ]
    }
   ],
   "source": [
    "sv_idx = list(sv100_mask.iloc[-1][sv100_mask.iloc[-1]==True].index)\n",
    "for j in range(len(sv_idx)):\n",
    "    print(code_df.query(f'종목코드=={int(sv_idx[j][1:])}').values[0][0], sv_idx[j][1:])"
   ]
  },
  {
   "cell_type": "markdown",
   "metadata": {},
   "source": [
    "## 시가총액이 낮은 기업이 상장폐지될 확률 높다고 생각<br>\n",
    "#### 시총이 낮으면 상폐가 많이 됐지만 quality와 value로 필터링한 종목에는 없음!"
   ]
  },
  {
   "cell_type": "code",
   "execution_count": 35,
   "metadata": {},
   "outputs": [
    {
     "name": "stdout",
     "output_type": "stream",
     "text": [
      "2000-02-29 00:00:00 {'A004730'}\n",
      "2000-03-31 00:00:00 {'A005790'}\n",
      "2000-05-31 00:00:00 {'A000900', 'A010110'}\n",
      "2000-06-30 00:00:00 {'A018550', 'A007100'}\n",
      "2000-07-31 00:00:00 {'A001350', 'A000840', 'A005580', 'A002940'}\n",
      "2000-09-30 00:00:00 {'A016390'}\n",
      "2000-10-31 00:00:00 {'A011650', 'A005410'}\n",
      "2001-01-31 00:00:00 {'A002080', 'A006160'}\n",
      "2001-02-28 00:00:00 {'A008640', 'A014740'}\n",
      "2001-03-31 00:00:00 {'A012710', 'A008990', 'A011260', 'A024960'}\n",
      "2001-04-30 00:00:00 {'A009050', 'A011290'}\n",
      "2001-05-31 00:00:00 {'A015620', 'A014080', 'A017320', 'A001400'}\n",
      "2001-06-30 00:00:00 {'A000200', 'A003810', 'A002740'}\n",
      "2001-07-31 00:00:00 {'A000280'}\n",
      "2001-08-31 00:00:00 {'A030710', 'A015650', 'A017120'}\n",
      "2001-10-31 00:00:00 {'A015880', 'A015580', 'A003320'}\n",
      "2001-11-30 00:00:00 {'A007420'}\n",
      "2001-12-31 00:00:00 {'A023130', 'A000310', 'A027460'}\n",
      "2002-01-31 00:00:00 {'A002130', 'A011450', 'A008980'}\n",
      "2002-02-28 00:00:00 {'A001690', 'A025840', 'A004290'}\n",
      "2002-03-31 00:00:00 {'A008530'}\n",
      "2002-04-30 00:00:00 {'A002180'}\n",
      "2002-05-31 00:00:00 {'A011510', 'A012260', 'A007410', 'A006290', 'A001780', 'A000030', 'A003110', 'A005060', 'A008440', 'A016550', 'A008480', 'A004390', 'A004110', 'A001920', 'A004460'}\n",
      "2002-06-30 00:00:00 {'A018570'}\n",
      "2002-09-30 00:00:00 {'A001030'}\n",
      "2002-11-30 00:00:00 {'A013250', 'A009330'}\n",
      "2002-12-31 00:00:00 {'A014040'}\n",
      "2003-01-31 00:00:00 {'A007360'}\n",
      "2003-02-28 00:00:00 {'A000080'}\n",
      "2003-04-30 00:00:00 {'A002610'}\n",
      "2003-05-31 00:00:00 {'A005560', 'A006610', 'A009840', 'A010330', 'A005770'}\n",
      "2003-06-30 00:00:00 {'A002050', 'A011840'}\n",
      "2003-08-31 00:00:00 {'A005890'}\n",
      "2003-11-30 00:00:00 {'A001150', 'A012720', 'A012270'}\n",
      "2003-12-31 00:00:00 {'A018020', 'A010510'}\n",
      "2004-01-31 00:00:00 {'A008750'}\n",
      "2004-02-29 00:00:00 {'A018590'}\n",
      "2004-03-31 00:00:00 {'A019930'}\n",
      "2004-04-30 00:00:00 {'A003900', 'A038400', 'A004190'}\n",
      "2004-05-31 00:00:00 {'A004510', 'A002850'}\n",
      "2004-06-30 00:00:00 {'A003020', 'A002930', 'A001980', 'A002950'}\n",
      "2004-07-31 00:00:00 {'A003930', 'A001280'}\n",
      "2004-08-31 00:00:00 {'A016830', 'A000010', 'A003590', 'A010730'}\n",
      "2004-11-30 00:00:00 {'A010200'}\n",
      "2005-01-31 00:00:00 {'A003050'}\n",
      "2005-02-28 00:00:00 {'A005600', 'A008670'}\n",
      "2005-03-31 00:00:00 {'A007910'}\n",
      "2005-04-30 00:00:00 {'A004660'}\n",
      "2005-05-31 00:00:00 {'A006750', 'A009890', 'A012250', 'A009940', 'A006150', 'A009360', 'A009760', 'A001670', 'A000110'}\n",
      "2005-06-30 00:00:00 {'A013890'}\n",
      "2005-07-31 00:00:00 {'A008270'}\n",
      "2005-08-31 00:00:00 {'A006250'}\n",
      "2005-09-30 00:00:00 {'A009080', 'A001580'}\n",
      "2006-01-31 00:00:00 {'A002860', 'A014010'}\n",
      "2006-08-31 00:00:00 {'A016970', 'A063510'}\n",
      "2006-11-30 00:00:00 {'A003330'}\n",
      "2006-12-31 00:00:00 {'A003040', 'A006600'}\n",
      "2007-05-31 00:00:00 {'A063350', 'A025930', 'A014900', 'A025830'}\n",
      "2007-06-30 00:00:00 {'A001830'}\n",
      "2007-07-31 00:00:00 {'A011020', 'A005330'}\n",
      "2007-10-31 00:00:00 {'A015670'}\n",
      "2007-11-30 00:00:00 {'A032710'}\n",
      "2007-12-31 00:00:00 {'A012990'}\n",
      "2008-05-31 00:00:00 {'A004530'}\n",
      "2008-09-30 00:00:00 {'A003660'}\n",
      "2008-11-30 00:00:00 {'A060000'}\n",
      "2009-03-31 00:00:00 {'A005760'}\n",
      "2009-05-31 00:00:00 {'A007050', 'A004230', 'A103160', 'A003990', 'A001190', 'A076170'}\n",
      "2009-06-30 00:00:00 {'A009690', 'A006070', 'A008400', 'A013200'}\n",
      "2009-07-31 00:00:00 {'A032390'}\n",
      "2009-08-31 00:00:00 {'A006210', 'A042100'}\n",
      "2009-09-30 00:00:00 {'A001370'}\n",
      "2009-11-30 00:00:00 {'A001950'}\n",
      "2010-02-28 00:00:00 {'A045820', 'A015940', 'A000610'}\n",
      "2010-04-30 00:00:00 {'A008320'}\n",
      "2010-05-31 00:00:00 {'A004820', 'A017300', 'A108070', 'A069470', 'A012090', 'A002540', 'A024870', 'A012420', 'A001600'}\n",
      "2010-06-30 00:00:00 {'A007490', 'A018410', 'A011400'}\n",
      "2010-08-31 00:00:00 {'A027840', 'A011050', 'A114410'}\n",
      "2011-03-31 00:00:00 {'A009720'}\n",
      "2011-04-30 00:00:00 {'A045710', 'A005280'}\n",
      "2011-05-31 00:00:00 {'A016160', 'A005350', 'A013240'}\n",
      "2011-06-30 00:00:00 {'A014590', 'A017170', 'A004620'}\n",
      "2011-07-31 00:00:00 {'A005270'}\n",
      "2011-08-31 00:00:00 {'A016510'}\n",
      "2011-10-31 00:00:00 {'A103150'}\n",
      "2011-11-30 00:00:00 {'A024100'}\n",
      "2012-02-29 00:00:00 {'A022520'}\n",
      "2012-07-31 00:00:00 {'A008540', 'A012400', 'A004550'}\n",
      "2012-08-31 00:00:00 {'A007800', 'A000470', 'A025610'}\n",
      "2012-09-30 00:00:00 {'A011800'}\n",
      "2012-10-31 00:00:00 {'A900030'}\n",
      "2012-11-30 00:00:00 {'A016560', 'A007200', 'A121910'}\n",
      "2012-12-31 00:00:00 {'A122290', 'A026870'}\n",
      "2013-01-31 00:00:00 {'A015110', 'A122750'}\n",
      "2013-02-28 00:00:00 {'A009380', 'A064420', 'A004010', 'A014300', 'A007480'}\n",
      "2013-04-30 00:00:00 {'A016570'}\n",
      "2013-05-31 00:00:00 {'A004940'}\n",
      "2013-06-30 00:00:00 {'A003190'}\n",
      "2013-07-31 00:00:00 {'A012410'}\n",
      "2013-08-31 00:00:00 {'A006350'}\n",
      "2013-10-31 00:00:00 {'A008080'}\n",
      "2013-11-30 00:00:00 {'A950070'}\n",
      "2014-05-31 00:00:00 {'A002530', 'A067250', 'A005560', 'A010460'}\n",
      "2014-06-30 00:00:00 {'A101990'}\n",
      "2014-08-31 00:00:00 {'A001300'}\n",
      "2014-12-31 00:00:00 {'A053000'}\n",
      "2015-01-31 00:00:00 {'A008720'}\n",
      "2015-02-28 00:00:00 {'A016420', 'A003640', 'A950100'}\n",
      "2015-03-31 00:00:00 {'A000420'}\n",
      "2015-05-31 00:00:00 {'A014350', 'A000360'}\n",
      "2015-07-31 00:00:00 {'A192520'}\n",
      "2015-08-31 00:00:00 {'A010520'}\n",
      "2015-09-30 00:00:00 {'A003600'}\n",
      "2015-10-31 00:00:00 {'A000830'}\n",
      "2015-12-31 00:00:00 {'A950010'}\n",
      "2016-02-29 00:00:00 {'A003940'}\n",
      "2016-04-30 00:00:00 {'A025850'}\n",
      "2016-05-31 00:00:00 {'A051310'}\n",
      "2016-06-30 00:00:00 {'A008020', 'A008900'}\n",
      "2016-09-30 00:00:00 {'A019300'}\n",
      "2016-11-30 00:00:00 {'A003450'}\n",
      "2016-12-31 00:00:00 {'A011720'}\n",
      "2017-01-31 00:00:00 {'A104120', 'A104110'}\n",
      "2017-02-28 00:00:00 {'A068870', 'A037620'}\n",
      "2017-04-30 00:00:00 {'A007190', 'A117930'}\n",
      "2017-05-31 00:00:00 {'A110570'}\n",
      "2017-08-31 00:00:00 {'A004740', 'A021960', 'A002550'}\n",
      "2017-09-30 00:00:00 {'A005620'}\n",
      "2017-10-31 00:00:00 {'A900050'}\n",
      "2018-04-30 00:00:00 {'A008000'}\n",
      "2018-11-30 00:00:00 {'A192530', 'A005980'}\n",
      "2019-01-31 00:00:00 {'A002000', 'A004130'}\n",
      "2019-03-31 00:00:00 {'A000030'}\n",
      "2019-06-30 00:00:00 {'A002250'}\n",
      "2019-07-31 00:00:00 {'A079660'}\n",
      "2020-03-31 00:00:00 {'A079440'}\n",
      "2020-04-30 00:00:00 {'A011160'}\n",
      "2020-05-31 00:00:00 {'A027390'}\n",
      "2020-06-30 00:00:00 {'A103130'}\n",
      "2020-07-31 00:00:00 {'A005450'}\n",
      "2020-08-31 00:00:00 {'A004200', 'A002300'}\n",
      "2021-01-31 00:00:00 {'A152330'}\n"
     ]
    }
   ],
   "source": [
    "# 전체 상폐된 기업과 폐지된 월\n",
    "delist_total = (m_ret==-1)\n",
    "delist_temp = delist_total[delist_total==True]\n",
    "for i in range(0, len(m_pm)):\n",
    "    zero_r = set(delist_temp.iloc[i].dropna().index)\n",
    "    if zero_r:\n",
    "        print(m_pm.index[i], zero_r)"
   ]
  },
  {
   "cell_type": "code",
   "execution_count": null,
   "metadata": {},
   "outputs": [],
   "source": [
    "# sv100 중 상폐된 기업과 폐지된 월: 없음!\n",
    "for i in range(0, len(sv100_mask)):\n",
    "    zero_r = set(delist_temp.iloc[i].dropna().index)\n",
    "    sv100_index = set(sv100_mask[sv100_mask==True].iloc[i].dropna().index)\n",
    "    if sv100_index & zero_r:\n",
    "        print(sv100_mask.index[i], sv100_index & zero_r)"
   ]
  },
  {
   "cell_type": "code",
   "execution_count": null,
   "metadata": {},
   "outputs": [],
   "source": [
    "# bm100 중 상폐된 기업과 폐지된 월: 없음!\n",
    "for i in range(0, len(bm100_mask)):\n",
    "    zero_r = set(delist_temp.iloc[i].dropna().index)\n",
    "    bm100_index = set(bm100_mask[sv100_mask==True].iloc[i].dropna().index)\n",
    "    if bm100_index & zero_r:\n",
    "        print(bm100_mask.index[i], bm100_index & zero_r)"
   ]
  },
  {
   "cell_type": "code",
   "execution_count": null,
   "metadata": {},
   "outputs": [],
   "source": [
    "# 소형주의 수익률이 좋았어서 소형주 비율을 알아보기 위해 함수 정의\n",
    "def cap_quantile_check(true_false_df, m_cap, axis=1, pct=1, ascending=True, mean=False):\n",
    "    cap_quantile = m_cap.rank(axis=axis, pct=pct, ascending=ascending)[true_false_df] // 0.2\n",
    "    p = pd.Series({0.0:0, 1.0:0, 2.0:0, 3.0:0, 4.0:0})\n",
    "    for i in range(0, len(m_cap)):\n",
    "        temp = cap_quantile.iloc[i].dropna().value_counts().sort_index().astype(int)\n",
    "        p[temp.index] += temp\n",
    "    if mean:\n",
    "        p /= len(m_cap)\n",
    "    print(f'p1: {p[0]}\\np2: {p[1]}\\np3: {p[2]}\\np4: {p[3]}\\np5: {p[4]}')\n",
    "    print()"
   ]
  },
  {
   "cell_type": "code",
   "execution_count": null,
   "metadata": {},
   "outputs": [],
   "source": [
    "# 시총기준으로 5개 분위수를 나눈 뒤 상장폐지된 기업 수 비교\n",
    "# 상장폐지된 달의 시총은 nan이기 때문에 m_cap을 1 shift해서 전 달 시총 사용\n",
    "cap_quantile_check(delist_total, m_cap.shift(1), ascending=False)"
   ]
  },
  {
   "cell_type": "markdown",
   "metadata": {},
   "source": [
    "## 결과: 소형주 상장폐지가 많았다\n",
    "## value와 quality로 필터링한 뒤에는 상장폐지된 종목이 없다."
   ]
  },
  {
   "cell_type": "markdown",
   "metadata": {},
   "source": [
    "## 다른 전략 : quality 상위 40% -> value 상위 20%"
   ]
  },
  {
   "cell_type": "code",
   "execution_count": null,
   "metadata": {},
   "outputs": [],
   "source": [
    "# quality factor에서 수익률이 좋았던 1,2 분위를 대상(40%)으로 시총기준 분포 확인 (전체 달의 평균)\n",
    "quality_40 = total_qz.rank(axis=1, pct=1) < 0.4\n",
    "cap_quantile_check(quality_40, m_cap, ascending=False, mean=True)\n",
    "\n",
    "# value factor로 필터링한 뒤 시총기준 분포확인\n",
    "value_20 = total_vz[quality_40].rank(axis=1, pct=1) < 0.6\n",
    "cap_quantile_check(value_20, m_cap, mean=True)"
   ]
  },
  {
   "cell_type": "code",
   "execution_count": null,
   "metadata": {},
   "outputs": [],
   "source": [
    "# 누적수익률\n",
    "(m_ret[value_20].mean(axis=1).fillna(0)+1).cumprod()"
   ]
  },
  {
   "cell_type": "code",
   "execution_count": null,
   "metadata": {},
   "outputs": [],
   "source": [
    "value_40 = total_vz.rank(axis=1, pct=1) < 0.6\n",
    "cap_quantile_check(value_40, m_cap, ascending=True, mean=True)\n",
    "\n",
    "# value factor로 필터링한 뒤 시총기준 분포확인\n",
    "quality_20 = total_qz[quality_40].rank(axis=1, pct=1) < 0.3\n",
    "cap_quantile_check(quality_20, m_cap, ascending=False, mean=True)"
   ]
  },
  {
   "cell_type": "code",
   "execution_count": null,
   "metadata": {},
   "outputs": [],
   "source": [
    "# 누적수익률\n",
    "(m_ret[quality_20].mean(axis=1).fillna(0)+1).cumprod()"
   ]
  },
  {
   "cell_type": "markdown",
   "metadata": {},
   "source": [
    "## 결과: 잘 안나옴!"
   ]
  },
  {
   "cell_type": "code",
   "execution_count": null,
   "metadata": {},
   "outputs": [],
   "source": []
  }
 ],
 "metadata": {
  "kernelspec": {
   "display_name": "Python 3",
   "language": "python",
   "name": "python3"
  },
  "language_info": {
   "codemirror_mode": {
    "name": "ipython",
    "version": 3
   },
   "file_extension": ".py",
   "mimetype": "text/x-python",
   "name": "python",
   "nbconvert_exporter": "python",
   "pygments_lexer": "ipython3",
   "version": "3.8.3"
  }
 },
 "nbformat": 4,
 "nbformat_minor": 4
}
